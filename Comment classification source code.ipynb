{
  "nbformat": 4,
  "nbformat_minor": 0,
  "metadata": {
    "colab": {
      "provenance": [],
      "machine_shape": "hm",
      "gpuType": "T4"
    },
    "kernelspec": {
      "name": "python3",
      "display_name": "Python 3"
    },
    "language_info": {
      "name": "python"
    },
    "widgets": {
      "application/vnd.jupyter.widget-state+json": {
        "144886a537df4b60876c58000718d420": {
          "model_module": "@jupyter-widgets/controls",
          "model_name": "HBoxModel",
          "model_module_version": "1.5.0",
          "state": {
            "_dom_classes": [],
            "_model_module": "@jupyter-widgets/controls",
            "_model_module_version": "1.5.0",
            "_model_name": "HBoxModel",
            "_view_count": null,
            "_view_module": "@jupyter-widgets/controls",
            "_view_module_version": "1.5.0",
            "_view_name": "HBoxView",
            "box_style": "",
            "children": [
              "IPY_MODEL_e3de35e407cf48f0b1cbb4e5c4e785af",
              "IPY_MODEL_1017d0f22f464821a3f9f3c3b34031e6",
              "IPY_MODEL_1eba94b0aca146ac95f94d9ea87b96a6"
            ],
            "layout": "IPY_MODEL_d939dc0a87584325b602912d93f9297c"
          }
        },
        "e3de35e407cf48f0b1cbb4e5c4e785af": {
          "model_module": "@jupyter-widgets/controls",
          "model_name": "HTMLModel",
          "model_module_version": "1.5.0",
          "state": {
            "_dom_classes": [],
            "_model_module": "@jupyter-widgets/controls",
            "_model_module_version": "1.5.0",
            "_model_name": "HTMLModel",
            "_view_count": null,
            "_view_module": "@jupyter-widgets/controls",
            "_view_module_version": "1.5.0",
            "_view_name": "HTMLView",
            "description": "",
            "description_tooltip": null,
            "layout": "IPY_MODEL_b8bdd9224a524673a3fb5ec54605a3f1",
            "placeholder": "​",
            "style": "IPY_MODEL_9bf8cadc20304cffa89bf68dfb8dbfef",
            "value": "100%"
          }
        },
        "1017d0f22f464821a3f9f3c3b34031e6": {
          "model_module": "@jupyter-widgets/controls",
          "model_name": "FloatProgressModel",
          "model_module_version": "1.5.0",
          "state": {
            "_dom_classes": [],
            "_model_module": "@jupyter-widgets/controls",
            "_model_module_version": "1.5.0",
            "_model_name": "FloatProgressModel",
            "_view_count": null,
            "_view_module": "@jupyter-widgets/controls",
            "_view_module_version": "1.5.0",
            "_view_name": "ProgressView",
            "bar_style": "success",
            "description": "",
            "description_tooltip": null,
            "layout": "IPY_MODEL_93f4ebb7fc8f4abf874e0b6b1c4594ce",
            "max": 159571,
            "min": 0,
            "orientation": "horizontal",
            "style": "IPY_MODEL_e8a948f064ac425f833c25e818e40c5c",
            "value": 159571
          }
        },
        "1eba94b0aca146ac95f94d9ea87b96a6": {
          "model_module": "@jupyter-widgets/controls",
          "model_name": "HTMLModel",
          "model_module_version": "1.5.0",
          "state": {
            "_dom_classes": [],
            "_model_module": "@jupyter-widgets/controls",
            "_model_module_version": "1.5.0",
            "_model_name": "HTMLModel",
            "_view_count": null,
            "_view_module": "@jupyter-widgets/controls",
            "_view_module_version": "1.5.0",
            "_view_name": "HTMLView",
            "description": "",
            "description_tooltip": null,
            "layout": "IPY_MODEL_a18f4f6b49794c9ebd37bd006f39b455",
            "placeholder": "​",
            "style": "IPY_MODEL_dd2e5388b6554a3288af94187d5ecb98",
            "value": " 159571/159571 [02:05&lt;00:00, 1148.28it/s]"
          }
        },
        "d939dc0a87584325b602912d93f9297c": {
          "model_module": "@jupyter-widgets/base",
          "model_name": "LayoutModel",
          "model_module_version": "1.2.0",
          "state": {
            "_model_module": "@jupyter-widgets/base",
            "_model_module_version": "1.2.0",
            "_model_name": "LayoutModel",
            "_view_count": null,
            "_view_module": "@jupyter-widgets/base",
            "_view_module_version": "1.2.0",
            "_view_name": "LayoutView",
            "align_content": null,
            "align_items": null,
            "align_self": null,
            "border": null,
            "bottom": null,
            "display": null,
            "flex": null,
            "flex_flow": null,
            "grid_area": null,
            "grid_auto_columns": null,
            "grid_auto_flow": null,
            "grid_auto_rows": null,
            "grid_column": null,
            "grid_gap": null,
            "grid_row": null,
            "grid_template_areas": null,
            "grid_template_columns": null,
            "grid_template_rows": null,
            "height": null,
            "justify_content": null,
            "justify_items": null,
            "left": null,
            "margin": null,
            "max_height": null,
            "max_width": null,
            "min_height": null,
            "min_width": null,
            "object_fit": null,
            "object_position": null,
            "order": null,
            "overflow": null,
            "overflow_x": null,
            "overflow_y": null,
            "padding": null,
            "right": null,
            "top": null,
            "visibility": null,
            "width": null
          }
        },
        "b8bdd9224a524673a3fb5ec54605a3f1": {
          "model_module": "@jupyter-widgets/base",
          "model_name": "LayoutModel",
          "model_module_version": "1.2.0",
          "state": {
            "_model_module": "@jupyter-widgets/base",
            "_model_module_version": "1.2.0",
            "_model_name": "LayoutModel",
            "_view_count": null,
            "_view_module": "@jupyter-widgets/base",
            "_view_module_version": "1.2.0",
            "_view_name": "LayoutView",
            "align_content": null,
            "align_items": null,
            "align_self": null,
            "border": null,
            "bottom": null,
            "display": null,
            "flex": null,
            "flex_flow": null,
            "grid_area": null,
            "grid_auto_columns": null,
            "grid_auto_flow": null,
            "grid_auto_rows": null,
            "grid_column": null,
            "grid_gap": null,
            "grid_row": null,
            "grid_template_areas": null,
            "grid_template_columns": null,
            "grid_template_rows": null,
            "height": null,
            "justify_content": null,
            "justify_items": null,
            "left": null,
            "margin": null,
            "max_height": null,
            "max_width": null,
            "min_height": null,
            "min_width": null,
            "object_fit": null,
            "object_position": null,
            "order": null,
            "overflow": null,
            "overflow_x": null,
            "overflow_y": null,
            "padding": null,
            "right": null,
            "top": null,
            "visibility": null,
            "width": null
          }
        },
        "9bf8cadc20304cffa89bf68dfb8dbfef": {
          "model_module": "@jupyter-widgets/controls",
          "model_name": "DescriptionStyleModel",
          "model_module_version": "1.5.0",
          "state": {
            "_model_module": "@jupyter-widgets/controls",
            "_model_module_version": "1.5.0",
            "_model_name": "DescriptionStyleModel",
            "_view_count": null,
            "_view_module": "@jupyter-widgets/base",
            "_view_module_version": "1.2.0",
            "_view_name": "StyleView",
            "description_width": ""
          }
        },
        "93f4ebb7fc8f4abf874e0b6b1c4594ce": {
          "model_module": "@jupyter-widgets/base",
          "model_name": "LayoutModel",
          "model_module_version": "1.2.0",
          "state": {
            "_model_module": "@jupyter-widgets/base",
            "_model_module_version": "1.2.0",
            "_model_name": "LayoutModel",
            "_view_count": null,
            "_view_module": "@jupyter-widgets/base",
            "_view_module_version": "1.2.0",
            "_view_name": "LayoutView",
            "align_content": null,
            "align_items": null,
            "align_self": null,
            "border": null,
            "bottom": null,
            "display": null,
            "flex": null,
            "flex_flow": null,
            "grid_area": null,
            "grid_auto_columns": null,
            "grid_auto_flow": null,
            "grid_auto_rows": null,
            "grid_column": null,
            "grid_gap": null,
            "grid_row": null,
            "grid_template_areas": null,
            "grid_template_columns": null,
            "grid_template_rows": null,
            "height": null,
            "justify_content": null,
            "justify_items": null,
            "left": null,
            "margin": null,
            "max_height": null,
            "max_width": null,
            "min_height": null,
            "min_width": null,
            "object_fit": null,
            "object_position": null,
            "order": null,
            "overflow": null,
            "overflow_x": null,
            "overflow_y": null,
            "padding": null,
            "right": null,
            "top": null,
            "visibility": null,
            "width": null
          }
        },
        "e8a948f064ac425f833c25e818e40c5c": {
          "model_module": "@jupyter-widgets/controls",
          "model_name": "ProgressStyleModel",
          "model_module_version": "1.5.0",
          "state": {
            "_model_module": "@jupyter-widgets/controls",
            "_model_module_version": "1.5.0",
            "_model_name": "ProgressStyleModel",
            "_view_count": null,
            "_view_module": "@jupyter-widgets/base",
            "_view_module_version": "1.2.0",
            "_view_name": "StyleView",
            "bar_color": null,
            "description_width": ""
          }
        },
        "a18f4f6b49794c9ebd37bd006f39b455": {
          "model_module": "@jupyter-widgets/base",
          "model_name": "LayoutModel",
          "model_module_version": "1.2.0",
          "state": {
            "_model_module": "@jupyter-widgets/base",
            "_model_module_version": "1.2.0",
            "_model_name": "LayoutModel",
            "_view_count": null,
            "_view_module": "@jupyter-widgets/base",
            "_view_module_version": "1.2.0",
            "_view_name": "LayoutView",
            "align_content": null,
            "align_items": null,
            "align_self": null,
            "border": null,
            "bottom": null,
            "display": null,
            "flex": null,
            "flex_flow": null,
            "grid_area": null,
            "grid_auto_columns": null,
            "grid_auto_flow": null,
            "grid_auto_rows": null,
            "grid_column": null,
            "grid_gap": null,
            "grid_row": null,
            "grid_template_areas": null,
            "grid_template_columns": null,
            "grid_template_rows": null,
            "height": null,
            "justify_content": null,
            "justify_items": null,
            "left": null,
            "margin": null,
            "max_height": null,
            "max_width": null,
            "min_height": null,
            "min_width": null,
            "object_fit": null,
            "object_position": null,
            "order": null,
            "overflow": null,
            "overflow_x": null,
            "overflow_y": null,
            "padding": null,
            "right": null,
            "top": null,
            "visibility": null,
            "width": null
          }
        },
        "dd2e5388b6554a3288af94187d5ecb98": {
          "model_module": "@jupyter-widgets/controls",
          "model_name": "DescriptionStyleModel",
          "model_module_version": "1.5.0",
          "state": {
            "_model_module": "@jupyter-widgets/controls",
            "_model_module_version": "1.5.0",
            "_model_name": "DescriptionStyleModel",
            "_view_count": null,
            "_view_module": "@jupyter-widgets/base",
            "_view_module_version": "1.2.0",
            "_view_name": "StyleView",
            "description_width": ""
          }
        },
        "46d06eaef81c4ce1afe039947523f23b": {
          "model_module": "@jupyter-widgets/controls",
          "model_name": "HBoxModel",
          "model_module_version": "1.5.0",
          "state": {
            "_dom_classes": [],
            "_model_module": "@jupyter-widgets/controls",
            "_model_module_version": "1.5.0",
            "_model_name": "HBoxModel",
            "_view_count": null,
            "_view_module": "@jupyter-widgets/controls",
            "_view_module_version": "1.5.0",
            "_view_name": "HBoxView",
            "box_style": "",
            "children": [
              "IPY_MODEL_7dd9fd2a64374d5aafc1dea619eb72b4",
              "IPY_MODEL_6182dc548a434c01ba93db505b21157c",
              "IPY_MODEL_57f74cc9a6184e9eb436fa54dda56558"
            ],
            "layout": "IPY_MODEL_3998b0a8f50b49cf82b95fad037c2e9f"
          }
        },
        "7dd9fd2a64374d5aafc1dea619eb72b4": {
          "model_module": "@jupyter-widgets/controls",
          "model_name": "HTMLModel",
          "model_module_version": "1.5.0",
          "state": {
            "_dom_classes": [],
            "_model_module": "@jupyter-widgets/controls",
            "_model_module_version": "1.5.0",
            "_model_name": "HTMLModel",
            "_view_count": null,
            "_view_module": "@jupyter-widgets/controls",
            "_view_module_version": "1.5.0",
            "_view_name": "HTMLView",
            "description": "",
            "description_tooltip": null,
            "layout": "IPY_MODEL_1456d55d7ee94db5b218586ae3a044d3",
            "placeholder": "​",
            "style": "IPY_MODEL_b738745abc3145cbbda1c89f391f162a",
            "value": "100%"
          }
        },
        "6182dc548a434c01ba93db505b21157c": {
          "model_module": "@jupyter-widgets/controls",
          "model_name": "FloatProgressModel",
          "model_module_version": "1.5.0",
          "state": {
            "_dom_classes": [],
            "_model_module": "@jupyter-widgets/controls",
            "_model_module_version": "1.5.0",
            "_model_name": "FloatProgressModel",
            "_view_count": null,
            "_view_module": "@jupyter-widgets/controls",
            "_view_module_version": "1.5.0",
            "_view_name": "ProgressView",
            "bar_style": "success",
            "description": "",
            "description_tooltip": null,
            "layout": "IPY_MODEL_20653aba130a4c1bbb7d85ab441ebfab",
            "max": 153164,
            "min": 0,
            "orientation": "horizontal",
            "style": "IPY_MODEL_e0e0683ccb5c454b95367657f8ba97f5",
            "value": 153164
          }
        },
        "57f74cc9a6184e9eb436fa54dda56558": {
          "model_module": "@jupyter-widgets/controls",
          "model_name": "HTMLModel",
          "model_module_version": "1.5.0",
          "state": {
            "_dom_classes": [],
            "_model_module": "@jupyter-widgets/controls",
            "_model_module_version": "1.5.0",
            "_model_name": "HTMLModel",
            "_view_count": null,
            "_view_module": "@jupyter-widgets/controls",
            "_view_module_version": "1.5.0",
            "_view_name": "HTMLView",
            "description": "",
            "description_tooltip": null,
            "layout": "IPY_MODEL_55bcb8326ec048f2aa5f3a7c6eaebc06",
            "placeholder": "​",
            "style": "IPY_MODEL_d2763d4b9fd447eda66dd0cacb2f94b4",
            "value": " 153164/153164 [01:50&lt;00:00, 1176.85it/s]"
          }
        },
        "3998b0a8f50b49cf82b95fad037c2e9f": {
          "model_module": "@jupyter-widgets/base",
          "model_name": "LayoutModel",
          "model_module_version": "1.2.0",
          "state": {
            "_model_module": "@jupyter-widgets/base",
            "_model_module_version": "1.2.0",
            "_model_name": "LayoutModel",
            "_view_count": null,
            "_view_module": "@jupyter-widgets/base",
            "_view_module_version": "1.2.0",
            "_view_name": "LayoutView",
            "align_content": null,
            "align_items": null,
            "align_self": null,
            "border": null,
            "bottom": null,
            "display": null,
            "flex": null,
            "flex_flow": null,
            "grid_area": null,
            "grid_auto_columns": null,
            "grid_auto_flow": null,
            "grid_auto_rows": null,
            "grid_column": null,
            "grid_gap": null,
            "grid_row": null,
            "grid_template_areas": null,
            "grid_template_columns": null,
            "grid_template_rows": null,
            "height": null,
            "justify_content": null,
            "justify_items": null,
            "left": null,
            "margin": null,
            "max_height": null,
            "max_width": null,
            "min_height": null,
            "min_width": null,
            "object_fit": null,
            "object_position": null,
            "order": null,
            "overflow": null,
            "overflow_x": null,
            "overflow_y": null,
            "padding": null,
            "right": null,
            "top": null,
            "visibility": null,
            "width": null
          }
        },
        "1456d55d7ee94db5b218586ae3a044d3": {
          "model_module": "@jupyter-widgets/base",
          "model_name": "LayoutModel",
          "model_module_version": "1.2.0",
          "state": {
            "_model_module": "@jupyter-widgets/base",
            "_model_module_version": "1.2.0",
            "_model_name": "LayoutModel",
            "_view_count": null,
            "_view_module": "@jupyter-widgets/base",
            "_view_module_version": "1.2.0",
            "_view_name": "LayoutView",
            "align_content": null,
            "align_items": null,
            "align_self": null,
            "border": null,
            "bottom": null,
            "display": null,
            "flex": null,
            "flex_flow": null,
            "grid_area": null,
            "grid_auto_columns": null,
            "grid_auto_flow": null,
            "grid_auto_rows": null,
            "grid_column": null,
            "grid_gap": null,
            "grid_row": null,
            "grid_template_areas": null,
            "grid_template_columns": null,
            "grid_template_rows": null,
            "height": null,
            "justify_content": null,
            "justify_items": null,
            "left": null,
            "margin": null,
            "max_height": null,
            "max_width": null,
            "min_height": null,
            "min_width": null,
            "object_fit": null,
            "object_position": null,
            "order": null,
            "overflow": null,
            "overflow_x": null,
            "overflow_y": null,
            "padding": null,
            "right": null,
            "top": null,
            "visibility": null,
            "width": null
          }
        },
        "b738745abc3145cbbda1c89f391f162a": {
          "model_module": "@jupyter-widgets/controls",
          "model_name": "DescriptionStyleModel",
          "model_module_version": "1.5.0",
          "state": {
            "_model_module": "@jupyter-widgets/controls",
            "_model_module_version": "1.5.0",
            "_model_name": "DescriptionStyleModel",
            "_view_count": null,
            "_view_module": "@jupyter-widgets/base",
            "_view_module_version": "1.2.0",
            "_view_name": "StyleView",
            "description_width": ""
          }
        },
        "20653aba130a4c1bbb7d85ab441ebfab": {
          "model_module": "@jupyter-widgets/base",
          "model_name": "LayoutModel",
          "model_module_version": "1.2.0",
          "state": {
            "_model_module": "@jupyter-widgets/base",
            "_model_module_version": "1.2.0",
            "_model_name": "LayoutModel",
            "_view_count": null,
            "_view_module": "@jupyter-widgets/base",
            "_view_module_version": "1.2.0",
            "_view_name": "LayoutView",
            "align_content": null,
            "align_items": null,
            "align_self": null,
            "border": null,
            "bottom": null,
            "display": null,
            "flex": null,
            "flex_flow": null,
            "grid_area": null,
            "grid_auto_columns": null,
            "grid_auto_flow": null,
            "grid_auto_rows": null,
            "grid_column": null,
            "grid_gap": null,
            "grid_row": null,
            "grid_template_areas": null,
            "grid_template_columns": null,
            "grid_template_rows": null,
            "height": null,
            "justify_content": null,
            "justify_items": null,
            "left": null,
            "margin": null,
            "max_height": null,
            "max_width": null,
            "min_height": null,
            "min_width": null,
            "object_fit": null,
            "object_position": null,
            "order": null,
            "overflow": null,
            "overflow_x": null,
            "overflow_y": null,
            "padding": null,
            "right": null,
            "top": null,
            "visibility": null,
            "width": null
          }
        },
        "e0e0683ccb5c454b95367657f8ba97f5": {
          "model_module": "@jupyter-widgets/controls",
          "model_name": "ProgressStyleModel",
          "model_module_version": "1.5.0",
          "state": {
            "_model_module": "@jupyter-widgets/controls",
            "_model_module_version": "1.5.0",
            "_model_name": "ProgressStyleModel",
            "_view_count": null,
            "_view_module": "@jupyter-widgets/base",
            "_view_module_version": "1.2.0",
            "_view_name": "StyleView",
            "bar_color": null,
            "description_width": ""
          }
        },
        "55bcb8326ec048f2aa5f3a7c6eaebc06": {
          "model_module": "@jupyter-widgets/base",
          "model_name": "LayoutModel",
          "model_module_version": "1.2.0",
          "state": {
            "_model_module": "@jupyter-widgets/base",
            "_model_module_version": "1.2.0",
            "_model_name": "LayoutModel",
            "_view_count": null,
            "_view_module": "@jupyter-widgets/base",
            "_view_module_version": "1.2.0",
            "_view_name": "LayoutView",
            "align_content": null,
            "align_items": null,
            "align_self": null,
            "border": null,
            "bottom": null,
            "display": null,
            "flex": null,
            "flex_flow": null,
            "grid_area": null,
            "grid_auto_columns": null,
            "grid_auto_flow": null,
            "grid_auto_rows": null,
            "grid_column": null,
            "grid_gap": null,
            "grid_row": null,
            "grid_template_areas": null,
            "grid_template_columns": null,
            "grid_template_rows": null,
            "height": null,
            "justify_content": null,
            "justify_items": null,
            "left": null,
            "margin": null,
            "max_height": null,
            "max_width": null,
            "min_height": null,
            "min_width": null,
            "object_fit": null,
            "object_position": null,
            "order": null,
            "overflow": null,
            "overflow_x": null,
            "overflow_y": null,
            "padding": null,
            "right": null,
            "top": null,
            "visibility": null,
            "width": null
          }
        },
        "d2763d4b9fd447eda66dd0cacb2f94b4": {
          "model_module": "@jupyter-widgets/controls",
          "model_name": "DescriptionStyleModel",
          "model_module_version": "1.5.0",
          "state": {
            "_model_module": "@jupyter-widgets/controls",
            "_model_module_version": "1.5.0",
            "_model_name": "DescriptionStyleModel",
            "_view_count": null,
            "_view_module": "@jupyter-widgets/base",
            "_view_module_version": "1.2.0",
            "_view_name": "StyleView",
            "description_width": ""
          }
        },
        "5c64461ab7b0426da76cc28310b421be": {
          "model_module": "@jupyter-widgets/controls",
          "model_name": "HBoxModel",
          "model_module_version": "1.5.0",
          "state": {
            "_dom_classes": [],
            "_model_module": "@jupyter-widgets/controls",
            "_model_module_version": "1.5.0",
            "_model_name": "HBoxModel",
            "_view_count": null,
            "_view_module": "@jupyter-widgets/controls",
            "_view_module_version": "1.5.0",
            "_view_name": "HBoxView",
            "box_style": "",
            "children": [
              "IPY_MODEL_acdc202a4eea4bdeb13ad1f0993bbc6e",
              "IPY_MODEL_f8ff0c4f5b264de19e6019f0d7f23086",
              "IPY_MODEL_6eed4eaf6e57487da39e12709808ded5"
            ],
            "layout": "IPY_MODEL_be0ebf9f75684073bb48957cb286d469"
          }
        },
        "acdc202a4eea4bdeb13ad1f0993bbc6e": {
          "model_module": "@jupyter-widgets/controls",
          "model_name": "HTMLModel",
          "model_module_version": "1.5.0",
          "state": {
            "_dom_classes": [],
            "_model_module": "@jupyter-widgets/controls",
            "_model_module_version": "1.5.0",
            "_model_name": "HTMLModel",
            "_view_count": null,
            "_view_module": "@jupyter-widgets/controls",
            "_view_module_version": "1.5.0",
            "_view_name": "HTMLView",
            "description": "",
            "description_tooltip": null,
            "layout": "IPY_MODEL_ca073ed43c934433bbca67d8ebd04dc2",
            "placeholder": "​",
            "style": "IPY_MODEL_1cef36acb93f4fea95190d762b16e467",
            "value": "100%"
          }
        },
        "f8ff0c4f5b264de19e6019f0d7f23086": {
          "model_module": "@jupyter-widgets/controls",
          "model_name": "FloatProgressModel",
          "model_module_version": "1.5.0",
          "state": {
            "_dom_classes": [],
            "_model_module": "@jupyter-widgets/controls",
            "_model_module_version": "1.5.0",
            "_model_name": "FloatProgressModel",
            "_view_count": null,
            "_view_module": "@jupyter-widgets/controls",
            "_view_module_version": "1.5.0",
            "_view_name": "ProgressView",
            "bar_style": "success",
            "description": "",
            "description_tooltip": null,
            "layout": "IPY_MODEL_a59fb7305aac4682a52305f457d9cc1a",
            "max": 159571,
            "min": 0,
            "orientation": "horizontal",
            "style": "IPY_MODEL_4149f882e1064756962cb7a190c45c03",
            "value": 159571
          }
        },
        "6eed4eaf6e57487da39e12709808ded5": {
          "model_module": "@jupyter-widgets/controls",
          "model_name": "HTMLModel",
          "model_module_version": "1.5.0",
          "state": {
            "_dom_classes": [],
            "_model_module": "@jupyter-widgets/controls",
            "_model_module_version": "1.5.0",
            "_model_name": "HTMLModel",
            "_view_count": null,
            "_view_module": "@jupyter-widgets/controls",
            "_view_module_version": "1.5.0",
            "_view_name": "HTMLView",
            "description": "",
            "description_tooltip": null,
            "layout": "IPY_MODEL_c7f16a88efdc414abd8002c74ff753de",
            "placeholder": "​",
            "style": "IPY_MODEL_7c554056cb0147f5a072240c1b4c0643",
            "value": " 159571/159571 [00:02&lt;00:00, 60128.15it/s]"
          }
        },
        "be0ebf9f75684073bb48957cb286d469": {
          "model_module": "@jupyter-widgets/base",
          "model_name": "LayoutModel",
          "model_module_version": "1.2.0",
          "state": {
            "_model_module": "@jupyter-widgets/base",
            "_model_module_version": "1.2.0",
            "_model_name": "LayoutModel",
            "_view_count": null,
            "_view_module": "@jupyter-widgets/base",
            "_view_module_version": "1.2.0",
            "_view_name": "LayoutView",
            "align_content": null,
            "align_items": null,
            "align_self": null,
            "border": null,
            "bottom": null,
            "display": null,
            "flex": null,
            "flex_flow": null,
            "grid_area": null,
            "grid_auto_columns": null,
            "grid_auto_flow": null,
            "grid_auto_rows": null,
            "grid_column": null,
            "grid_gap": null,
            "grid_row": null,
            "grid_template_areas": null,
            "grid_template_columns": null,
            "grid_template_rows": null,
            "height": null,
            "justify_content": null,
            "justify_items": null,
            "left": null,
            "margin": null,
            "max_height": null,
            "max_width": null,
            "min_height": null,
            "min_width": null,
            "object_fit": null,
            "object_position": null,
            "order": null,
            "overflow": null,
            "overflow_x": null,
            "overflow_y": null,
            "padding": null,
            "right": null,
            "top": null,
            "visibility": null,
            "width": null
          }
        },
        "ca073ed43c934433bbca67d8ebd04dc2": {
          "model_module": "@jupyter-widgets/base",
          "model_name": "LayoutModel",
          "model_module_version": "1.2.0",
          "state": {
            "_model_module": "@jupyter-widgets/base",
            "_model_module_version": "1.2.0",
            "_model_name": "LayoutModel",
            "_view_count": null,
            "_view_module": "@jupyter-widgets/base",
            "_view_module_version": "1.2.0",
            "_view_name": "LayoutView",
            "align_content": null,
            "align_items": null,
            "align_self": null,
            "border": null,
            "bottom": null,
            "display": null,
            "flex": null,
            "flex_flow": null,
            "grid_area": null,
            "grid_auto_columns": null,
            "grid_auto_flow": null,
            "grid_auto_rows": null,
            "grid_column": null,
            "grid_gap": null,
            "grid_row": null,
            "grid_template_areas": null,
            "grid_template_columns": null,
            "grid_template_rows": null,
            "height": null,
            "justify_content": null,
            "justify_items": null,
            "left": null,
            "margin": null,
            "max_height": null,
            "max_width": null,
            "min_height": null,
            "min_width": null,
            "object_fit": null,
            "object_position": null,
            "order": null,
            "overflow": null,
            "overflow_x": null,
            "overflow_y": null,
            "padding": null,
            "right": null,
            "top": null,
            "visibility": null,
            "width": null
          }
        },
        "1cef36acb93f4fea95190d762b16e467": {
          "model_module": "@jupyter-widgets/controls",
          "model_name": "DescriptionStyleModel",
          "model_module_version": "1.5.0",
          "state": {
            "_model_module": "@jupyter-widgets/controls",
            "_model_module_version": "1.5.0",
            "_model_name": "DescriptionStyleModel",
            "_view_count": null,
            "_view_module": "@jupyter-widgets/base",
            "_view_module_version": "1.2.0",
            "_view_name": "StyleView",
            "description_width": ""
          }
        },
        "a59fb7305aac4682a52305f457d9cc1a": {
          "model_module": "@jupyter-widgets/base",
          "model_name": "LayoutModel",
          "model_module_version": "1.2.0",
          "state": {
            "_model_module": "@jupyter-widgets/base",
            "_model_module_version": "1.2.0",
            "_model_name": "LayoutModel",
            "_view_count": null,
            "_view_module": "@jupyter-widgets/base",
            "_view_module_version": "1.2.0",
            "_view_name": "LayoutView",
            "align_content": null,
            "align_items": null,
            "align_self": null,
            "border": null,
            "bottom": null,
            "display": null,
            "flex": null,
            "flex_flow": null,
            "grid_area": null,
            "grid_auto_columns": null,
            "grid_auto_flow": null,
            "grid_auto_rows": null,
            "grid_column": null,
            "grid_gap": null,
            "grid_row": null,
            "grid_template_areas": null,
            "grid_template_columns": null,
            "grid_template_rows": null,
            "height": null,
            "justify_content": null,
            "justify_items": null,
            "left": null,
            "margin": null,
            "max_height": null,
            "max_width": null,
            "min_height": null,
            "min_width": null,
            "object_fit": null,
            "object_position": null,
            "order": null,
            "overflow": null,
            "overflow_x": null,
            "overflow_y": null,
            "padding": null,
            "right": null,
            "top": null,
            "visibility": null,
            "width": null
          }
        },
        "4149f882e1064756962cb7a190c45c03": {
          "model_module": "@jupyter-widgets/controls",
          "model_name": "ProgressStyleModel",
          "model_module_version": "1.5.0",
          "state": {
            "_model_module": "@jupyter-widgets/controls",
            "_model_module_version": "1.5.0",
            "_model_name": "ProgressStyleModel",
            "_view_count": null,
            "_view_module": "@jupyter-widgets/base",
            "_view_module_version": "1.2.0",
            "_view_name": "StyleView",
            "bar_color": null,
            "description_width": ""
          }
        },
        "c7f16a88efdc414abd8002c74ff753de": {
          "model_module": "@jupyter-widgets/base",
          "model_name": "LayoutModel",
          "model_module_version": "1.2.0",
          "state": {
            "_model_module": "@jupyter-widgets/base",
            "_model_module_version": "1.2.0",
            "_model_name": "LayoutModel",
            "_view_count": null,
            "_view_module": "@jupyter-widgets/base",
            "_view_module_version": "1.2.0",
            "_view_name": "LayoutView",
            "align_content": null,
            "align_items": null,
            "align_self": null,
            "border": null,
            "bottom": null,
            "display": null,
            "flex": null,
            "flex_flow": null,
            "grid_area": null,
            "grid_auto_columns": null,
            "grid_auto_flow": null,
            "grid_auto_rows": null,
            "grid_column": null,
            "grid_gap": null,
            "grid_row": null,
            "grid_template_areas": null,
            "grid_template_columns": null,
            "grid_template_rows": null,
            "height": null,
            "justify_content": null,
            "justify_items": null,
            "left": null,
            "margin": null,
            "max_height": null,
            "max_width": null,
            "min_height": null,
            "min_width": null,
            "object_fit": null,
            "object_position": null,
            "order": null,
            "overflow": null,
            "overflow_x": null,
            "overflow_y": null,
            "padding": null,
            "right": null,
            "top": null,
            "visibility": null,
            "width": null
          }
        },
        "7c554056cb0147f5a072240c1b4c0643": {
          "model_module": "@jupyter-widgets/controls",
          "model_name": "DescriptionStyleModel",
          "model_module_version": "1.5.0",
          "state": {
            "_model_module": "@jupyter-widgets/controls",
            "_model_module_version": "1.5.0",
            "_model_name": "DescriptionStyleModel",
            "_view_count": null,
            "_view_module": "@jupyter-widgets/base",
            "_view_module_version": "1.2.0",
            "_view_name": "StyleView",
            "description_width": ""
          }
        },
        "38f9fd13dbee485f83420dfe5338fbff": {
          "model_module": "@jupyter-widgets/controls",
          "model_name": "HBoxModel",
          "model_module_version": "1.5.0",
          "state": {
            "_dom_classes": [],
            "_model_module": "@jupyter-widgets/controls",
            "_model_module_version": "1.5.0",
            "_model_name": "HBoxModel",
            "_view_count": null,
            "_view_module": "@jupyter-widgets/controls",
            "_view_module_version": "1.5.0",
            "_view_name": "HBoxView",
            "box_style": "",
            "children": [
              "IPY_MODEL_cd96a2a0f9c34daeb701bc40e4d4108c",
              "IPY_MODEL_f00738845d5e4f2ab236434093ce38f4",
              "IPY_MODEL_98bd88179a874a32941c9b203f28c96f"
            ],
            "layout": "IPY_MODEL_7c788fdbdcad48929430f51358597e1a"
          }
        },
        "cd96a2a0f9c34daeb701bc40e4d4108c": {
          "model_module": "@jupyter-widgets/controls",
          "model_name": "HTMLModel",
          "model_module_version": "1.5.0",
          "state": {
            "_dom_classes": [],
            "_model_module": "@jupyter-widgets/controls",
            "_model_module_version": "1.5.0",
            "_model_name": "HTMLModel",
            "_view_count": null,
            "_view_module": "@jupyter-widgets/controls",
            "_view_module_version": "1.5.0",
            "_view_name": "HTMLView",
            "description": "",
            "description_tooltip": null,
            "layout": "IPY_MODEL_e7095b49c6ad49f4a90dcbe759141fbd",
            "placeholder": "​",
            "style": "IPY_MODEL_24a6f85d18904f95aeb0dd8b287af89b",
            "value": "100%"
          }
        },
        "f00738845d5e4f2ab236434093ce38f4": {
          "model_module": "@jupyter-widgets/controls",
          "model_name": "FloatProgressModel",
          "model_module_version": "1.5.0",
          "state": {
            "_dom_classes": [],
            "_model_module": "@jupyter-widgets/controls",
            "_model_module_version": "1.5.0",
            "_model_name": "FloatProgressModel",
            "_view_count": null,
            "_view_module": "@jupyter-widgets/controls",
            "_view_module_version": "1.5.0",
            "_view_name": "ProgressView",
            "bar_style": "success",
            "description": "",
            "description_tooltip": null,
            "layout": "IPY_MODEL_abe1dcb992ca4e36a29e3fd50088ef3f",
            "max": 159571,
            "min": 0,
            "orientation": "horizontal",
            "style": "IPY_MODEL_ae497674f8784b0aa484207f2a2b36ea",
            "value": 159571
          }
        },
        "98bd88179a874a32941c9b203f28c96f": {
          "model_module": "@jupyter-widgets/controls",
          "model_name": "HTMLModel",
          "model_module_version": "1.5.0",
          "state": {
            "_dom_classes": [],
            "_model_module": "@jupyter-widgets/controls",
            "_model_module_version": "1.5.0",
            "_model_name": "HTMLModel",
            "_view_count": null,
            "_view_module": "@jupyter-widgets/controls",
            "_view_module_version": "1.5.0",
            "_view_name": "HTMLView",
            "description": "",
            "description_tooltip": null,
            "layout": "IPY_MODEL_7616a32dc640478b82e5f52d4c2ce7f2",
            "placeholder": "​",
            "style": "IPY_MODEL_afb48d8303bd410b8f341334950ee305",
            "value": " 159571/159571 [00:02&lt;00:00, 71615.02it/s]"
          }
        },
        "7c788fdbdcad48929430f51358597e1a": {
          "model_module": "@jupyter-widgets/base",
          "model_name": "LayoutModel",
          "model_module_version": "1.2.0",
          "state": {
            "_model_module": "@jupyter-widgets/base",
            "_model_module_version": "1.2.0",
            "_model_name": "LayoutModel",
            "_view_count": null,
            "_view_module": "@jupyter-widgets/base",
            "_view_module_version": "1.2.0",
            "_view_name": "LayoutView",
            "align_content": null,
            "align_items": null,
            "align_self": null,
            "border": null,
            "bottom": null,
            "display": null,
            "flex": null,
            "flex_flow": null,
            "grid_area": null,
            "grid_auto_columns": null,
            "grid_auto_flow": null,
            "grid_auto_rows": null,
            "grid_column": null,
            "grid_gap": null,
            "grid_row": null,
            "grid_template_areas": null,
            "grid_template_columns": null,
            "grid_template_rows": null,
            "height": null,
            "justify_content": null,
            "justify_items": null,
            "left": null,
            "margin": null,
            "max_height": null,
            "max_width": null,
            "min_height": null,
            "min_width": null,
            "object_fit": null,
            "object_position": null,
            "order": null,
            "overflow": null,
            "overflow_x": null,
            "overflow_y": null,
            "padding": null,
            "right": null,
            "top": null,
            "visibility": null,
            "width": null
          }
        },
        "e7095b49c6ad49f4a90dcbe759141fbd": {
          "model_module": "@jupyter-widgets/base",
          "model_name": "LayoutModel",
          "model_module_version": "1.2.0",
          "state": {
            "_model_module": "@jupyter-widgets/base",
            "_model_module_version": "1.2.0",
            "_model_name": "LayoutModel",
            "_view_count": null,
            "_view_module": "@jupyter-widgets/base",
            "_view_module_version": "1.2.0",
            "_view_name": "LayoutView",
            "align_content": null,
            "align_items": null,
            "align_self": null,
            "border": null,
            "bottom": null,
            "display": null,
            "flex": null,
            "flex_flow": null,
            "grid_area": null,
            "grid_auto_columns": null,
            "grid_auto_flow": null,
            "grid_auto_rows": null,
            "grid_column": null,
            "grid_gap": null,
            "grid_row": null,
            "grid_template_areas": null,
            "grid_template_columns": null,
            "grid_template_rows": null,
            "height": null,
            "justify_content": null,
            "justify_items": null,
            "left": null,
            "margin": null,
            "max_height": null,
            "max_width": null,
            "min_height": null,
            "min_width": null,
            "object_fit": null,
            "object_position": null,
            "order": null,
            "overflow": null,
            "overflow_x": null,
            "overflow_y": null,
            "padding": null,
            "right": null,
            "top": null,
            "visibility": null,
            "width": null
          }
        },
        "24a6f85d18904f95aeb0dd8b287af89b": {
          "model_module": "@jupyter-widgets/controls",
          "model_name": "DescriptionStyleModel",
          "model_module_version": "1.5.0",
          "state": {
            "_model_module": "@jupyter-widgets/controls",
            "_model_module_version": "1.5.0",
            "_model_name": "DescriptionStyleModel",
            "_view_count": null,
            "_view_module": "@jupyter-widgets/base",
            "_view_module_version": "1.2.0",
            "_view_name": "StyleView",
            "description_width": ""
          }
        },
        "abe1dcb992ca4e36a29e3fd50088ef3f": {
          "model_module": "@jupyter-widgets/base",
          "model_name": "LayoutModel",
          "model_module_version": "1.2.0",
          "state": {
            "_model_module": "@jupyter-widgets/base",
            "_model_module_version": "1.2.0",
            "_model_name": "LayoutModel",
            "_view_count": null,
            "_view_module": "@jupyter-widgets/base",
            "_view_module_version": "1.2.0",
            "_view_name": "LayoutView",
            "align_content": null,
            "align_items": null,
            "align_self": null,
            "border": null,
            "bottom": null,
            "display": null,
            "flex": null,
            "flex_flow": null,
            "grid_area": null,
            "grid_auto_columns": null,
            "grid_auto_flow": null,
            "grid_auto_rows": null,
            "grid_column": null,
            "grid_gap": null,
            "grid_row": null,
            "grid_template_areas": null,
            "grid_template_columns": null,
            "grid_template_rows": null,
            "height": null,
            "justify_content": null,
            "justify_items": null,
            "left": null,
            "margin": null,
            "max_height": null,
            "max_width": null,
            "min_height": null,
            "min_width": null,
            "object_fit": null,
            "object_position": null,
            "order": null,
            "overflow": null,
            "overflow_x": null,
            "overflow_y": null,
            "padding": null,
            "right": null,
            "top": null,
            "visibility": null,
            "width": null
          }
        },
        "ae497674f8784b0aa484207f2a2b36ea": {
          "model_module": "@jupyter-widgets/controls",
          "model_name": "ProgressStyleModel",
          "model_module_version": "1.5.0",
          "state": {
            "_model_module": "@jupyter-widgets/controls",
            "_model_module_version": "1.5.0",
            "_model_name": "ProgressStyleModel",
            "_view_count": null,
            "_view_module": "@jupyter-widgets/base",
            "_view_module_version": "1.2.0",
            "_view_name": "StyleView",
            "bar_color": null,
            "description_width": ""
          }
        },
        "7616a32dc640478b82e5f52d4c2ce7f2": {
          "model_module": "@jupyter-widgets/base",
          "model_name": "LayoutModel",
          "model_module_version": "1.2.0",
          "state": {
            "_model_module": "@jupyter-widgets/base",
            "_model_module_version": "1.2.0",
            "_model_name": "LayoutModel",
            "_view_count": null,
            "_view_module": "@jupyter-widgets/base",
            "_view_module_version": "1.2.0",
            "_view_name": "LayoutView",
            "align_content": null,
            "align_items": null,
            "align_self": null,
            "border": null,
            "bottom": null,
            "display": null,
            "flex": null,
            "flex_flow": null,
            "grid_area": null,
            "grid_auto_columns": null,
            "grid_auto_flow": null,
            "grid_auto_rows": null,
            "grid_column": null,
            "grid_gap": null,
            "grid_row": null,
            "grid_template_areas": null,
            "grid_template_columns": null,
            "grid_template_rows": null,
            "height": null,
            "justify_content": null,
            "justify_items": null,
            "left": null,
            "margin": null,
            "max_height": null,
            "max_width": null,
            "min_height": null,
            "min_width": null,
            "object_fit": null,
            "object_position": null,
            "order": null,
            "overflow": null,
            "overflow_x": null,
            "overflow_y": null,
            "padding": null,
            "right": null,
            "top": null,
            "visibility": null,
            "width": null
          }
        },
        "afb48d8303bd410b8f341334950ee305": {
          "model_module": "@jupyter-widgets/controls",
          "model_name": "DescriptionStyleModel",
          "model_module_version": "1.5.0",
          "state": {
            "_model_module": "@jupyter-widgets/controls",
            "_model_module_version": "1.5.0",
            "_model_name": "DescriptionStyleModel",
            "_view_count": null,
            "_view_module": "@jupyter-widgets/base",
            "_view_module_version": "1.2.0",
            "_view_name": "StyleView",
            "description_width": ""
          }
        },
        "43c0063f6a424903a06ed369251ba811": {
          "model_module": "@jupyter-widgets/controls",
          "model_name": "HBoxModel",
          "model_module_version": "1.5.0",
          "state": {
            "_dom_classes": [],
            "_model_module": "@jupyter-widgets/controls",
            "_model_module_version": "1.5.0",
            "_model_name": "HBoxModel",
            "_view_count": null,
            "_view_module": "@jupyter-widgets/controls",
            "_view_module_version": "1.5.0",
            "_view_name": "HBoxView",
            "box_style": "",
            "children": [
              "IPY_MODEL_ee9ae5051dbc462c9c4342e04d678929",
              "IPY_MODEL_27b61c41f3a749ba8e5253d44073cacb",
              "IPY_MODEL_32ca9adf425a4dfe833f2382940b189f"
            ],
            "layout": "IPY_MODEL_3aa7017e56be491b915624bd771c2e8e"
          }
        },
        "ee9ae5051dbc462c9c4342e04d678929": {
          "model_module": "@jupyter-widgets/controls",
          "model_name": "HTMLModel",
          "model_module_version": "1.5.0",
          "state": {
            "_dom_classes": [],
            "_model_module": "@jupyter-widgets/controls",
            "_model_module_version": "1.5.0",
            "_model_name": "HTMLModel",
            "_view_count": null,
            "_view_module": "@jupyter-widgets/controls",
            "_view_module_version": "1.5.0",
            "_view_name": "HTMLView",
            "description": "",
            "description_tooltip": null,
            "layout": "IPY_MODEL_6595bada0bd048fbba62995ea0f0a6dc",
            "placeholder": "​",
            "style": "IPY_MODEL_5ba3d33d29ca4ffbada0ebfef213b6f8",
            "value": "100%"
          }
        },
        "27b61c41f3a749ba8e5253d44073cacb": {
          "model_module": "@jupyter-widgets/controls",
          "model_name": "FloatProgressModel",
          "model_module_version": "1.5.0",
          "state": {
            "_dom_classes": [],
            "_model_module": "@jupyter-widgets/controls",
            "_model_module_version": "1.5.0",
            "_model_name": "FloatProgressModel",
            "_view_count": null,
            "_view_module": "@jupyter-widgets/controls",
            "_view_module_version": "1.5.0",
            "_view_name": "ProgressView",
            "bar_style": "success",
            "description": "",
            "description_tooltip": null,
            "layout": "IPY_MODEL_6955e455c99a4402a5c4a8f1939a4521",
            "max": 153164,
            "min": 0,
            "orientation": "horizontal",
            "style": "IPY_MODEL_589ab52bcf0848739ca2f5a91fa2aff6",
            "value": 153164
          }
        },
        "32ca9adf425a4dfe833f2382940b189f": {
          "model_module": "@jupyter-widgets/controls",
          "model_name": "HTMLModel",
          "model_module_version": "1.5.0",
          "state": {
            "_dom_classes": [],
            "_model_module": "@jupyter-widgets/controls",
            "_model_module_version": "1.5.0",
            "_model_name": "HTMLModel",
            "_view_count": null,
            "_view_module": "@jupyter-widgets/controls",
            "_view_module_version": "1.5.0",
            "_view_name": "HTMLView",
            "description": "",
            "description_tooltip": null,
            "layout": "IPY_MODEL_7bfb78157c374de4b66e802017ccb816",
            "placeholder": "​",
            "style": "IPY_MODEL_52d3355567584e44b09f7105bd11c510",
            "value": " 153164/153164 [00:02&lt;00:00, 76810.71it/s]"
          }
        },
        "3aa7017e56be491b915624bd771c2e8e": {
          "model_module": "@jupyter-widgets/base",
          "model_name": "LayoutModel",
          "model_module_version": "1.2.0",
          "state": {
            "_model_module": "@jupyter-widgets/base",
            "_model_module_version": "1.2.0",
            "_model_name": "LayoutModel",
            "_view_count": null,
            "_view_module": "@jupyter-widgets/base",
            "_view_module_version": "1.2.0",
            "_view_name": "LayoutView",
            "align_content": null,
            "align_items": null,
            "align_self": null,
            "border": null,
            "bottom": null,
            "display": null,
            "flex": null,
            "flex_flow": null,
            "grid_area": null,
            "grid_auto_columns": null,
            "grid_auto_flow": null,
            "grid_auto_rows": null,
            "grid_column": null,
            "grid_gap": null,
            "grid_row": null,
            "grid_template_areas": null,
            "grid_template_columns": null,
            "grid_template_rows": null,
            "height": null,
            "justify_content": null,
            "justify_items": null,
            "left": null,
            "margin": null,
            "max_height": null,
            "max_width": null,
            "min_height": null,
            "min_width": null,
            "object_fit": null,
            "object_position": null,
            "order": null,
            "overflow": null,
            "overflow_x": null,
            "overflow_y": null,
            "padding": null,
            "right": null,
            "top": null,
            "visibility": null,
            "width": null
          }
        },
        "6595bada0bd048fbba62995ea0f0a6dc": {
          "model_module": "@jupyter-widgets/base",
          "model_name": "LayoutModel",
          "model_module_version": "1.2.0",
          "state": {
            "_model_module": "@jupyter-widgets/base",
            "_model_module_version": "1.2.0",
            "_model_name": "LayoutModel",
            "_view_count": null,
            "_view_module": "@jupyter-widgets/base",
            "_view_module_version": "1.2.0",
            "_view_name": "LayoutView",
            "align_content": null,
            "align_items": null,
            "align_self": null,
            "border": null,
            "bottom": null,
            "display": null,
            "flex": null,
            "flex_flow": null,
            "grid_area": null,
            "grid_auto_columns": null,
            "grid_auto_flow": null,
            "grid_auto_rows": null,
            "grid_column": null,
            "grid_gap": null,
            "grid_row": null,
            "grid_template_areas": null,
            "grid_template_columns": null,
            "grid_template_rows": null,
            "height": null,
            "justify_content": null,
            "justify_items": null,
            "left": null,
            "margin": null,
            "max_height": null,
            "max_width": null,
            "min_height": null,
            "min_width": null,
            "object_fit": null,
            "object_position": null,
            "order": null,
            "overflow": null,
            "overflow_x": null,
            "overflow_y": null,
            "padding": null,
            "right": null,
            "top": null,
            "visibility": null,
            "width": null
          }
        },
        "5ba3d33d29ca4ffbada0ebfef213b6f8": {
          "model_module": "@jupyter-widgets/controls",
          "model_name": "DescriptionStyleModel",
          "model_module_version": "1.5.0",
          "state": {
            "_model_module": "@jupyter-widgets/controls",
            "_model_module_version": "1.5.0",
            "_model_name": "DescriptionStyleModel",
            "_view_count": null,
            "_view_module": "@jupyter-widgets/base",
            "_view_module_version": "1.2.0",
            "_view_name": "StyleView",
            "description_width": ""
          }
        },
        "6955e455c99a4402a5c4a8f1939a4521": {
          "model_module": "@jupyter-widgets/base",
          "model_name": "LayoutModel",
          "model_module_version": "1.2.0",
          "state": {
            "_model_module": "@jupyter-widgets/base",
            "_model_module_version": "1.2.0",
            "_model_name": "LayoutModel",
            "_view_count": null,
            "_view_module": "@jupyter-widgets/base",
            "_view_module_version": "1.2.0",
            "_view_name": "LayoutView",
            "align_content": null,
            "align_items": null,
            "align_self": null,
            "border": null,
            "bottom": null,
            "display": null,
            "flex": null,
            "flex_flow": null,
            "grid_area": null,
            "grid_auto_columns": null,
            "grid_auto_flow": null,
            "grid_auto_rows": null,
            "grid_column": null,
            "grid_gap": null,
            "grid_row": null,
            "grid_template_areas": null,
            "grid_template_columns": null,
            "grid_template_rows": null,
            "height": null,
            "justify_content": null,
            "justify_items": null,
            "left": null,
            "margin": null,
            "max_height": null,
            "max_width": null,
            "min_height": null,
            "min_width": null,
            "object_fit": null,
            "object_position": null,
            "order": null,
            "overflow": null,
            "overflow_x": null,
            "overflow_y": null,
            "padding": null,
            "right": null,
            "top": null,
            "visibility": null,
            "width": null
          }
        },
        "589ab52bcf0848739ca2f5a91fa2aff6": {
          "model_module": "@jupyter-widgets/controls",
          "model_name": "ProgressStyleModel",
          "model_module_version": "1.5.0",
          "state": {
            "_model_module": "@jupyter-widgets/controls",
            "_model_module_version": "1.5.0",
            "_model_name": "ProgressStyleModel",
            "_view_count": null,
            "_view_module": "@jupyter-widgets/base",
            "_view_module_version": "1.2.0",
            "_view_name": "StyleView",
            "bar_color": null,
            "description_width": ""
          }
        },
        "7bfb78157c374de4b66e802017ccb816": {
          "model_module": "@jupyter-widgets/base",
          "model_name": "LayoutModel",
          "model_module_version": "1.2.0",
          "state": {
            "_model_module": "@jupyter-widgets/base",
            "_model_module_version": "1.2.0",
            "_model_name": "LayoutModel",
            "_view_count": null,
            "_view_module": "@jupyter-widgets/base",
            "_view_module_version": "1.2.0",
            "_view_name": "LayoutView",
            "align_content": null,
            "align_items": null,
            "align_self": null,
            "border": null,
            "bottom": null,
            "display": null,
            "flex": null,
            "flex_flow": null,
            "grid_area": null,
            "grid_auto_columns": null,
            "grid_auto_flow": null,
            "grid_auto_rows": null,
            "grid_column": null,
            "grid_gap": null,
            "grid_row": null,
            "grid_template_areas": null,
            "grid_template_columns": null,
            "grid_template_rows": null,
            "height": null,
            "justify_content": null,
            "justify_items": null,
            "left": null,
            "margin": null,
            "max_height": null,
            "max_width": null,
            "min_height": null,
            "min_width": null,
            "object_fit": null,
            "object_position": null,
            "order": null,
            "overflow": null,
            "overflow_x": null,
            "overflow_y": null,
            "padding": null,
            "right": null,
            "top": null,
            "visibility": null,
            "width": null
          }
        },
        "52d3355567584e44b09f7105bd11c510": {
          "model_module": "@jupyter-widgets/controls",
          "model_name": "DescriptionStyleModel",
          "model_module_version": "1.5.0",
          "state": {
            "_model_module": "@jupyter-widgets/controls",
            "_model_module_version": "1.5.0",
            "_model_name": "DescriptionStyleModel",
            "_view_count": null,
            "_view_module": "@jupyter-widgets/base",
            "_view_module_version": "1.2.0",
            "_view_name": "StyleView",
            "description_width": ""
          }
        }
      }
    },
    "accelerator": "GPU",
    "gpuClass": "standard"
  },
  "cells": [
    {
      "cell_type": "markdown",
      "source": [
        "# Importing Libraries"
      ],
      "metadata": {
        "id": "vWQ1ZbtS2iHC"
      }
    },
    {
      "cell_type": "code",
      "execution_count": 1,
      "metadata": {
        "colab": {
          "base_uri": "https://localhost:8080/"
        },
        "id": "wjKNk8tP15go",
        "outputId": "e7650e70-f39b-4302-cc6f-e5995c70316d"
      },
      "outputs": [
        {
          "output_type": "stream",
          "name": "stdout",
          "text": [
            "Mounted at /content/drive\n"
          ]
        }
      ],
      "source": [
        "from google.colab import drive\n",
        "drive.mount('/content/drive')"
      ]
    },
    {
      "cell_type": "code",
      "source": [
        "! pip install talos"
      ],
      "metadata": {
        "colab": {
          "base_uri": "https://localhost:8080/"
        },
        "id": "D1052kei174L",
        "outputId": "8170d5f8-4864-49b7-ca58-4b513c21d9fa"
      },
      "execution_count": 2,
      "outputs": [
        {
          "output_type": "stream",
          "name": "stdout",
          "text": [
            "Looking in indexes: https://pypi.org/simple, https://us-python.pkg.dev/colab-wheels/public/simple/\n",
            "Collecting talos\n",
            "  Downloading talos-1.3-py3-none-any.whl (56 kB)\n",
            "\u001b[2K     \u001b[90m━━━━━━━━━━━━━━━━━━━━━━━━━━━━━━━━━━━━━━━━\u001b[0m \u001b[32m56.4/56.4 kB\u001b[0m \u001b[31m2.3 MB/s\u001b[0m eta \u001b[36m0:00:00\u001b[0m\n",
            "\u001b[?25hRequirement already satisfied: tensorflow>=2.0.0 in /usr/local/lib/python3.9/dist-packages (from talos) (2.12.0)\n",
            "Requirement already satisfied: pandas in /usr/local/lib/python3.9/dist-packages (from talos) (1.5.3)\n",
            "Collecting kerasplotlib\n",
            "  Downloading kerasplotlib-1.0-py3-none-any.whl (4.3 kB)\n",
            "Requirement already satisfied: numpy in /usr/local/lib/python3.9/dist-packages (from talos) (1.22.4)\n",
            "Collecting astetik\n",
            "  Downloading astetik-1.13-py3-none-any.whl (5.4 MB)\n",
            "\u001b[2K     \u001b[90m━━━━━━━━━━━━━━━━━━━━━━━━━━━━━━━━━━━━━━━━\u001b[0m \u001b[32m5.4/5.4 MB\u001b[0m \u001b[31m8.2 MB/s\u001b[0m eta \u001b[36m0:00:00\u001b[0m\n",
            "\u001b[?25hCollecting chances\n",
            "  Downloading chances-0.1.9.tar.gz (35 kB)\n",
            "  Preparing metadata (setup.py) ... \u001b[?25l\u001b[?25hdone\n",
            "Requirement already satisfied: requests in /usr/local/lib/python3.9/dist-packages (from talos) (2.27.1)\n",
            "Requirement already satisfied: statsmodels>=0.11.0 in /usr/local/lib/python3.9/dist-packages (from talos) (0.13.5)\n",
            "Collecting sklearn\n",
            "  Downloading sklearn-0.0.post4.tar.gz (3.6 kB)\n",
            "  Preparing metadata (setup.py) ... \u001b[?25l\u001b[?25hdone\n",
            "Requirement already satisfied: tqdm in /usr/local/lib/python3.9/dist-packages (from talos) (4.65.0)\n",
            "Collecting wrangle\n",
            "  Downloading wrangle-0.7.2-py3-none-any.whl (52 kB)\n",
            "\u001b[2K     \u001b[90m━━━━━━━━━━━━━━━━━━━━━━━━━━━━━━━━━━━━━━━━\u001b[0m \u001b[32m52.3/52.3 kB\u001b[0m \u001b[31m6.6 MB/s\u001b[0m eta \u001b[36m0:00:00\u001b[0m\n",
            "\u001b[?25hRequirement already satisfied: scipy>=1.3 in /usr/local/lib/python3.9/dist-packages (from statsmodels>=0.11.0->talos) (1.10.1)\n",
            "Requirement already satisfied: patsy>=0.5.2 in /usr/local/lib/python3.9/dist-packages (from statsmodels>=0.11.0->talos) (0.5.3)\n",
            "Requirement already satisfied: packaging>=21.3 in /usr/local/lib/python3.9/dist-packages (from statsmodels>=0.11.0->talos) (23.1)\n",
            "Requirement already satisfied: pytz>=2020.1 in /usr/local/lib/python3.9/dist-packages (from pandas->talos) (2022.7.1)\n",
            "Requirement already satisfied: python-dateutil>=2.8.1 in /usr/local/lib/python3.9/dist-packages (from pandas->talos) (2.8.2)\n",
            "Requirement already satisfied: grpcio<2.0,>=1.24.3 in /usr/local/lib/python3.9/dist-packages (from tensorflow>=2.0.0->talos) (1.53.0)\n",
            "Requirement already satisfied: jax>=0.3.15 in /usr/local/lib/python3.9/dist-packages (from tensorflow>=2.0.0->talos) (0.4.8)\n",
            "Requirement already satisfied: wrapt<1.15,>=1.11.0 in /usr/local/lib/python3.9/dist-packages (from tensorflow>=2.0.0->talos) (1.14.1)\n",
            "Requirement already satisfied: setuptools in /usr/local/lib/python3.9/dist-packages (from tensorflow>=2.0.0->talos) (67.7.1)\n",
            "Requirement already satisfied: termcolor>=1.1.0 in /usr/local/lib/python3.9/dist-packages (from tensorflow>=2.0.0->talos) (2.2.0)\n",
            "Requirement already satisfied: typing-extensions>=3.6.6 in /usr/local/lib/python3.9/dist-packages (from tensorflow>=2.0.0->talos) (4.5.0)\n",
            "Requirement already satisfied: protobuf!=4.21.0,!=4.21.1,!=4.21.2,!=4.21.3,!=4.21.4,!=4.21.5,<5.0.0dev,>=3.20.3 in /usr/local/lib/python3.9/dist-packages (from tensorflow>=2.0.0->talos) (3.20.3)\n",
            "Requirement already satisfied: six>=1.12.0 in /usr/local/lib/python3.9/dist-packages (from tensorflow>=2.0.0->talos) (1.16.0)\n",
            "Requirement already satisfied: absl-py>=1.0.0 in /usr/local/lib/python3.9/dist-packages (from tensorflow>=2.0.0->talos) (1.4.0)\n",
            "Requirement already satisfied: astunparse>=1.6.0 in /usr/local/lib/python3.9/dist-packages (from tensorflow>=2.0.0->talos) (1.6.3)\n",
            "Requirement already satisfied: libclang>=13.0.0 in /usr/local/lib/python3.9/dist-packages (from tensorflow>=2.0.0->talos) (16.0.0)\n",
            "Requirement already satisfied: tensorflow-estimator<2.13,>=2.12.0 in /usr/local/lib/python3.9/dist-packages (from tensorflow>=2.0.0->talos) (2.12.0)\n",
            "Requirement already satisfied: flatbuffers>=2.0 in /usr/local/lib/python3.9/dist-packages (from tensorflow>=2.0.0->talos) (23.3.3)\n",
            "Requirement already satisfied: gast<=0.4.0,>=0.2.1 in /usr/local/lib/python3.9/dist-packages (from tensorflow>=2.0.0->talos) (0.4.0)\n",
            "Requirement already satisfied: tensorboard<2.13,>=2.12 in /usr/local/lib/python3.9/dist-packages (from tensorflow>=2.0.0->talos) (2.12.2)\n",
            "Requirement already satisfied: keras<2.13,>=2.12.0 in /usr/local/lib/python3.9/dist-packages (from tensorflow>=2.0.0->talos) (2.12.0)\n",
            "Requirement already satisfied: tensorflow-io-gcs-filesystem>=0.23.1 in /usr/local/lib/python3.9/dist-packages (from tensorflow>=2.0.0->talos) (0.32.0)\n",
            "Requirement already satisfied: h5py>=2.9.0 in /usr/local/lib/python3.9/dist-packages (from tensorflow>=2.0.0->talos) (3.8.0)\n",
            "Requirement already satisfied: opt-einsum>=2.3.2 in /usr/local/lib/python3.9/dist-packages (from tensorflow>=2.0.0->talos) (3.3.0)\n",
            "Requirement already satisfied: google-pasta>=0.1.1 in /usr/local/lib/python3.9/dist-packages (from tensorflow>=2.0.0->talos) (0.2.0)\n",
            "Requirement already satisfied: seaborn in /usr/local/lib/python3.9/dist-packages (from astetik->talos) (0.12.2)\n",
            "Requirement already satisfied: IPython in /usr/local/lib/python3.9/dist-packages (from astetik->talos) (7.34.0)\n",
            "Collecting geonamescache\n",
            "  Downloading geonamescache-1.6.0-py3-none-any.whl (26.6 MB)\n",
            "\u001b[2K     \u001b[90m━━━━━━━━━━━━━━━━━━━━━━━━━━━━━━━━━━━━━━━━\u001b[0m \u001b[32m26.6/26.6 MB\u001b[0m \u001b[31m24.8 MB/s\u001b[0m eta \u001b[36m0:00:00\u001b[0m\n",
            "\u001b[?25hRequirement already satisfied: matplotlib in /usr/local/lib/python3.9/dist-packages (from kerasplotlib->talos) (3.7.1)\n",
            "Requirement already satisfied: idna<4,>=2.5 in /usr/local/lib/python3.9/dist-packages (from requests->talos) (3.4)\n",
            "Requirement already satisfied: certifi>=2017.4.17 in /usr/local/lib/python3.9/dist-packages (from requests->talos) (2022.12.7)\n",
            "Requirement already satisfied: urllib3<1.27,>=1.21.1 in /usr/local/lib/python3.9/dist-packages (from requests->talos) (1.26.15)\n",
            "Requirement already satisfied: charset-normalizer~=2.0.0 in /usr/local/lib/python3.9/dist-packages (from requests->talos) (2.0.12)\n",
            "Requirement already satisfied: wheel<1.0,>=0.23.0 in /usr/local/lib/python3.9/dist-packages (from astunparse>=1.6.0->tensorflow>=2.0.0->talos) (0.40.0)\n",
            "Requirement already satisfied: ml-dtypes>=0.0.3 in /usr/local/lib/python3.9/dist-packages (from jax>=0.3.15->tensorflow>=2.0.0->talos) (0.1.0)\n",
            "Requirement already satisfied: werkzeug>=1.0.1 in /usr/local/lib/python3.9/dist-packages (from tensorboard<2.13,>=2.12->tensorflow>=2.0.0->talos) (2.2.3)\n",
            "Requirement already satisfied: google-auth<3,>=1.6.3 in /usr/local/lib/python3.9/dist-packages (from tensorboard<2.13,>=2.12->tensorflow>=2.0.0->talos) (2.17.3)\n",
            "Requirement already satisfied: tensorboard-data-server<0.8.0,>=0.7.0 in /usr/local/lib/python3.9/dist-packages (from tensorboard<2.13,>=2.12->tensorflow>=2.0.0->talos) (0.7.0)\n",
            "Requirement already satisfied: google-auth-oauthlib<1.1,>=0.5 in /usr/local/lib/python3.9/dist-packages (from tensorboard<2.13,>=2.12->tensorflow>=2.0.0->talos) (1.0.0)\n",
            "Requirement already satisfied: tensorboard-plugin-wit>=1.6.0 in /usr/local/lib/python3.9/dist-packages (from tensorboard<2.13,>=2.12->tensorflow>=2.0.0->talos) (1.8.1)\n",
            "Requirement already satisfied: markdown>=2.6.8 in /usr/local/lib/python3.9/dist-packages (from tensorboard<2.13,>=2.12->tensorflow>=2.0.0->talos) (3.4.3)\n",
            "Requirement already satisfied: pickleshare in /usr/local/lib/python3.9/dist-packages (from IPython->astetik->talos) (0.7.5)\n",
            "Requirement already satisfied: pygments in /usr/local/lib/python3.9/dist-packages (from IPython->astetik->talos) (2.14.0)\n",
            "Requirement already satisfied: backcall in /usr/local/lib/python3.9/dist-packages (from IPython->astetik->talos) (0.2.0)\n",
            "Collecting jedi>=0.16\n",
            "  Downloading jedi-0.18.2-py2.py3-none-any.whl (1.6 MB)\n",
            "\u001b[2K     \u001b[90m━━━━━━━━━━━━━━━━━━━━━━━━━━━━━━━━━━━━━━━━\u001b[0m \u001b[32m1.6/1.6 MB\u001b[0m \u001b[31m76.3 MB/s\u001b[0m eta \u001b[36m0:00:00\u001b[0m\n",
            "\u001b[?25hRequirement already satisfied: prompt-toolkit!=3.0.0,!=3.0.1,<3.1.0,>=2.0.0 in /usr/local/lib/python3.9/dist-packages (from IPython->astetik->talos) (3.0.38)\n",
            "Requirement already satisfied: traitlets>=4.2 in /usr/local/lib/python3.9/dist-packages (from IPython->astetik->talos) (5.7.1)\n",
            "Requirement already satisfied: decorator in /usr/local/lib/python3.9/dist-packages (from IPython->astetik->talos) (4.4.2)\n",
            "Requirement already satisfied: pexpect>4.3 in /usr/local/lib/python3.9/dist-packages (from IPython->astetik->talos) (4.8.0)\n",
            "Requirement already satisfied: matplotlib-inline in /usr/local/lib/python3.9/dist-packages (from IPython->astetik->talos) (0.1.6)\n",
            "Requirement already satisfied: contourpy>=1.0.1 in /usr/local/lib/python3.9/dist-packages (from matplotlib->kerasplotlib->talos) (1.0.7)\n",
            "Requirement already satisfied: fonttools>=4.22.0 in /usr/local/lib/python3.9/dist-packages (from matplotlib->kerasplotlib->talos) (4.39.3)\n",
            "Requirement already satisfied: kiwisolver>=1.0.1 in /usr/local/lib/python3.9/dist-packages (from matplotlib->kerasplotlib->talos) (1.4.4)\n",
            "Requirement already satisfied: pyparsing>=2.3.1 in /usr/local/lib/python3.9/dist-packages (from matplotlib->kerasplotlib->talos) (3.0.9)\n",
            "Requirement already satisfied: pillow>=6.2.0 in /usr/local/lib/python3.9/dist-packages (from matplotlib->kerasplotlib->talos) (8.4.0)\n",
            "Requirement already satisfied: cycler>=0.10 in /usr/local/lib/python3.9/dist-packages (from matplotlib->kerasplotlib->talos) (0.11.0)\n",
            "Requirement already satisfied: importlib-resources>=3.2.0 in /usr/local/lib/python3.9/dist-packages (from matplotlib->kerasplotlib->talos) (5.12.0)\n",
            "Requirement already satisfied: cachetools<6.0,>=2.0.0 in /usr/local/lib/python3.9/dist-packages (from google-auth<3,>=1.6.3->tensorboard<2.13,>=2.12->tensorflow>=2.0.0->talos) (5.3.0)\n",
            "Requirement already satisfied: rsa<5,>=3.1.4 in /usr/local/lib/python3.9/dist-packages (from google-auth<3,>=1.6.3->tensorboard<2.13,>=2.12->tensorflow>=2.0.0->talos) (4.9)\n",
            "Requirement already satisfied: pyasn1-modules>=0.2.1 in /usr/local/lib/python3.9/dist-packages (from google-auth<3,>=1.6.3->tensorboard<2.13,>=2.12->tensorflow>=2.0.0->talos) (0.2.8)\n",
            "Requirement already satisfied: requests-oauthlib>=0.7.0 in /usr/local/lib/python3.9/dist-packages (from google-auth-oauthlib<1.1,>=0.5->tensorboard<2.13,>=2.12->tensorflow>=2.0.0->talos) (1.3.1)\n",
            "Requirement already satisfied: zipp>=3.1.0 in /usr/local/lib/python3.9/dist-packages (from importlib-resources>=3.2.0->matplotlib->kerasplotlib->talos) (3.15.0)\n",
            "Requirement already satisfied: parso<0.9.0,>=0.8.0 in /usr/local/lib/python3.9/dist-packages (from jedi>=0.16->IPython->astetik->talos) (0.8.3)\n",
            "Requirement already satisfied: importlib-metadata>=4.4 in /usr/local/lib/python3.9/dist-packages (from markdown>=2.6.8->tensorboard<2.13,>=2.12->tensorflow>=2.0.0->talos) (6.4.1)\n",
            "Requirement already satisfied: ptyprocess>=0.5 in /usr/local/lib/python3.9/dist-packages (from pexpect>4.3->IPython->astetik->talos) (0.7.0)\n",
            "Requirement already satisfied: wcwidth in /usr/local/lib/python3.9/dist-packages (from prompt-toolkit!=3.0.0,!=3.0.1,<3.1.0,>=2.0.0->IPython->astetik->talos) (0.2.6)\n",
            "Requirement already satisfied: MarkupSafe>=2.1.1 in /usr/local/lib/python3.9/dist-packages (from werkzeug>=1.0.1->tensorboard<2.13,>=2.12->tensorflow>=2.0.0->talos) (2.1.2)\n",
            "Requirement already satisfied: pyasn1<0.5.0,>=0.4.6 in /usr/local/lib/python3.9/dist-packages (from pyasn1-modules>=0.2.1->google-auth<3,>=1.6.3->tensorboard<2.13,>=2.12->tensorflow>=2.0.0->talos) (0.4.8)\n",
            "Requirement already satisfied: oauthlib>=3.0.0 in /usr/local/lib/python3.9/dist-packages (from requests-oauthlib>=0.7.0->google-auth-oauthlib<1.1,>=0.5->tensorboard<2.13,>=2.12->tensorflow>=2.0.0->talos) (3.2.2)\n",
            "Building wheels for collected packages: chances, sklearn\n",
            "  Building wheel for chances (setup.py) ... \u001b[?25l\u001b[?25hdone\n",
            "  Created wheel for chances: filename=chances-0.1.9-py3-none-any.whl size=41606 sha256=338b25244ad201a6a0c19e774935f8e4cb6ccaafd1a25539b16e0338dcf196db\n",
            "  Stored in directory: /root/.cache/pip/wheels/c3/26/2b/8ae098b8e9dd7cc1fd0a9131c0f1efea60d710ff7906bf0ab4\n",
            "  Building wheel for sklearn (setup.py) ... \u001b[?25l\u001b[?25hdone\n",
            "  Created wheel for sklearn: filename=sklearn-0.0.post4-py3-none-any.whl size=2973 sha256=052536f2c1aacf77fb1e25814c3ad8927032b3192608f748fae8668afa530a3d\n",
            "  Stored in directory: /root/.cache/pip/wheels/d5/b2/a9/590d15767d34955f20a9a033e8db973b79cb5672d95790c0a9\n",
            "Successfully built chances sklearn\n",
            "Installing collected packages: sklearn, geonamescache, jedi, chances, kerasplotlib, wrangle, astetik, talos\n",
            "Successfully installed astetik-1.13 chances-0.1.9 geonamescache-1.6.0 jedi-0.18.2 kerasplotlib-1.0 sklearn-0.0.post4 talos-1.3 wrangle-0.7.2\n"
          ]
        }
      ]
    },
    {
      "cell_type": "code",
      "source": [
        "import numpy as np, pandas as pd\n",
        "\n",
        "!pip install Keras-Preprocessing\n",
        "\n",
        "\n",
        "import re\n",
        "import spacy\n",
        "from spacy.lang.en import English\n",
        "from spacy.lang.en.stop_words import STOP_WORDS\n",
        "from nltk.tokenize import word_tokenize\n",
        "import nltk\n",
        "from nltk.stem import WordNetLemmatizer\n",
        "nltk.download('wordnet')\n",
        "import string\n",
        "from string import ascii_lowercase\n",
        "\n",
        "from tqdm import tqdm_notebook\n",
        "import itertools\n",
        "import io\n",
        "\n",
        "import matplotlib.pyplot as plt\n",
        "%matplotlib inline\n",
        "\n",
        "from functools import reduce\n",
        "from tensorflow import keras\n",
        "from tensorflow.keras import metrics\n",
        "from keras.preprocessing.text import Tokenizer\n",
        "from keras_preprocessing.sequence import pad_sequences\n",
        "from keras.layers import Dense, Input, LSTM, Embedding, Dropout, Activation\n",
        "from keras.layers import Bidirectional, GlobalMaxPool1D\n",
        "from keras.models import Model\n",
        "from keras.models import Sequential\n",
        "from keras.layers import Conv1D, MaxPooling1D\n",
        "from keras.layers import BatchNormalization\n",
        "from keras import initializers, regularizers, constraints, optimizers, layers\n",
        "import talos"
      ],
      "metadata": {
        "colab": {
          "base_uri": "https://localhost:8080/"
        },
        "id": "OBYVfsyr2F0F",
        "outputId": "ba761a0b-7d1b-4e02-e832-120bf04648b3"
      },
      "execution_count": 3,
      "outputs": [
        {
          "output_type": "stream",
          "name": "stdout",
          "text": [
            "Looking in indexes: https://pypi.org/simple, https://us-python.pkg.dev/colab-wheels/public/simple/\n",
            "Collecting Keras-Preprocessing\n",
            "  Downloading Keras_Preprocessing-1.1.2-py2.py3-none-any.whl (42 kB)\n",
            "\u001b[2K     \u001b[90m━━━━━━━━━━━━━━━━━━━━━━━━━━━━━━━━━━━━━━━━\u001b[0m \u001b[32m42.6/42.6 kB\u001b[0m \u001b[31m1.8 MB/s\u001b[0m eta \u001b[36m0:00:00\u001b[0m\n",
            "\u001b[?25hRequirement already satisfied: six>=1.9.0 in /usr/local/lib/python3.9/dist-packages (from Keras-Preprocessing) (1.16.0)\n",
            "Requirement already satisfied: numpy>=1.9.1 in /usr/local/lib/python3.9/dist-packages (from Keras-Preprocessing) (1.22.4)\n",
            "Installing collected packages: Keras-Preprocessing\n",
            "Successfully installed Keras-Preprocessing-1.1.2\n"
          ]
        },
        {
          "output_type": "stream",
          "name": "stderr",
          "text": [
            "[nltk_data] Downloading package wordnet to /root/nltk_data...\n"
          ]
        }
      ]
    },
    {
      "cell_type": "markdown",
      "source": [
        "# Importing Data"
      ],
      "metadata": {
        "id": "9gV00UZc2ljl"
      }
    },
    {
      "cell_type": "code",
      "source": [
        "train=pd.read_csv('/content/drive/MyDrive/train.csv/train.csv')\n",
        "train.head()"
      ],
      "metadata": {
        "colab": {
          "base_uri": "https://localhost:8080/",
          "height": 206
        },
        "id": "1-kD2Hrl2Lk0",
        "outputId": "513af6c9-167b-4b9e-a698-38f3ed6ced7a"
      },
      "execution_count": 4,
      "outputs": [
        {
          "output_type": "execute_result",
          "data": {
            "text/plain": [
              "                 id                                       comment_text  toxic  \\\n",
              "0  0000997932d777bf  Explanation\\nWhy the edits made under my usern...      0   \n",
              "1  000103f0d9cfb60f  D'aww! He matches this background colour I'm s...      0   \n",
              "2  000113f07ec002fd  Hey man, I'm really not trying to edit war. It...      0   \n",
              "3  0001b41b1c6bb37e  \"\\nMore\\nI can't make any real suggestions on ...      0   \n",
              "4  0001d958c54c6e35  You, sir, are my hero. Any chance you remember...      0   \n",
              "\n",
              "   severe_toxic  obscene  threat  insult  identity_hate  \n",
              "0             0        0       0       0              0  \n",
              "1             0        0       0       0              0  \n",
              "2             0        0       0       0              0  \n",
              "3             0        0       0       0              0  \n",
              "4             0        0       0       0              0  "
            ],
            "text/html": [
              "\n",
              "  <div id=\"df-4f46d670-5f15-412e-9c25-85a36755ff91\">\n",
              "    <div class=\"colab-df-container\">\n",
              "      <div>\n",
              "<style scoped>\n",
              "    .dataframe tbody tr th:only-of-type {\n",
              "        vertical-align: middle;\n",
              "    }\n",
              "\n",
              "    .dataframe tbody tr th {\n",
              "        vertical-align: top;\n",
              "    }\n",
              "\n",
              "    .dataframe thead th {\n",
              "        text-align: right;\n",
              "    }\n",
              "</style>\n",
              "<table border=\"1\" class=\"dataframe\">\n",
              "  <thead>\n",
              "    <tr style=\"text-align: right;\">\n",
              "      <th></th>\n",
              "      <th>id</th>\n",
              "      <th>comment_text</th>\n",
              "      <th>toxic</th>\n",
              "      <th>severe_toxic</th>\n",
              "      <th>obscene</th>\n",
              "      <th>threat</th>\n",
              "      <th>insult</th>\n",
              "      <th>identity_hate</th>\n",
              "    </tr>\n",
              "  </thead>\n",
              "  <tbody>\n",
              "    <tr>\n",
              "      <th>0</th>\n",
              "      <td>0000997932d777bf</td>\n",
              "      <td>Explanation\\nWhy the edits made under my usern...</td>\n",
              "      <td>0</td>\n",
              "      <td>0</td>\n",
              "      <td>0</td>\n",
              "      <td>0</td>\n",
              "      <td>0</td>\n",
              "      <td>0</td>\n",
              "    </tr>\n",
              "    <tr>\n",
              "      <th>1</th>\n",
              "      <td>000103f0d9cfb60f</td>\n",
              "      <td>D'aww! He matches this background colour I'm s...</td>\n",
              "      <td>0</td>\n",
              "      <td>0</td>\n",
              "      <td>0</td>\n",
              "      <td>0</td>\n",
              "      <td>0</td>\n",
              "      <td>0</td>\n",
              "    </tr>\n",
              "    <tr>\n",
              "      <th>2</th>\n",
              "      <td>000113f07ec002fd</td>\n",
              "      <td>Hey man, I'm really not trying to edit war. It...</td>\n",
              "      <td>0</td>\n",
              "      <td>0</td>\n",
              "      <td>0</td>\n",
              "      <td>0</td>\n",
              "      <td>0</td>\n",
              "      <td>0</td>\n",
              "    </tr>\n",
              "    <tr>\n",
              "      <th>3</th>\n",
              "      <td>0001b41b1c6bb37e</td>\n",
              "      <td>\"\\nMore\\nI can't make any real suggestions on ...</td>\n",
              "      <td>0</td>\n",
              "      <td>0</td>\n",
              "      <td>0</td>\n",
              "      <td>0</td>\n",
              "      <td>0</td>\n",
              "      <td>0</td>\n",
              "    </tr>\n",
              "    <tr>\n",
              "      <th>4</th>\n",
              "      <td>0001d958c54c6e35</td>\n",
              "      <td>You, sir, are my hero. Any chance you remember...</td>\n",
              "      <td>0</td>\n",
              "      <td>0</td>\n",
              "      <td>0</td>\n",
              "      <td>0</td>\n",
              "      <td>0</td>\n",
              "      <td>0</td>\n",
              "    </tr>\n",
              "  </tbody>\n",
              "</table>\n",
              "</div>\n",
              "      <button class=\"colab-df-convert\" onclick=\"convertToInteractive('df-4f46d670-5f15-412e-9c25-85a36755ff91')\"\n",
              "              title=\"Convert this dataframe to an interactive table.\"\n",
              "              style=\"display:none;\">\n",
              "        \n",
              "  <svg xmlns=\"http://www.w3.org/2000/svg\" height=\"24px\"viewBox=\"0 0 24 24\"\n",
              "       width=\"24px\">\n",
              "    <path d=\"M0 0h24v24H0V0z\" fill=\"none\"/>\n",
              "    <path d=\"M18.56 5.44l.94 2.06.94-2.06 2.06-.94-2.06-.94-.94-2.06-.94 2.06-2.06.94zm-11 1L8.5 8.5l.94-2.06 2.06-.94-2.06-.94L8.5 2.5l-.94 2.06-2.06.94zm10 10l.94 2.06.94-2.06 2.06-.94-2.06-.94-.94-2.06-.94 2.06-2.06.94z\"/><path d=\"M17.41 7.96l-1.37-1.37c-.4-.4-.92-.59-1.43-.59-.52 0-1.04.2-1.43.59L10.3 9.45l-7.72 7.72c-.78.78-.78 2.05 0 2.83L4 21.41c.39.39.9.59 1.41.59.51 0 1.02-.2 1.41-.59l7.78-7.78 2.81-2.81c.8-.78.8-2.07 0-2.86zM5.41 20L4 18.59l7.72-7.72 1.47 1.35L5.41 20z\"/>\n",
              "  </svg>\n",
              "      </button>\n",
              "      \n",
              "  <style>\n",
              "    .colab-df-container {\n",
              "      display:flex;\n",
              "      flex-wrap:wrap;\n",
              "      gap: 12px;\n",
              "    }\n",
              "\n",
              "    .colab-df-convert {\n",
              "      background-color: #E8F0FE;\n",
              "      border: none;\n",
              "      border-radius: 50%;\n",
              "      cursor: pointer;\n",
              "      display: none;\n",
              "      fill: #1967D2;\n",
              "      height: 32px;\n",
              "      padding: 0 0 0 0;\n",
              "      width: 32px;\n",
              "    }\n",
              "\n",
              "    .colab-df-convert:hover {\n",
              "      background-color: #E2EBFA;\n",
              "      box-shadow: 0px 1px 2px rgba(60, 64, 67, 0.3), 0px 1px 3px 1px rgba(60, 64, 67, 0.15);\n",
              "      fill: #174EA6;\n",
              "    }\n",
              "\n",
              "    [theme=dark] .colab-df-convert {\n",
              "      background-color: #3B4455;\n",
              "      fill: #D2E3FC;\n",
              "    }\n",
              "\n",
              "    [theme=dark] .colab-df-convert:hover {\n",
              "      background-color: #434B5C;\n",
              "      box-shadow: 0px 1px 3px 1px rgba(0, 0, 0, 0.15);\n",
              "      filter: drop-shadow(0px 1px 2px rgba(0, 0, 0, 0.3));\n",
              "      fill: #FFFFFF;\n",
              "    }\n",
              "  </style>\n",
              "\n",
              "      <script>\n",
              "        const buttonEl =\n",
              "          document.querySelector('#df-4f46d670-5f15-412e-9c25-85a36755ff91 button.colab-df-convert');\n",
              "        buttonEl.style.display =\n",
              "          google.colab.kernel.accessAllowed ? 'block' : 'none';\n",
              "\n",
              "        async function convertToInteractive(key) {\n",
              "          const element = document.querySelector('#df-4f46d670-5f15-412e-9c25-85a36755ff91');\n",
              "          const dataTable =\n",
              "            await google.colab.kernel.invokeFunction('convertToInteractive',\n",
              "                                                     [key], {});\n",
              "          if (!dataTable) return;\n",
              "\n",
              "          const docLinkHtml = 'Like what you see? Visit the ' +\n",
              "            '<a target=\"_blank\" href=https://colab.research.google.com/notebooks/data_table.ipynb>data table notebook</a>'\n",
              "            + ' to learn more about interactive tables.';\n",
              "          element.innerHTML = '';\n",
              "          dataTable['output_type'] = 'display_data';\n",
              "          await google.colab.output.renderOutput(dataTable, element);\n",
              "          const docLink = document.createElement('div');\n",
              "          docLink.innerHTML = docLinkHtml;\n",
              "          element.appendChild(docLink);\n",
              "        }\n",
              "      </script>\n",
              "    </div>\n",
              "  </div>\n",
              "  "
            ]
          },
          "metadata": {},
          "execution_count": 4
        }
      ]
    },
    {
      "cell_type": "code",
      "source": [
        "test=pd.read_csv('/content/drive/MyDrive/test.csv/test.csv')\n",
        "test.head()"
      ],
      "metadata": {
        "colab": {
          "base_uri": "https://localhost:8080/",
          "height": 206
        },
        "id": "UTDTvDG02T1S",
        "outputId": "4895082b-dc4f-48eb-e11c-752d08a51a17"
      },
      "execution_count": 5,
      "outputs": [
        {
          "output_type": "execute_result",
          "data": {
            "text/plain": [
              "                 id                                       comment_text\n",
              "0  00001cee341fdb12  Yo bitch Ja Rule is more succesful then you'll...\n",
              "1  0000247867823ef7  == From RfC == \\n\\n The title is fine as it is...\n",
              "2  00013b17ad220c46  \" \\n\\n == Sources == \\n\\n * Zawe Ashton on Lap...\n",
              "3  00017563c3f7919a  :If you have a look back at the source, the in...\n",
              "4  00017695ad8997eb          I don't anonymously edit articles at all."
            ],
            "text/html": [
              "\n",
              "  <div id=\"df-6e70ae01-8ccf-4530-bd36-836af9eb10ed\">\n",
              "    <div class=\"colab-df-container\">\n",
              "      <div>\n",
              "<style scoped>\n",
              "    .dataframe tbody tr th:only-of-type {\n",
              "        vertical-align: middle;\n",
              "    }\n",
              "\n",
              "    .dataframe tbody tr th {\n",
              "        vertical-align: top;\n",
              "    }\n",
              "\n",
              "    .dataframe thead th {\n",
              "        text-align: right;\n",
              "    }\n",
              "</style>\n",
              "<table border=\"1\" class=\"dataframe\">\n",
              "  <thead>\n",
              "    <tr style=\"text-align: right;\">\n",
              "      <th></th>\n",
              "      <th>id</th>\n",
              "      <th>comment_text</th>\n",
              "    </tr>\n",
              "  </thead>\n",
              "  <tbody>\n",
              "    <tr>\n",
              "      <th>0</th>\n",
              "      <td>00001cee341fdb12</td>\n",
              "      <td>Yo bitch Ja Rule is more succesful then you'll...</td>\n",
              "    </tr>\n",
              "    <tr>\n",
              "      <th>1</th>\n",
              "      <td>0000247867823ef7</td>\n",
              "      <td>== From RfC == \\n\\n The title is fine as it is...</td>\n",
              "    </tr>\n",
              "    <tr>\n",
              "      <th>2</th>\n",
              "      <td>00013b17ad220c46</td>\n",
              "      <td>\" \\n\\n == Sources == \\n\\n * Zawe Ashton on Lap...</td>\n",
              "    </tr>\n",
              "    <tr>\n",
              "      <th>3</th>\n",
              "      <td>00017563c3f7919a</td>\n",
              "      <td>:If you have a look back at the source, the in...</td>\n",
              "    </tr>\n",
              "    <tr>\n",
              "      <th>4</th>\n",
              "      <td>00017695ad8997eb</td>\n",
              "      <td>I don't anonymously edit articles at all.</td>\n",
              "    </tr>\n",
              "  </tbody>\n",
              "</table>\n",
              "</div>\n",
              "      <button class=\"colab-df-convert\" onclick=\"convertToInteractive('df-6e70ae01-8ccf-4530-bd36-836af9eb10ed')\"\n",
              "              title=\"Convert this dataframe to an interactive table.\"\n",
              "              style=\"display:none;\">\n",
              "        \n",
              "  <svg xmlns=\"http://www.w3.org/2000/svg\" height=\"24px\"viewBox=\"0 0 24 24\"\n",
              "       width=\"24px\">\n",
              "    <path d=\"M0 0h24v24H0V0z\" fill=\"none\"/>\n",
              "    <path d=\"M18.56 5.44l.94 2.06.94-2.06 2.06-.94-2.06-.94-.94-2.06-.94 2.06-2.06.94zm-11 1L8.5 8.5l.94-2.06 2.06-.94-2.06-.94L8.5 2.5l-.94 2.06-2.06.94zm10 10l.94 2.06.94-2.06 2.06-.94-2.06-.94-.94-2.06-.94 2.06-2.06.94z\"/><path d=\"M17.41 7.96l-1.37-1.37c-.4-.4-.92-.59-1.43-.59-.52 0-1.04.2-1.43.59L10.3 9.45l-7.72 7.72c-.78.78-.78 2.05 0 2.83L4 21.41c.39.39.9.59 1.41.59.51 0 1.02-.2 1.41-.59l7.78-7.78 2.81-2.81c.8-.78.8-2.07 0-2.86zM5.41 20L4 18.59l7.72-7.72 1.47 1.35L5.41 20z\"/>\n",
              "  </svg>\n",
              "      </button>\n",
              "      \n",
              "  <style>\n",
              "    .colab-df-container {\n",
              "      display:flex;\n",
              "      flex-wrap:wrap;\n",
              "      gap: 12px;\n",
              "    }\n",
              "\n",
              "    .colab-df-convert {\n",
              "      background-color: #E8F0FE;\n",
              "      border: none;\n",
              "      border-radius: 50%;\n",
              "      cursor: pointer;\n",
              "      display: none;\n",
              "      fill: #1967D2;\n",
              "      height: 32px;\n",
              "      padding: 0 0 0 0;\n",
              "      width: 32px;\n",
              "    }\n",
              "\n",
              "    .colab-df-convert:hover {\n",
              "      background-color: #E2EBFA;\n",
              "      box-shadow: 0px 1px 2px rgba(60, 64, 67, 0.3), 0px 1px 3px 1px rgba(60, 64, 67, 0.15);\n",
              "      fill: #174EA6;\n",
              "    }\n",
              "\n",
              "    [theme=dark] .colab-df-convert {\n",
              "      background-color: #3B4455;\n",
              "      fill: #D2E3FC;\n",
              "    }\n",
              "\n",
              "    [theme=dark] .colab-df-convert:hover {\n",
              "      background-color: #434B5C;\n",
              "      box-shadow: 0px 1px 3px 1px rgba(0, 0, 0, 0.15);\n",
              "      filter: drop-shadow(0px 1px 2px rgba(0, 0, 0, 0.3));\n",
              "      fill: #FFFFFF;\n",
              "    }\n",
              "  </style>\n",
              "\n",
              "      <script>\n",
              "        const buttonEl =\n",
              "          document.querySelector('#df-6e70ae01-8ccf-4530-bd36-836af9eb10ed button.colab-df-convert');\n",
              "        buttonEl.style.display =\n",
              "          google.colab.kernel.accessAllowed ? 'block' : 'none';\n",
              "\n",
              "        async function convertToInteractive(key) {\n",
              "          const element = document.querySelector('#df-6e70ae01-8ccf-4530-bd36-836af9eb10ed');\n",
              "          const dataTable =\n",
              "            await google.colab.kernel.invokeFunction('convertToInteractive',\n",
              "                                                     [key], {});\n",
              "          if (!dataTable) return;\n",
              "\n",
              "          const docLinkHtml = 'Like what you see? Visit the ' +\n",
              "            '<a target=\"_blank\" href=https://colab.research.google.com/notebooks/data_table.ipynb>data table notebook</a>'\n",
              "            + ' to learn more about interactive tables.';\n",
              "          element.innerHTML = '';\n",
              "          dataTable['output_type'] = 'display_data';\n",
              "          await google.colab.output.renderOutput(dataTable, element);\n",
              "          const docLink = document.createElement('div');\n",
              "          docLink.innerHTML = docLinkHtml;\n",
              "          element.appendChild(docLink);\n",
              "        }\n",
              "      </script>\n",
              "    </div>\n",
              "  </div>\n",
              "  "
            ]
          },
          "metadata": {},
          "execution_count": 5
        }
      ]
    },
    {
      "cell_type": "markdown",
      "source": [
        "Data Exploration"
      ],
      "metadata": {
        "id": "6m3Rn6nN21fw"
      }
    },
    {
      "cell_type": "markdown",
      "source": [
        "Checking for missing values"
      ],
      "metadata": {
        "id": "klv3WhDH25aA"
      }
    },
    {
      "cell_type": "code",
      "source": [
        "train.shape"
      ],
      "metadata": {
        "colab": {
          "base_uri": "https://localhost:8080/"
        },
        "id": "qqY3PLKaehNK",
        "outputId": "a42f8b47-2583-40ab-a147-0dbb0fb12e87"
      },
      "execution_count": 6,
      "outputs": [
        {
          "output_type": "execute_result",
          "data": {
            "text/plain": [
              "(159571, 8)"
            ]
          },
          "metadata": {},
          "execution_count": 6
        }
      ]
    },
    {
      "cell_type": "code",
      "source": [
        "test.shape"
      ],
      "metadata": {
        "colab": {
          "base_uri": "https://localhost:8080/"
        },
        "id": "p9RSRZVUekV2",
        "outputId": "24735045-d368-4855-e6a3-6a17e16d026f"
      },
      "execution_count": 7,
      "outputs": [
        {
          "output_type": "execute_result",
          "data": {
            "text/plain": [
              "(153164, 2)"
            ]
          },
          "metadata": {},
          "execution_count": 7
        }
      ]
    },
    {
      "cell_type": "code",
      "source": [
        "train.isnull().any()"
      ],
      "metadata": {
        "colab": {
          "base_uri": "https://localhost:8080/"
        },
        "id": "4swFflnA2VPW",
        "outputId": "039b9145-2a50-4aaa-d57a-abb42f883a87"
      },
      "execution_count": 8,
      "outputs": [
        {
          "output_type": "execute_result",
          "data": {
            "text/plain": [
              "id               False\n",
              "comment_text     False\n",
              "toxic            False\n",
              "severe_toxic     False\n",
              "obscene          False\n",
              "threat           False\n",
              "insult           False\n",
              "identity_hate    False\n",
              "dtype: bool"
            ]
          },
          "metadata": {},
          "execution_count": 8
        }
      ]
    },
    {
      "cell_type": "code",
      "source": [
        "test.isnull().any()"
      ],
      "metadata": {
        "colab": {
          "base_uri": "https://localhost:8080/"
        },
        "id": "vovNYCl42_X6",
        "outputId": "4a91c579-2ee6-46e0-c179-f9c5000b7705"
      },
      "execution_count": 9,
      "outputs": [
        {
          "output_type": "execute_result",
          "data": {
            "text/plain": [
              "id              False\n",
              "comment_text    False\n",
              "dtype: bool"
            ]
          },
          "metadata": {},
          "execution_count": 9
        }
      ]
    },
    {
      "cell_type": "code",
      "source": [
        "Classification_labels = ['toxic', 'severe_toxic', 'obscene', 'threat', 'insult', 'identity_hate']\n",
        "y = train[Classification_labels].values"
      ],
      "metadata": {
        "id": "nAfWWB1_3BaU"
      },
      "execution_count": 10,
      "outputs": []
    },
    {
      "cell_type": "markdown",
      "source": [
        "Data Pre-processing"
      ],
      "metadata": {
        "id": "WnyUTvDW3JRt"
      }
    },
    {
      "cell_type": "markdown",
      "source": [
        "Text Normalization"
      ],
      "metadata": {
        "id": "EmYCFL6g3V5i"
      }
    },
    {
      "cell_type": "code",
      "metadata": {
        "id": "jglnA7LEbpoA"
      },
      "source": [
        "regex_patterns = {\n",
        "    ' american ':\n",
        "        [\n",
        "            'amerikan'\n",
        "        ],\n",
        "\n",
        "    ' adolf ':\n",
        "        [\n",
        "            'adolf'\n",
        "        ],\n",
        "\n",
        "\n",
        "    ' hitler ':\n",
        "        [\n",
        "            'hitler'\n",
        "        ],\n",
        "\n",
        "    ' fuck':\n",
        "        [\n",
        "            '(f)(u|[^a-z0-9 ])(c|[^a-z0-9 ])(k|[^a-z0-9 ])([^ ])*',\n",
        "            '(f)([^a-z]*)(u)([^a-z]*)(c)([^a-z]*)(k)',\n",
        "            ' f[!@#\\$%\\^\\&\\*]*u[!@#\\$%\\^&\\*]*k', 'f u u c',\n",
        "            '(f)(c|[^a-z ])(u|[^a-z ])(k)', r'f\\*',\n",
        "            'feck ', ' fux ', 'f\\*\\*', 'f**k','fu*k',\n",
        "            'f\\-ing', 'f\\.u\\.', 'f###', ' fu ', 'f@ck', 'f u c k', 'f uck', 'f ck'\n",
        "        ],\n",
        "\n",
        "    ' ass ':\n",
        "        [\n",
        "            '[^a-z]ass ', '[^a-z]azz ', 'arrse', ' arse ', '@\\$\\$',\n",
        "            '[^a-z]anus', ' a\\*s\\*s', '[^a-z]ass[^a-z ]',\n",
        "            'a[@#\\$%\\^&\\*][@#\\$%\\^&\\*]', '[^a-z]anal ', 'a s s','a55', '@$$'\n",
        "        ],\n",
        "\n",
        "    ' ass hole ':\n",
        "        [\n",
        "            ' a[s|z]*wipe', 'a[s|z]*[w]*h[o|0]+[l]*e', '@\\$\\$hole', 'a**hole'\n",
        "        ],\n",
        "\n",
        "    ' bitch ':\n",
        "        [\n",
        "            'b[w]*i[t]*ch', 'b!tch',\n",
        "            'bi\\+ch', 'b!\\+ch', '(b)([^a-z]*)(i)([^a-z]*)(t)([^a-z]*)(c)([^a-z]*)(h)',\n",
        "            'biatch', 'bi\\*\\*h', 'bytch', 'b i t c h', 'b!tch', 'bi+ch', 'l3itch'\n",
        "        ],\n",
        "\n",
        "    ' bastard ':\n",
        "        [\n",
        "            'ba[s|z]+t[e|a]+rd'\n",
        "        ],\n",
        "\n",
        "    ' trans gender':\n",
        "        [\n",
        "            'transgender'\n",
        "        ],\n",
        "\n",
        "    ' gay ':\n",
        "        [\n",
        "            'gay'\n",
        "        ],\n",
        "\n",
        "    ' cock ':\n",
        "        [\n",
        "            '[^a-z]cock', 'c0ck', '[^a-z]cok ', 'c0k', '[^a-z]cok[^aeiou]', ' cawk',\n",
        "            '(c)([^a-z ])(o)([^a-z ]*)(c)([^a-z ]*)(k)', 'c o c k'\n",
        "        ],\n",
        "\n",
        "    ' dick ':\n",
        "        [\n",
        "            ' dick[^aeiou]', 'deek', 'd i c k', 'dik'\n",
        "        ],\n",
        "\n",
        "    ' suck ':\n",
        "        [\n",
        "            'sucker', '(s)([^a-z ]*)(u)([^a-z ]*)(c)([^a-z ]*)(k)', 'sucks', '5uck', 's u c k'\n",
        "        ],\n",
        "\n",
        "    ' cunt ':\n",
        "        [\n",
        "            'cunt', 'c u n t'\n",
        "        ],\n",
        "\n",
        "    ' bull shit ':\n",
        "        [\n",
        "            'bullsh\\*t', 'bull\\$hit'\n",
        "        ],\n",
        "\n",
        "    ' homo sex ual':\n",
        "        [\n",
        "            'homosexual'\n",
        "        ],\n",
        "\n",
        "    ' jerk ':\n",
        "        [\n",
        "            'jerk'\n",
        "        ],\n",
        "\n",
        "    ' idiot ':\n",
        "        [\n",
        "            'i[d]+io[t]+', '(i)([^a-z ]*)(d)([^a-z ]*)(i)([^a-z ]*)(o)([^a-z ]*)(t)', 'idiots'\n",
        "                                                                                      'i d i o t'\n",
        "        ],\n",
        "\n",
        "    ' dumb ':\n",
        "        [\n",
        "            '(d)([^a-z ]*)(u)([^a-z ]*)(m)([^a-z ]*)(b)'\n",
        "        ],\n",
        "\n",
        "    ' shit ':\n",
        "        [\n",
        "            'shitty', '(s)([^a-z ]*)(h)([^a-z ]*)(i)([^a-z ]*)(t)', 'shite', '\\$hit', 's h i t', '$h1t'\n",
        "        ],\n",
        "\n",
        "    ' shit hole ':\n",
        "        [\n",
        "            'shythole'\n",
        "        ],\n",
        "\n",
        "    ' retard ':\n",
        "        [\n",
        "            'returd', 'retad', 'retard', 'wiktard', 'wikitud'\n",
        "        ],\n",
        "\n",
        "    ' rape ':\n",
        "        [\n",
        "            ' raped'\n",
        "        ],\n",
        "\n",
        "    ' dumb ass':\n",
        "        [\n",
        "            'dumbass', 'dubass'\n",
        "        ],\n",
        "\n",
        "    ' ass head':\n",
        "        [\n",
        "            'butthead'\n",
        "        ],\n",
        "\n",
        "    ' sex ':\n",
        "        [\n",
        "            'sexy', 's3x', 'sexuality'\n",
        "        ],\n",
        "\n",
        "\n",
        "    ' nigger ':\n",
        "        [\n",
        "            'nigger', 'ni[g]+a', ' nigr ', 'negrito', 'niguh', 'n3gr', 'n i g g e r'\n",
        "        ],\n",
        "\n",
        "    ' shut the fuck up':\n",
        "        [\n",
        "            'stfu', 'st*u'\n",
        "        ],\n",
        "\n",
        "    ' pussy ':\n",
        "        [\n",
        "            'pussy[^c]', 'pusy', 'pussi[^l]', 'pusses', 'p*ssy'\n",
        "        ],\n",
        "\n",
        "    ' faggot ':\n",
        "        [\n",
        "            'faggot', ' fa[g]+[s]*[^a-z ]', 'fagot', 'f a g g o t', 'faggit',\n",
        "            '(f)([^a-z ]*)(a)([^a-z ]*)([g]+)([^a-z ]*)(o)([^a-z ]*)(t)', 'fau[g]+ot', 'fae[g]+ot',\n",
        "        ],\n",
        "\n",
        "    ' mother fucker':\n",
        "        [\n",
        "            ' motha ', ' motha f', ' mother f', 'motherucker',\n",
        "        ],\n",
        "\n",
        "    ' whore ':\n",
        "        [\n",
        "            'wh\\*\\*\\*', 'w h o r e'\n",
        "        ],\n",
        "    ' fucking ':\n",
        "        [\n",
        "            'f*$%-ing'\n",
        "        ],\n",
        "}\n"
      ],
      "execution_count": 11,
      "outputs": []
    },
    {
      "cell_type": "code",
      "metadata": {
        "id": "4RetJ1vgswOG"
      },
      "source": [
        "def clean_text(text,repeat_text=True, patterns_text=True, is_lower=True):\n",
        "\n",
        "  if is_lower:\n",
        "    text=text.lower()\n",
        "    \n",
        "  if patterns_text:\n",
        "    for target, patterns in regex_patterns.items():\n",
        "      for pat in patterns:\n",
        "        text=str(text).replace(pat, target)\n",
        "\n",
        "  if repeat_text:\n",
        "    text = re.sub(r'(.)\\1{2,}', r'\\1', text) \n",
        "\n",
        "  text = str(text).replace(\"\\n\", \" \")\n",
        "  text = re.sub(r'[^\\w\\s]',' ',text)\n",
        "  text = re.sub('[0-9]',\"\",text)\n",
        "  text = re.sub(\" +\", \" \", text)\n",
        "  text = re.sub(\"([^\\x00-\\x7F])+\",\" \",text)\n",
        "  return text "
      ],
      "execution_count": 12,
      "outputs": []
    },
    {
      "cell_type": "markdown",
      "source": [
        "Cleaning Training Data"
      ],
      "metadata": {
        "id": "xh1V_H6z3nY3"
      }
    },
    {
      "cell_type": "code",
      "source": [
        "train['comment_text']=train['comment_text'].apply(lambda x: clean_text(x))\n",
        "train['comment_text'][1]"
      ],
      "metadata": {
        "colab": {
          "base_uri": "https://localhost:8080/",
          "height": 36
        },
        "id": "6i23WGkp3lYv",
        "outputId": "07017ed7-381c-438b-ffe4-cc1166c3ce0e"
      },
      "execution_count": 13,
      "outputs": [
        {
          "output_type": "execute_result",
          "data": {
            "text/plain": [
              "'d aww he matches this background colour i m seemingly stuck with thanks talk january utc '"
            ],
            "application/vnd.google.colaboratory.intrinsic+json": {
              "type": "string"
            }
          },
          "metadata": {},
          "execution_count": 13
        }
      ]
    },
    {
      "cell_type": "markdown",
      "source": [
        "Cleaning Test Data"
      ],
      "metadata": {
        "id": "o7cxVZkO3sba"
      }
    },
    {
      "cell_type": "code",
      "source": [
        "test['comment_text']=test['comment_text'].apply(lambda x: clean_text(x))\n",
        "test['comment_text'][1048]"
      ],
      "metadata": {
        "colab": {
          "base_uri": "https://localhost:8080/",
          "height": 36
        },
        "id": "_GI6vNOY3tSp",
        "outputId": "4fbebb4f-9a5e-4a56-c5d1-00893a64d3cc"
      },
      "execution_count": 14,
      "outputs": [
        {
          "output_type": "execute_result",
          "data": {
            "text/plain": [
              "'this is a university ip address just fyi '"
            ],
            "application/vnd.google.colaboratory.intrinsic+json": {
              "type": "string"
            }
          },
          "metadata": {},
          "execution_count": 14
        }
      ]
    },
    {
      "cell_type": "markdown",
      "source": [
        "Lemmatization"
      ],
      "metadata": {
        "id": "4bDPW3ka3vGa"
      }
    },
    {
      "cell_type": "code",
      "source": [
        "comments_train=train['comment_text']\n",
        "comments_test=test['comment_text']"
      ],
      "metadata": {
        "id": "HbpAQz2K3wxg"
      },
      "execution_count": 15,
      "outputs": []
    },
    {
      "cell_type": "code",
      "source": [
        "comments_train=list(comments_train)\n",
        "comments_test=list(comments_test)"
      ],
      "metadata": {
        "id": "V1-iTQI83zEW"
      },
      "execution_count": 16,
      "outputs": []
    },
    {
      "cell_type": "code",
      "source": [
        "wordnet_lemmatizer = WordNetLemmatizer()"
      ],
      "metadata": {
        "id": "4eVR8fUI32hr"
      },
      "execution_count": 17,
      "outputs": []
    },
    {
      "cell_type": "code",
      "metadata": {
        "id": "fi-vYUcPoi-a"
      },
      "source": [
        "def lemma(text, lemmatization=True):\n",
        "  output=\"\"\n",
        "  if lemmatization:\n",
        "    text=text.split(\" \")\n",
        "    for word in text:\n",
        "       word1 = wordnet_lemmatizer.lemmatize(word, pos = \"n\")\n",
        "       word2 = wordnet_lemmatizer.lemmatize(word1, pos = \"v\")\n",
        "       word3 = wordnet_lemmatizer.lemmatize(word2, pos = \"a\")\n",
        "       word4 = wordnet_lemmatizer.lemmatize(word3, pos = \"r\")\n",
        "       output=output + \" \" + word4\n",
        "  else:\n",
        "    output=text\n",
        "  \n",
        "  return str(output.strip()) "
      ],
      "execution_count": 18,
      "outputs": []
    },
    {
      "cell_type": "markdown",
      "source": [
        "Lemmatizing Training Data"
      ],
      "metadata": {
        "id": "ACTFTW1f4Al9"
      }
    },
    {
      "cell_type": "code",
      "source": [
        "lem_train_data = [] \n",
        "\n",
        "for line in tqdm_notebook(comments_train, total=159571): \n",
        "    lem_train_data.append(lemma(line))"
      ],
      "metadata": {
        "colab": {
          "base_uri": "https://localhost:8080/",
          "height": 49,
          "referenced_widgets": [
            "144886a537df4b60876c58000718d420",
            "e3de35e407cf48f0b1cbb4e5c4e785af",
            "1017d0f22f464821a3f9f3c3b34031e6",
            "1eba94b0aca146ac95f94d9ea87b96a6",
            "d939dc0a87584325b602912d93f9297c",
            "b8bdd9224a524673a3fb5ec54605a3f1",
            "9bf8cadc20304cffa89bf68dfb8dbfef",
            "93f4ebb7fc8f4abf874e0b6b1c4594ce",
            "e8a948f064ac425f833c25e818e40c5c",
            "a18f4f6b49794c9ebd37bd006f39b455",
            "dd2e5388b6554a3288af94187d5ecb98"
          ]
        },
        "id": "O_qN5SVT3-FJ",
        "outputId": "4d7f6d74-4913-4a53-8686-5e9b13333ea9"
      },
      "execution_count": 19,
      "outputs": [
        {
          "output_type": "display_data",
          "data": {
            "text/plain": [
              "  0%|          | 0/159571 [00:00<?, ?it/s]"
            ],
            "application/vnd.jupyter.widget-view+json": {
              "version_major": 2,
              "version_minor": 0,
              "model_id": "144886a537df4b60876c58000718d420"
            }
          },
          "metadata": {}
        }
      ]
    },
    {
      "cell_type": "code",
      "source": [
        "lem_train_data[152458]"
      ],
      "metadata": {
        "colab": {
          "base_uri": "https://localhost:8080/",
          "height": 70
        },
        "id": "GsnDvVrE4JEE",
        "outputId": "8a745cda-ecb6-4fd6-f329-ad2f6fb4c9bb"
      },
      "execution_count": 20,
      "outputs": [
        {
          "output_type": "execute_result",
          "data": {
            "text/plain": [
              "'i agree with you about graemel s intention he be a revert nazi and wikipedia ha a way of protect against this report him to the wp rr three revert rule notice board post by report the revert nazi graemel ha show himself herself to be a revert nazi this be unacceptable on a site that be make by it s user and not it s admins if you feel you have be unjustly revert more than time over a hour period please report him her to the three revert noticeboard wp rr it be time to take back what be ours'"
            ],
            "application/vnd.google.colaboratory.intrinsic+json": {
              "type": "string"
            }
          },
          "metadata": {},
          "execution_count": 20
        }
      ]
    },
    {
      "cell_type": "markdown",
      "source": [
        "Lemmatizing Test Data"
      ],
      "metadata": {
        "id": "n9vu9kNW4EQO"
      }
    },
    {
      "cell_type": "code",
      "source": [
        "lem_test_data = [] \n",
        "\n",
        "for line in tqdm_notebook(comments_test, total=len(comments_test)): \n",
        "    lem_test_data.append(lemma(line))"
      ],
      "metadata": {
        "colab": {
          "base_uri": "https://localhost:8080/",
          "height": 49,
          "referenced_widgets": [
            "46d06eaef81c4ce1afe039947523f23b",
            "7dd9fd2a64374d5aafc1dea619eb72b4",
            "6182dc548a434c01ba93db505b21157c",
            "57f74cc9a6184e9eb436fa54dda56558",
            "3998b0a8f50b49cf82b95fad037c2e9f",
            "1456d55d7ee94db5b218586ae3a044d3",
            "b738745abc3145cbbda1c89f391f162a",
            "20653aba130a4c1bbb7d85ab441ebfab",
            "e0e0683ccb5c454b95367657f8ba97f5",
            "55bcb8326ec048f2aa5f3a7c6eaebc06",
            "d2763d4b9fd447eda66dd0cacb2f94b4"
          ]
        },
        "id": "QMJkvRKF4L7X",
        "outputId": "7f4beeed-5477-46fd-c239-0184cfe3db40"
      },
      "execution_count": 21,
      "outputs": [
        {
          "output_type": "display_data",
          "data": {
            "text/plain": [
              "  0%|          | 0/153164 [00:00<?, ?it/s]"
            ],
            "application/vnd.jupyter.widget-view+json": {
              "version_major": 2,
              "version_minor": 0,
              "model_id": "46d06eaef81c4ce1afe039947523f23b"
            }
          },
          "metadata": {}
        }
      ]
    },
    {
      "cell_type": "markdown",
      "source": [
        "Stopwords Removal"
      ],
      "metadata": {
        "id": "eSCNcT104Q0x"
      }
    },
    {
      "cell_type": "code",
      "source": [
        "Total_stopword=STOP_WORDS"
      ],
      "metadata": {
        "id": "G5YjuVT04Ody"
      },
      "execution_count": 22,
      "outputs": []
    },
    {
      "cell_type": "markdown",
      "source": [
        "Adding one and two letter to stop word list"
      ],
      "metadata": {
        "id": "lqE9qo9ip5XP"
      }
    },
    {
      "cell_type": "code",
      "source": [
        "def iter_all_strings():\n",
        "    for size in itertools.count(1):\n",
        "        for s in itertools.product(ascii_lowercase, repeat=size):\n",
        "            yield \"\".join(s)\n",
        "\n",
        "dual_alpha_list=[]\n",
        "for s in iter_all_strings():\n",
        "    dual_alpha_list.append(s)\n",
        "    if s == 'zz':\n",
        "        break"
      ],
      "metadata": {
        "id": "erRtI1fqqDLs"
      },
      "execution_count": 23,
      "outputs": []
    },
    {
      "cell_type": "code",
      "source": [
        "dual_alpha_list.remove('i')\n",
        "dual_alpha_list.remove('a')\n",
        "dual_alpha_list.remove('am')\n",
        "dual_alpha_list.remove('an')\n",
        "dual_alpha_list.remove('as')\n",
        "dual_alpha_list.remove('at')\n",
        "dual_alpha_list.remove('be')\n",
        "dual_alpha_list.remove('by')\n",
        "dual_alpha_list.remove('do')\n",
        "dual_alpha_list.remove('go')\n",
        "dual_alpha_list.remove('he')\n",
        "dual_alpha_list.remove('hi')\n",
        "dual_alpha_list.remove('if')\n",
        "dual_alpha_list.remove('is')\n",
        "dual_alpha_list.remove('in')\n",
        "dual_alpha_list.remove('me')\n",
        "dual_alpha_list.remove('my')\n",
        "dual_alpha_list.remove('no')\n",
        "dual_alpha_list.remove('of')\n",
        "dual_alpha_list.remove('on')\n",
        "dual_alpha_list.remove('or')\n",
        "dual_alpha_list.remove('ok')\n",
        "dual_alpha_list.remove('so')\n",
        "dual_alpha_list.remove('to')\n",
        "dual_alpha_list.remove('up')\n",
        "dual_alpha_list.remove('us')\n",
        "dual_alpha_list.remove('we')"
      ],
      "metadata": {
        "id": "K1048ccwqg8g"
      },
      "execution_count": 24,
      "outputs": []
    },
    {
      "cell_type": "code",
      "source": [
        "for letter in dual_alpha_list:\n",
        "    Total_stopword.add(letter)\n",
        "print(\"Adding to the stop word list is done!!\")"
      ],
      "metadata": {
        "colab": {
          "base_uri": "https://localhost:8080/"
        },
        "id": "y2wnX-uaqkaH",
        "outputId": "282b3297-0040-4f28-8ffc-24f420462380"
      },
      "execution_count": 25,
      "outputs": [
        {
          "output_type": "stream",
          "name": "stdout",
          "text": [
            "Adding to the stop word list is done!!\n"
          ]
        }
      ]
    },
    {
      "cell_type": "markdown",
      "source": [
        "Checking for the any other words for adding into stopword list"
      ],
      "metadata": {
        "id": "QxvMlI_mqyUO"
      }
    },
    {
      "cell_type": "code",
      "source": [
        "def search_stopwords(data, search_stop=True):\n",
        "  output=\"\"\n",
        "  if search_stop:\n",
        "    data=data.split(\" \")\n",
        "    for word in data:\n",
        "      if not word in Total_stopword:\n",
        "        output=output+\" \"+word \n",
        "  else:\n",
        "    output=data\n",
        "\n",
        "  return str(output.strip()) "
      ],
      "metadata": {
        "id": "2K618b8sq7EA"
      },
      "execution_count": 26,
      "outputs": []
    },
    {
      "cell_type": "code",
      "source": [
        "potential_stopwords = [] \n",
        "\n",
        "for line in tqdm_notebook(lem_train_data, total=159571): \n",
        "    potential_stopwords.append(search_stopwords(line))"
      ],
      "metadata": {
        "colab": {
          "base_uri": "https://localhost:8080/",
          "height": 49,
          "referenced_widgets": [
            "5c64461ab7b0426da76cc28310b421be",
            "acdc202a4eea4bdeb13ad1f0993bbc6e",
            "f8ff0c4f5b264de19e6019f0d7f23086",
            "6eed4eaf6e57487da39e12709808ded5",
            "be0ebf9f75684073bb48957cb286d469",
            "ca073ed43c934433bbca67d8ebd04dc2",
            "1cef36acb93f4fea95190d762b16e467",
            "a59fb7305aac4682a52305f457d9cc1a",
            "4149f882e1064756962cb7a190c45c03",
            "c7f16a88efdc414abd8002c74ff753de",
            "7c554056cb0147f5a072240c1b4c0643"
          ]
        },
        "id": "fydAuItpq9JO",
        "outputId": "a05d38ba-7815-4462-be6a-f3316479f322"
      },
      "execution_count": 27,
      "outputs": [
        {
          "output_type": "display_data",
          "data": {
            "text/plain": [
              "  0%|          | 0/159571 [00:00<?, ?it/s]"
            ],
            "application/vnd.jupyter.widget-view+json": {
              "version_major": 2,
              "version_minor": 0,
              "model_id": "5c64461ab7b0426da76cc28310b421be"
            }
          },
          "metadata": {}
        }
      ]
    },
    {
      "cell_type": "code",
      "source": [
        "len(potential_stopwords)"
      ],
      "metadata": {
        "colab": {
          "base_uri": "https://localhost:8080/"
        },
        "id": "tUkPVZwXrBhB",
        "outputId": "c057664a-560b-4445-daa9-3597869e09ac"
      },
      "execution_count": 28,
      "outputs": [
        {
          "output_type": "execute_result",
          "data": {
            "text/plain": [
              "159571"
            ]
          },
          "metadata": {},
          "execution_count": 28
        }
      ]
    },
    {
      "cell_type": "code",
      "source": [
        "def string_combine_a(stopword):\n",
        "  final_a=\"\"\n",
        "  for item in range(39893):\n",
        "    final_a=final_a+\" \"+stopword[item]\n",
        "  return final_a\n",
        "\n",
        "def string_combine_b(stopword):\n",
        "  final_b=\"\"\n",
        "  for item in range(39893,79785):\n",
        "    final_b=final_b+\" \"+stopword[item]\n",
        "  return final_b\n",
        "\n",
        "def string_combine_c(stopword):\n",
        "  final_c=\"\"\n",
        "  for item in range(79785,119678):\n",
        "    final_c=final_c+\" \"+stopword[item]\n",
        "  return final_c\n",
        "\n",
        "def string_combine_d(stopword):\n",
        "  final_d=\"\"\n",
        "  for item in range(119678,159571):\n",
        "    final_d=final_d+\" \"+stopword[item]\n",
        "  return final_d"
      ],
      "metadata": {
        "id": "pkKr6KZbrD1H"
      },
      "execution_count": 29,
      "outputs": []
    },
    {
      "cell_type": "code",
      "source": [
        "total_string_potential_a=string_combine_a(potential_stopwords)\n",
        "total_string_potential_b=string_combine_b(potential_stopwords)\n",
        "total_string_potential_c=string_combine_c(potential_stopwords)\n",
        "total_string_potential_d=string_combine_d(potential_stopwords)"
      ],
      "metadata": {
        "id": "y9oazwkHrL82"
      },
      "execution_count": 30,
      "outputs": []
    },
    {
      "cell_type": "code",
      "source": [
        "def word_count(str):\n",
        "    counts = dict()\n",
        "    words = str.split()\n",
        "\n",
        "    for word in words:\n",
        "        if word in counts:\n",
        "            counts[word] += 1\n",
        "        else:\n",
        "            counts[word] = 1\n",
        "\n",
        "    return counts"
      ],
      "metadata": {
        "id": "Co1Dx9ZFrOGv"
      },
      "execution_count": 31,
      "outputs": []
    },
    {
      "cell_type": "code",
      "source": [
        "total_string_potential_a_dict=word_count(total_string_potential_a)\n",
        "total_string_potential_b_dict=word_count(total_string_potential_b)\n",
        "total_string_potential_c_dict=word_count(total_string_potential_c)\n",
        "total_string_potential_d_dict=word_count(total_string_potential_d)"
      ],
      "metadata": {
        "id": "qqloLVXErQXq"
      },
      "execution_count": null,
      "outputs": []
    },
    {
      "cell_type": "code",
      "source": [
        "total_string_potential_a_df = pd.DataFrame(list(total_string_potential_a_dict.items()),columns = ['Word','Count'])\n",
        "total_string_potential_b_df = pd.DataFrame(list(total_string_potential_b_dict.items()),columns = ['Word','Count'])\n",
        "total_string_potential_c_df = pd.DataFrame(list(total_string_potential_c_dict.items()),columns = ['Word','Count'])\n",
        "total_string_potential_d_df = pd.DataFrame(list(total_string_potential_d_dict.items()),columns = ['Word','Count'])"
      ],
      "metadata": {
        "id": "snclZHIqrSir"
      },
      "execution_count": null,
      "outputs": []
    },
    {
      "cell_type": "code",
      "source": [
        "top50_potential_stopwords_a=total_string_potential_a_df.sort_values(by=['Count'],ascending=False).head(50)\n",
        "top50_potential_stopwords_b=total_string_potential_b_df.sort_values(by=['Count'],ascending=False).head(50)\n",
        "top50_potential_stopwords_c=total_string_potential_c_df.sort_values(by=['Count'],ascending=False).head(50)\n",
        "top50_potential_stopwords_d=total_string_potential_d_df.sort_values(by=['Count'],ascending=False).head(50)"
      ],
      "metadata": {
        "id": "_KNwQwdfrU3e"
      },
      "execution_count": null,
      "outputs": []
    },
    {
      "cell_type": "code",
      "source": [
        "common_potential_stopwords=list(reduce(set.intersection,map(set,[top50_potential_stopwords_a.Word,top50_potential_stopwords_b.Word,top50_potential_stopwords_c.Word,top50_potential_stopwords_d.Word])))"
      ],
      "metadata": {
        "id": "NzqwddVarXPj"
      },
      "execution_count": null,
      "outputs": []
    },
    {
      "cell_type": "code",
      "source": [
        "print(common_potential_stopwords)"
      ],
      "metadata": {
        "id": "l3gY9vfUrhVM"
      },
      "execution_count": null,
      "outputs": []
    },
    {
      "cell_type": "code",
      "source": [
        "potential_stopwords=['editor', 'reference', 'thank', 'work','find', 'good', 'know', 'like', 'look', 'thing', 'want', 'time', 'list', 'section','wikipedia', 'doe', 'add','new', 'try', 'think', 'write','use', 'user', 'way', 'page']"
      ],
      "metadata": {
        "id": "xS0uVK-drm0r"
      },
      "execution_count": null,
      "outputs": []
    },
    {
      "cell_type": "code",
      "source": [
        "for word in potential_stopwords:\n",
        "    Total_stopword.add(word)\n",
        "print(\"Done!!\")"
      ],
      "metadata": {
        "id": "BHoHeQfCrpfH"
      },
      "execution_count": null,
      "outputs": []
    },
    {
      "cell_type": "markdown",
      "source": [
        "# Removing Stopwords from Training Data"
      ],
      "metadata": {
        "id": "cStt1OzQ5oEo"
      }
    },
    {
      "cell_type": "code",
      "metadata": {
        "id": "RRSga8PKsktA"
      },
      "source": [
        "def stopwords(text, rem_stop_wrds=True):\n",
        "  output_text = \"\"\n",
        "  if rem_stop_wrds:\n",
        "    text=text.split(\" \")\n",
        "    for word in text:\n",
        "      if word not in Total_stopword:\n",
        "        output_text=output_text + \" \" + word\n",
        "  else :\n",
        "    output_text=text\n",
        "\n",
        "  return str(output_text.strip())      "
      ],
      "execution_count": 25,
      "outputs": []
    },
    {
      "cell_type": "code",
      "metadata": {
        "id": "Q-hItiV7skoV",
        "colab": {
          "base_uri": "https://localhost:8080/",
          "height": 49,
          "referenced_widgets": [
            "38f9fd13dbee485f83420dfe5338fbff",
            "cd96a2a0f9c34daeb701bc40e4d4108c",
            "f00738845d5e4f2ab236434093ce38f4",
            "98bd88179a874a32941c9b203f28c96f",
            "7c788fdbdcad48929430f51358597e1a",
            "e7095b49c6ad49f4a90dcbe759141fbd",
            "24a6f85d18904f95aeb0dd8b287af89b",
            "abe1dcb992ca4e36a29e3fd50088ef3f",
            "ae497674f8784b0aa484207f2a2b36ea",
            "7616a32dc640478b82e5f52d4c2ce7f2",
            "afb48d8303bd410b8f341334950ee305"
          ]
        },
        "outputId": "ad303292-fd43-432a-db47-1a24f75544dd"
      },
      "source": [
        "proc_train_data = [] \n",
        "\n",
        "for line in tqdm_notebook(lem_train_data, total=159571): \n",
        "    proc_train_data.append(stopwords(line))"
      ],
      "execution_count": 26,
      "outputs": [
        {
          "output_type": "display_data",
          "data": {
            "text/plain": [
              "  0%|          | 0/159571 [00:00<?, ?it/s]"
            ],
            "application/vnd.jupyter.widget-view+json": {
              "version_major": 2,
              "version_minor": 0,
              "model_id": "38f9fd13dbee485f83420dfe5338fbff"
            }
          },
          "metadata": {}
        }
      ]
    },
    {
      "cell_type": "code",
      "source": [
        "proc_train_data[152458]"
      ],
      "metadata": {
        "colab": {
          "base_uri": "https://localhost:8080/",
          "height": 53
        },
        "id": "hXI5qr0K5dbI",
        "outputId": "0da8d744-23e3-4cf4-cd7b-85d92f276e93"
      },
      "execution_count": 27,
      "outputs": [
        {
          "output_type": "execute_result",
          "data": {
            "text/plain": [
              "'agree graemel s intention revert nazi wikipedia ha way protect report wp rr revert rule notice board post report revert nazi graemel ha revert nazi unacceptable site s user s admins feel unjustly revert time hour period report revert noticeboard wp rr time'"
            ],
            "application/vnd.google.colaboratory.intrinsic+json": {
              "type": "string"
            }
          },
          "metadata": {},
          "execution_count": 27
        }
      ]
    },
    {
      "cell_type": "markdown",
      "source": [
        "Removing Stopwords from Test Data"
      ],
      "metadata": {
        "id": "Y-x6JGFE6E2f"
      }
    },
    {
      "cell_type": "code",
      "source": [
        "proc_test_data = [] \n",
        "\n",
        "for line in tqdm_notebook(lem_test_data, total=153164): \n",
        "    proc_test_data.append(stopwords(line))"
      ],
      "metadata": {
        "colab": {
          "base_uri": "https://localhost:8080/",
          "height": 49,
          "referenced_widgets": [
            "43c0063f6a424903a06ed369251ba811",
            "ee9ae5051dbc462c9c4342e04d678929",
            "27b61c41f3a749ba8e5253d44073cacb",
            "32ca9adf425a4dfe833f2382940b189f",
            "3aa7017e56be491b915624bd771c2e8e",
            "6595bada0bd048fbba62995ea0f0a6dc",
            "5ba3d33d29ca4ffbada0ebfef213b6f8",
            "6955e455c99a4402a5c4a8f1939a4521",
            "589ab52bcf0848739ca2f5a91fa2aff6",
            "7bfb78157c374de4b66e802017ccb816",
            "52d3355567584e44b09f7105bd11c510"
          ]
        },
        "id": "KgL934R_6Brt",
        "outputId": "bf3f495a-2c12-46f3-e924-0f5b9c030898"
      },
      "execution_count": 28,
      "outputs": [
        {
          "output_type": "display_data",
          "data": {
            "text/plain": [
              "  0%|          | 0/153164 [00:00<?, ?it/s]"
            ],
            "application/vnd.jupyter.widget-view+json": {
              "version_major": 2,
              "version_minor": 0,
              "model_id": "43c0063f6a424903a06ed369251ba811"
            }
          },
          "metadata": {}
        }
      ]
    },
    {
      "cell_type": "markdown",
      "source": [
        "Model Building"
      ],
      "metadata": {
        "id": "Gri0AA9R6IT_"
      }
    },
    {
      "cell_type": "code",
      "source": [
        "max_features=100000      \n",
        "maxpadlen = 200          \n",
        "val_split = 0.2      \n",
        "embed_dim_fasttext = 300"
      ],
      "metadata": {
        "id": "ntgV0JIy6mNw"
      },
      "execution_count": 29,
      "outputs": []
    },
    {
      "cell_type": "markdown",
      "source": [
        "Tokenization"
      ],
      "metadata": {
        "id": "bJwZJ2KpQTBj"
      }
    },
    {
      "cell_type": "code",
      "source": [
        "tokenizer = Tokenizer(num_words=max_features)\n",
        "tokenizer.fit_on_texts(list(proc_train_data))\n",
        "list_tokenized_train = tokenizer.texts_to_sequences(proc_train_data)\n",
        "list_tokenized_test = tokenizer.texts_to_sequences(proc_test_data)"
      ],
      "metadata": {
        "id": "x8JHr_-UQV8_"
      },
      "execution_count": 30,
      "outputs": []
    },
    {
      "cell_type": "code",
      "source": [
        "word_index=tokenizer.word_index\n",
        "print(\"Words in Vocabulary: \",len(word_index))"
      ],
      "metadata": {
        "colab": {
          "base_uri": "https://localhost:8080/"
        },
        "id": "ep6twLy1RS7y",
        "outputId": "26056b44-21f5-4660-9d58-95d8deecbbfc"
      },
      "execution_count": 31,
      "outputs": [
        {
          "output_type": "stream",
          "name": "stdout",
          "text": [
            "Words in Vocabulary:  149326\n"
          ]
        }
      ]
    },
    {
      "cell_type": "markdown",
      "source": [
        "Padding"
      ],
      "metadata": {
        "id": "qmXY2EKSRV9n"
      }
    },
    {
      "cell_type": "code",
      "source": [
        "X_t=pad_sequences(list_tokenized_train, maxlen=maxpadlen, padding = 'post')\n",
        "X_te=pad_sequences(list_tokenized_test, maxlen=maxpadlen, padding = 'post')"
      ],
      "metadata": {
        "id": "pqT3ekPQRXKo"
      },
      "execution_count": 32,
      "outputs": []
    },
    {
      "cell_type": "code",
      "source": [
        "print('Tokenized sentences: \\n', X_t[10])\n",
        "print('One hot label: \\n', y[10])"
      ],
      "metadata": {
        "colab": {
          "base_uri": "https://localhost:8080/"
        },
        "id": "UWGCiwECRaFH",
        "outputId": "256dff56-b66d-4986-a9c5-868ba3a4a6ef"
      },
      "execution_count": 33,
      "outputs": [
        {
          "output_type": "stream",
          "name": "stdout",
          "text": [
            "Tokenized sentences: \n",
            " [    2  1424   152     9    28   436     4     7    65   152     9   634\n",
            "   232   152     9   211    81   119   635   152     9   634     4    29\n",
            "    35    28     4     7   542   141    27  1162     6     4   452  1147\n",
            "    28  2507   544    70   152     9    28   232   456   415    25   300\n",
            "   232   286   189   145    44    46    62   211   112    46     4    15\n",
            "     8   302  4722    14    28 32694   283    15   232    28 32694   283\n",
            "   125   210     1   436     4   360   103     3   635    67    79   112\n",
            "   473  1636    67   210    24   635  1347   112  1727   172    27   172\n",
            "     5  4861   172     1   130     9    79   621  1333    39   112  1420\n",
            "   156   172     1  1663   112  1211    18    14    18   562   112   485\n",
            "    64   210   103     3    67   207  2308   501    64     9   363  1615\n",
            "   105   211   279   189     6   152     9     9    64    64    35     6\n",
            "    28   112    64   152     9     6    28   112    64    35   112    64\n",
            "     9   232   210    81   119   635    14    64    29    35   210   232\n",
            "   115    27   929  3256    28    25   300    64   286   189   145    44\n",
            "    28   112   162   102   485     6   152     9    28    25   406    46\n",
            "    62   211   112    46     4    15     8   302]\n",
            "One hot label: \n",
            " [0 0 0 0 0 0]\n"
          ]
        }
      ]
    },
    {
      "cell_type": "code",
      "source": [
        "indices = np.arange(X_t.shape[0])\n",
        "np.random.shuffle(indices)"
      ],
      "metadata": {
        "id": "QeOEDLdDRgkK"
      },
      "execution_count": 34,
      "outputs": []
    },
    {
      "cell_type": "code",
      "source": [
        "X_t = X_t[indices]\n",
        "labels = y[indices]"
      ],
      "metadata": {
        "id": "yCjPkcBIRhEb"
      },
      "execution_count": 35,
      "outputs": []
    },
    {
      "cell_type": "markdown",
      "source": [
        "Splitting data into Training and Validation Set"
      ],
      "metadata": {
        "id": "Tg_BDqk67Ajc"
      }
    },
    {
      "cell_type": "code",
      "source": [
        "num_val_samples = int(val_split*X_t.shape[0])\n",
        "x_tr = X_t[: -num_val_samples]\n",
        "y_tr = labels[: -num_val_samples]\n",
        "x_val = X_t[-num_val_samples: ]\n",
        "y_val = labels[-num_val_samples: ]"
      ],
      "metadata": {
        "id": "xFND3c7A7Ba5"
      },
      "execution_count": 36,
      "outputs": []
    },
    {
      "cell_type": "code",
      "source": [
        "print('Number of entries in each category:')\n",
        "print('training entries: ', y_tr.sum(axis=0))\n",
        "print('validation entries: ', y_val.sum(axis=0))"
      ],
      "metadata": {
        "colab": {
          "base_uri": "https://localhost:8080/"
        },
        "id": "-L78G6XF7DzQ",
        "outputId": "b90242f8-bb5a-4f8c-e1ea-bd5ab31c5eae"
      },
      "execution_count": 37,
      "outputs": [
        {
          "output_type": "stream",
          "name": "stdout",
          "text": [
            "Number of entries in each category:\n",
            "training entries:  [12274  1266  6763   377  6338  1126]\n",
            "validation entries:  [3020  329 1686  101 1539  279]\n"
          ]
        }
      ]
    },
    {
      "cell_type": "markdown",
      "source": [
        "Importing Fast tex"
      ],
      "metadata": {
        "id": "dBCj7jSO1KKN"
      }
    },
    {
      "cell_type": "code",
      "source": [
        "embed_index_fasttext = {}\n",
        "f = open('/content/drive/MyDrive/wiki-news-300d-1M.vec', encoding='utf8')\n",
        "for line in f:\n",
        "    values = line.split()\n",
        "    word = values[0]\n",
        "    embed_index_fasttext[word] = np.asarray(values[1:], dtype='float32')\n",
        "f.close()"
      ],
      "metadata": {
        "id": "7PXMoNEl1NcX"
      },
      "execution_count": 38,
      "outputs": []
    },
    {
      "cell_type": "code",
      "source": [
        "embed_matrix_fasttext = np.random.random((len(word_index) + 1, embed_dim_fasttext))\n",
        "for word, i in word_index.items():\n",
        "    embed_vector = embed_index_fasttext.get(word)\n",
        "    if embed_vector is not None:\n",
        "        embed_matrix_fasttext[i] = embed_vector\n",
        "print(\" Task Completed\")"
      ],
      "metadata": {
        "colab": {
          "base_uri": "https://localhost:8080/"
        },
        "id": "JCpxKJNW1QUY",
        "outputId": "a62d0ac3-4858-4854-f35f-b8fecbb23e19"
      },
      "execution_count": 39,
      "outputs": [
        {
          "output_type": "stream",
          "name": "stdout",
          "text": [
            " Task Completed\n"
          ]
        }
      ]
    },
    {
      "cell_type": "markdown",
      "source": [
        "Creating Model"
      ],
      "metadata": {
        "id": "biSaylNl7NZe"
      }
    },
    {
      "cell_type": "markdown",
      "source": [
        "Talos Grid Search for LSTM Model"
      ],
      "metadata": {
        "id": "QGUdrb5I7dVI"
      }
    },
    {
      "cell_type": "code",
      "metadata": {
        "id": "hnCI4Ktd1XSY"
      },
      "source": [
        "def toxic_comment_classifier(x_train,y_train,x_val,y_val,params):\n",
        "\n",
        "  inp=Input(shape=(maxpadlen, ),dtype='int32')\n",
        "\n",
        "  embedding_layer = Embedding(len(word_index) + 1,\n",
        "                           embed_dim_fasttext,\n",
        "                           weights = [embed_matrix_fasttext],\n",
        "                           input_length = maxpadlen,\n",
        "                           trainable=False,\n",
        "                           name = 'embeddings')\n",
        "  embedded_sequences = embedding_layer(inp)\n",
        "\n",
        "  x = LSTM(params['output_count_lstm'], return_sequences=True,name='lstm_layer')(embedded_sequences)\n",
        "  \n",
        "  x = GlobalMaxPool1D()(x)\n",
        "  \n",
        "  x = Dropout(params['dropout'])(x)\n",
        "  \n",
        "  x = Dense(params['output_count_dense'], activation=params['activation'], kernel_initializer='he_uniform')(x)\n",
        "  \n",
        "  x = Dropout(params['dropout'])(x)\n",
        "  \n",
        "  preds = Dense(6, activation=params['last_activation'], kernel_initializer='glorot_uniform')(x)\n",
        "\n",
        "  model = Model(inputs=inp, outputs=preds)\n",
        "\n",
        "  model.compile(['accuracy',metrics.Precision(name='precision'),metrics.Recall(name='recall'),metrics.F1Score(num_classes=6, name='f1_score')])\n",
        "\n",
        "  model_info=model.fit(x_train,y_train, epochs=params['epochs'], batch_size=params['batch_size'],  validation_data=(x_val, y_val))\n",
        "\n",
        "  return model_info, model"
      ],
      "execution_count": 40,
      "outputs": []
    },
    {
      "cell_type": "code",
      "metadata": {
        "id": "-6AtSibHGoTU"
      },
      "source": [
        "p={\n",
        "    'output_count_lstm': [40,50,60],\n",
        "    'output_count_dense': [30,40,50],\n",
        "    'batch_size': [32],\n",
        "    'epochs':[2],\n",
        "    'optimizer':['adam'],\n",
        "    'activation':['relu'],\n",
        "    #'last_activation': ['sigmoid'],\n",
        "    'last_activation': ['softmax'],\n",
        "    'dropout':[0.1,0.2],\n",
        "    'loss': ['binary_crossentropy']   \n",
        "}"
      ],
      "execution_count": 41,
      "outputs": []
    },
    {
      "cell_type": "code",
      "source": [
        "drscan_results = talos.Scan(x=x_tr,\n",
        "               y=y_tr,\n",
        "               x_val=x_val,\n",
        "               y_val=y_val,\n",
        "               model=toxic_comment_classifier,\n",
        "               params=p,\n",
        "               experiment_name='tcc',\n",
        "               print_params=True)"
      ],
      "metadata": {
        "colab": {
          "base_uri": "https://localhost:8080/"
        },
        "id": "XAI9KMbF7lDY",
        "outputId": "79d52bdc-9eae-41f4-b437-41f42c80f910"
      },
      "execution_count": 42,
      "outputs": [
        {
          "output_type": "stream",
          "name": "stderr",
          "text": [
            "\r  0%|          | 0/18 [00:00<?, ?it/s]"
          ]
        },
        {
          "output_type": "stream",
          "name": "stdout",
          "text": [
            "{'output_count_lstm': 40, 'output_count_dense': 30, 'batch_size': 32, 'epochs': 2, 'optimizer': 'adam', 'activation': 'relu', 'last_activation': 'softmax', 'dropout': 0.1, 'loss': 'binary_crossentropy'}\n",
            "Epoch 1/2\n",
            "3990/3990 [==============================] - 46s 9ms/step - loss: 0.0695 - accuracy: 0.9004 - val_loss: 0.0500 - val_accuracy: 0.9943\n",
            "Epoch 2/2\n",
            "3990/3990 [==============================] - 37s 9ms/step - loss: 0.0503 - accuracy: 0.9817 - val_loss: 0.0470 - val_accuracy: 0.9943\n"
          ]
        },
        {
          "output_type": "stream",
          "name": "stderr",
          "text": [
            "\r  6%|▌         | 1/18 [01:24<23:55, 84.47s/it]"
          ]
        },
        {
          "output_type": "stream",
          "name": "stdout",
          "text": [
            "{'output_count_lstm': 40, 'output_count_dense': 30, 'batch_size': 32, 'epochs': 2, 'optimizer': 'adam', 'activation': 'relu', 'last_activation': 'softmax', 'dropout': 0.2, 'loss': 'binary_crossentropy'}\n",
            "Epoch 1/2\n",
            "3990/3990 [==============================] - 40s 9ms/step - loss: 0.0702 - accuracy: 0.9416 - val_loss: 0.0493 - val_accuracy: 0.9943\n",
            "Epoch 2/2\n",
            "3990/3990 [==============================] - 37s 9ms/step - loss: 0.0515 - accuracy: 0.9892 - val_loss: 0.0468 - val_accuracy: 0.9943\n"
          ]
        },
        {
          "output_type": "stream",
          "name": "stderr",
          "text": [
            "\r 11%|█         | 2/18 [02:43<21:40, 81.29s/it]"
          ]
        },
        {
          "output_type": "stream",
          "name": "stdout",
          "text": [
            "{'output_count_lstm': 40, 'output_count_dense': 40, 'batch_size': 32, 'epochs': 2, 'optimizer': 'adam', 'activation': 'relu', 'last_activation': 'softmax', 'dropout': 0.1, 'loss': 'binary_crossentropy'}\n",
            "Epoch 1/2\n",
            "3990/3990 [==============================] - 41s 10ms/step - loss: 0.0619 - accuracy: 0.9528 - val_loss: 0.0481 - val_accuracy: 0.9944\n",
            "Epoch 2/2\n",
            "3990/3990 [==============================] - 37s 9ms/step - loss: 0.0485 - accuracy: 0.9872 - val_loss: 0.0460 - val_accuracy: 0.9943\n"
          ]
        },
        {
          "output_type": "stream",
          "name": "stderr",
          "text": [
            "\r 17%|█▋        | 3/18 [04:03<20:07, 80.48s/it]"
          ]
        },
        {
          "output_type": "stream",
          "name": "stdout",
          "text": [
            "{'output_count_lstm': 40, 'output_count_dense': 40, 'batch_size': 32, 'epochs': 2, 'optimizer': 'adam', 'activation': 'relu', 'last_activation': 'softmax', 'dropout': 0.2, 'loss': 'binary_crossentropy'}\n",
            "Epoch 1/2\n",
            "3990/3990 [==============================] - 40s 9ms/step - loss: 0.0653 - accuracy: 0.9330 - val_loss: 0.0480 - val_accuracy: 0.9944\n",
            "Epoch 2/2\n",
            "3990/3990 [==============================] - 37s 9ms/step - loss: 0.0498 - accuracy: 0.9840 - val_loss: 0.0464 - val_accuracy: 0.9944\n"
          ]
        },
        {
          "output_type": "stream",
          "name": "stderr",
          "text": [
            "\r 22%|██▏       | 4/18 [05:22<18:39, 79.94s/it]"
          ]
        },
        {
          "output_type": "stream",
          "name": "stdout",
          "text": [
            "{'output_count_lstm': 40, 'output_count_dense': 50, 'batch_size': 32, 'epochs': 2, 'optimizer': 'adam', 'activation': 'relu', 'last_activation': 'softmax', 'dropout': 0.1, 'loss': 'binary_crossentropy'}\n",
            "Epoch 1/2\n",
            "3990/3990 [==============================] - 40s 9ms/step - loss: 0.0620 - accuracy: 0.9480 - val_loss: 0.0486 - val_accuracy: 0.9943\n",
            "Epoch 2/2\n",
            "3990/3990 [==============================] - 38s 9ms/step - loss: 0.0489 - accuracy: 0.9903 - val_loss: 0.0460 - val_accuracy: 0.9943\n"
          ]
        },
        {
          "output_type": "stream",
          "name": "stderr",
          "text": [
            "\r 28%|██▊       | 5/18 [06:41<17:17, 79.84s/it]"
          ]
        },
        {
          "output_type": "stream",
          "name": "stdout",
          "text": [
            "{'output_count_lstm': 40, 'output_count_dense': 50, 'batch_size': 32, 'epochs': 2, 'optimizer': 'adam', 'activation': 'relu', 'last_activation': 'softmax', 'dropout': 0.2, 'loss': 'binary_crossentropy'}\n",
            "Epoch 1/2\n",
            "3990/3990 [==============================] - 40s 9ms/step - loss: 0.0649 - accuracy: 0.9334 - val_loss: 0.0501 - val_accuracy: 0.9944\n",
            "Epoch 2/2\n",
            "3990/3990 [==============================] - 37s 9ms/step - loss: 0.0509 - accuracy: 0.9928 - val_loss: 0.0467 - val_accuracy: 0.9944\n"
          ]
        },
        {
          "output_type": "stream",
          "name": "stderr",
          "text": [
            "\r 33%|███▎      | 6/18 [08:01<15:55, 79.63s/it]"
          ]
        },
        {
          "output_type": "stream",
          "name": "stdout",
          "text": [
            "{'output_count_lstm': 50, 'output_count_dense': 30, 'batch_size': 32, 'epochs': 2, 'optimizer': 'adam', 'activation': 'relu', 'last_activation': 'softmax', 'dropout': 0.1, 'loss': 'binary_crossentropy'}\n",
            "Epoch 1/2\n",
            "3990/3990 [==============================] - 42s 10ms/step - loss: 0.0641 - accuracy: 0.9249 - val_loss: 0.0485 - val_accuracy: 0.9944\n",
            "Epoch 2/2\n",
            "3990/3990 [==============================] - 39s 10ms/step - loss: 0.0491 - accuracy: 0.9889 - val_loss: 0.0465 - val_accuracy: 0.9942\n"
          ]
        },
        {
          "output_type": "stream",
          "name": "stderr",
          "text": [
            "\r 39%|███▉      | 7/18 [09:23<14:45, 80.54s/it]"
          ]
        },
        {
          "output_type": "stream",
          "name": "stdout",
          "text": [
            "{'output_count_lstm': 50, 'output_count_dense': 30, 'batch_size': 32, 'epochs': 2, 'optimizer': 'adam', 'activation': 'relu', 'last_activation': 'softmax', 'dropout': 0.2, 'loss': 'binary_crossentropy'}\n",
            "Epoch 1/2\n",
            "3990/3990 [==============================] - 42s 10ms/step - loss: 0.0680 - accuracy: 0.9117 - val_loss: 0.0493 - val_accuracy: 0.9944\n",
            "Epoch 2/2\n",
            "3990/3990 [==============================] - 39s 10ms/step - loss: 0.0509 - accuracy: 0.9900 - val_loss: 0.0465 - val_accuracy: 0.9942\n"
          ]
        },
        {
          "output_type": "stream",
          "name": "stderr",
          "text": [
            "\r 44%|████▍     | 8/18 [10:46<13:32, 81.29s/it]"
          ]
        },
        {
          "output_type": "stream",
          "name": "stdout",
          "text": [
            "{'output_count_lstm': 50, 'output_count_dense': 40, 'batch_size': 32, 'epochs': 2, 'optimizer': 'adam', 'activation': 'relu', 'last_activation': 'softmax', 'dropout': 0.1, 'loss': 'binary_crossentropy'}\n",
            "Epoch 1/2\n",
            "3990/3990 [==============================] - 42s 10ms/step - loss: 0.0617 - accuracy: 0.9648 - val_loss: 0.0483 - val_accuracy: 0.9944\n",
            "Epoch 2/2\n",
            "3990/3990 [==============================] - 39s 10ms/step - loss: 0.0492 - accuracy: 0.9881 - val_loss: 0.0464 - val_accuracy: 0.9944\n"
          ]
        },
        {
          "output_type": "stream",
          "name": "stderr",
          "text": [
            "\r 50%|█████     | 9/18 [12:09<12:16, 81.78s/it]"
          ]
        },
        {
          "output_type": "stream",
          "name": "stdout",
          "text": [
            "{'output_count_lstm': 50, 'output_count_dense': 40, 'batch_size': 32, 'epochs': 2, 'optimizer': 'adam', 'activation': 'relu', 'last_activation': 'softmax', 'dropout': 0.2, 'loss': 'binary_crossentropy'}\n",
            "Epoch 1/2\n",
            "3990/3990 [==============================] - 43s 10ms/step - loss: 0.0638 - accuracy: 0.9119 - val_loss: 0.0484 - val_accuracy: 0.9944\n",
            "Epoch 2/2\n",
            "3990/3990 [==============================] - 39s 10ms/step - loss: 0.0503 - accuracy: 0.9922 - val_loss: 0.0462 - val_accuracy: 0.9944\n"
          ]
        },
        {
          "output_type": "stream",
          "name": "stderr",
          "text": [
            "\r 56%|█████▌    | 10/18 [13:32<10:58, 82.33s/it]"
          ]
        },
        {
          "output_type": "stream",
          "name": "stdout",
          "text": [
            "{'output_count_lstm': 50, 'output_count_dense': 50, 'batch_size': 32, 'epochs': 2, 'optimizer': 'adam', 'activation': 'relu', 'last_activation': 'softmax', 'dropout': 0.1, 'loss': 'binary_crossentropy'}\n",
            "Epoch 1/2\n",
            "3990/3990 [==============================] - 42s 10ms/step - loss: 0.0622 - accuracy: 0.9288 - val_loss: 0.0486 - val_accuracy: 0.9943\n",
            "Epoch 2/2\n",
            "3990/3990 [==============================] - 39s 10ms/step - loss: 0.0488 - accuracy: 0.9866 - val_loss: 0.0464 - val_accuracy: 0.9943\n"
          ]
        },
        {
          "output_type": "stream",
          "name": "stderr",
          "text": [
            "\r 61%|██████    | 11/18 [14:58<09:43, 83.29s/it]"
          ]
        },
        {
          "output_type": "stream",
          "name": "stdout",
          "text": [
            "{'output_count_lstm': 50, 'output_count_dense': 50, 'batch_size': 32, 'epochs': 2, 'optimizer': 'adam', 'activation': 'relu', 'last_activation': 'softmax', 'dropout': 0.2, 'loss': 'binary_crossentropy'}\n",
            "Epoch 1/2\n",
            "3990/3990 [==============================] - 43s 10ms/step - loss: 0.0640 - accuracy: 0.9183 - val_loss: 0.0498 - val_accuracy: 0.9944\n",
            "Epoch 2/2\n",
            "3990/3990 [==============================] - 39s 10ms/step - loss: 0.0506 - accuracy: 0.9816 - val_loss: 0.0474 - val_accuracy: 0.9934\n"
          ]
        },
        {
          "output_type": "stream",
          "name": "stderr",
          "text": [
            "\r 67%|██████▋   | 12/18 [16:21<08:20, 83.35s/it]"
          ]
        },
        {
          "output_type": "stream",
          "name": "stdout",
          "text": [
            "{'output_count_lstm': 60, 'output_count_dense': 30, 'batch_size': 32, 'epochs': 2, 'optimizer': 'adam', 'activation': 'relu', 'last_activation': 'softmax', 'dropout': 0.1, 'loss': 'binary_crossentropy'}\n",
            "Epoch 1/2\n",
            "3990/3990 [==============================] - 43s 10ms/step - loss: 0.0638 - accuracy: 0.9265 - val_loss: 0.0481 - val_accuracy: 0.9944\n",
            "Epoch 2/2\n",
            "3990/3990 [==============================] - 40s 10ms/step - loss: 0.0491 - accuracy: 0.9925 - val_loss: 0.0461 - val_accuracy: 0.9944\n"
          ]
        },
        {
          "output_type": "stream",
          "name": "stderr",
          "text": [
            "\r 72%|███████▏  | 13/18 [17:46<06:58, 83.63s/it]"
          ]
        },
        {
          "output_type": "stream",
          "name": "stdout",
          "text": [
            "{'output_count_lstm': 60, 'output_count_dense': 30, 'batch_size': 32, 'epochs': 2, 'optimizer': 'adam', 'activation': 'relu', 'last_activation': 'softmax', 'dropout': 0.2, 'loss': 'binary_crossentropy'}\n",
            "Epoch 1/2\n",
            "3990/3990 [==============================] - 43s 10ms/step - loss: 0.0657 - accuracy: 0.9328 - val_loss: 0.0499 - val_accuracy: 0.9944\n",
            "Epoch 2/2\n",
            "3990/3990 [==============================] - 40s 10ms/step - loss: 0.0505 - accuracy: 0.9875 - val_loss: 0.0475 - val_accuracy: 0.9944\n"
          ]
        },
        {
          "output_type": "stream",
          "name": "stderr",
          "text": [
            "\r 78%|███████▊  | 14/18 [19:10<05:35, 83.95s/it]"
          ]
        },
        {
          "output_type": "stream",
          "name": "stdout",
          "text": [
            "{'output_count_lstm': 60, 'output_count_dense': 40, 'batch_size': 32, 'epochs': 2, 'optimizer': 'adam', 'activation': 'relu', 'last_activation': 'softmax', 'dropout': 0.1, 'loss': 'binary_crossentropy'}\n",
            "Epoch 1/2\n",
            "3990/3990 [==============================] - 43s 10ms/step - loss: 0.0608 - accuracy: 0.9387 - val_loss: 0.0471 - val_accuracy: 0.9943\n",
            "Epoch 2/2\n",
            "3990/3990 [==============================] - 40s 10ms/step - loss: 0.0481 - accuracy: 0.9826 - val_loss: 0.0453 - val_accuracy: 0.9942\n"
          ]
        },
        {
          "output_type": "stream",
          "name": "stderr",
          "text": [
            "\r 83%|████████▎ | 15/18 [20:34<04:11, 83.90s/it]"
          ]
        },
        {
          "output_type": "stream",
          "name": "stdout",
          "text": [
            "{'output_count_lstm': 60, 'output_count_dense': 40, 'batch_size': 32, 'epochs': 2, 'optimizer': 'adam', 'activation': 'relu', 'last_activation': 'softmax', 'dropout': 0.2, 'loss': 'binary_crossentropy'}\n",
            "Epoch 1/2\n",
            "3990/3990 [==============================] - 43s 10ms/step - loss: 0.0648 - accuracy: 0.9077 - val_loss: 0.0494 - val_accuracy: 0.9944\n",
            "Epoch 2/2\n",
            "3990/3990 [==============================] - 40s 10ms/step - loss: 0.0509 - accuracy: 0.9906 - val_loss: 0.0462 - val_accuracy: 0.9944\n"
          ]
        },
        {
          "output_type": "stream",
          "name": "stderr",
          "text": [
            "\r 89%|████████▉ | 16/18 [21:58<02:48, 84.06s/it]"
          ]
        },
        {
          "output_type": "stream",
          "name": "stdout",
          "text": [
            "{'output_count_lstm': 60, 'output_count_dense': 50, 'batch_size': 32, 'epochs': 2, 'optimizer': 'adam', 'activation': 'relu', 'last_activation': 'softmax', 'dropout': 0.1, 'loss': 'binary_crossentropy'}\n",
            "Epoch 1/2\n",
            "3990/3990 [==============================] - 43s 10ms/step - loss: 0.0617 - accuracy: 0.9431 - val_loss: 0.0480 - val_accuracy: 0.9931\n",
            "Epoch 2/2\n",
            "3990/3990 [==============================] - 40s 10ms/step - loss: 0.0483 - accuracy: 0.9867 - val_loss: 0.0456 - val_accuracy: 0.9943\n"
          ]
        },
        {
          "output_type": "stream",
          "name": "stderr",
          "text": [
            "\r 94%|█████████▍| 17/18 [23:23<01:24, 84.23s/it]"
          ]
        },
        {
          "output_type": "stream",
          "name": "stdout",
          "text": [
            "{'output_count_lstm': 60, 'output_count_dense': 50, 'batch_size': 32, 'epochs': 2, 'optimizer': 'adam', 'activation': 'relu', 'last_activation': 'softmax', 'dropout': 0.2, 'loss': 'binary_crossentropy'}\n",
            "Epoch 1/2\n",
            "3990/3990 [==============================] - 43s 10ms/step - loss: 0.0649 - accuracy: 0.9178 - val_loss: 0.0501 - val_accuracy: 0.9944\n",
            "Epoch 2/2\n",
            "3990/3990 [==============================] - 39s 10ms/step - loss: 0.0506 - accuracy: 0.9831 - val_loss: 0.0463 - val_accuracy: 0.9942\n"
          ]
        },
        {
          "output_type": "stream",
          "name": "stderr",
          "text": [
            "100%|██████████| 18/18 [24:47<00:00, 82.62s/it]\n"
          ]
        }
      ]
    },
    {
      "cell_type": "code",
      "source": [
        "model_id = drscan_results.data['val_accuracy'].astype('float').argmax()\n",
        "model_id"
      ],
      "metadata": {
        "id": "auuKGwet7nb-",
        "colab": {
          "base_uri": "https://localhost:8080/"
        },
        "outputId": "b585644d-78f4-4cd3-8776-33b6d69b5de7"
      },
      "execution_count": 43,
      "outputs": [
        {
          "output_type": "execute_result",
          "data": {
            "text/plain": [
              "3"
            ]
          },
          "metadata": {},
          "execution_count": 43
        }
      ]
    },
    {
      "cell_type": "code",
      "source": [
        "analyze_object = talos.Analyze(drscan_results)"
      ],
      "metadata": {
        "id": "kwgJ6xzN7pfe"
      },
      "execution_count": 44,
      "outputs": []
    },
    {
      "cell_type": "code",
      "source": [
        "analyze_object.best_params('val_accuracy', ['accuracy', 'loss', 'val_loss'])"
      ],
      "metadata": {
        "id": "VpSNrRvi7rll",
        "colab": {
          "base_uri": "https://localhost:8080/"
        },
        "outputId": "bac1783f-1384-454c-9ad6-cd9759c2c032"
      },
      "execution_count": 45,
      "outputs": [
        {
          "output_type": "execute_result",
          "data": {
            "text/plain": [
              "array([[0.2, 50, 2, 32, 'relu', '04/23/23-150607', 2, 40, 'adam',\n",
              "        82.63015222549438, '04/23/23-150729', 'softmax', 0],\n",
              "       [0.1, 60, 2, 32, 'relu', '04/23/23-151019', 2, 30, 'adam',\n",
              "        83.38044691085815, '04/23/23-151142', 'softmax', 1],\n",
              "       [0.2, 40, 2, 32, 'relu', '04/23/23-145800', 2, 40, 'adam',\n",
              "        78.23966979980469, '04/23/23-145919', 'softmax', 2],\n",
              "       [0.2, 40, 2, 32, 'relu', '04/23/23-150039', 2, 50, 'adam',\n",
              "        78.35046696662903, '04/23/23-150157', 'softmax', 3],\n",
              "       [0.2, 60, 2, 32, 'relu', '04/23/23-151432', 2, 40, 'adam',\n",
              "        83.52988386154175, '04/23/23-151555', 'softmax', 4],\n",
              "       [0.2, 60, 2, 32, 'relu', '04/23/23-151143', 2, 30, 'adam',\n",
              "        83.79713296890259, '04/23/23-151307', 'softmax', 5],\n",
              "       [0.1, 50, 2, 32, 'relu', '04/23/23-150444', 2, 40, 'adam',\n",
              "        81.96586585044861, '04/23/23-150606', 'softmax', 6],\n",
              "       [0.1, 40, 2, 32, 'relu', '04/23/23-145919', 2, 50, 'adam',\n",
              "        78.76945877075195, '04/23/23-150038', 'softmax', 7],\n",
              "       [0.2, 40, 2, 32, 'relu', '04/23/23-145522', 2, 30, 'adam',\n",
              "        78.2366828918457, '04/23/23-145640', 'softmax', 8],\n",
              "       [0.1, 50, 2, 32, 'relu', '04/23/23-150730', 2, 50, 'adam',\n",
              "        84.59196496009827, '04/23/23-150855', 'softmax', 9]], dtype=object)"
            ]
          },
          "metadata": {},
          "execution_count": 45
        }
      ]
    },
    {
      "cell_type": "code",
      "source": [
        "analyze_object.plot_line('val_accuracy')"
      ],
      "metadata": {
        "id": "3k8VKpuJ7uxd",
        "colab": {
          "base_uri": "https://localhost:8080/",
          "height": 1000
        },
        "outputId": "cedc291a-aa11-4cd4-8574-e62f51cce231"
      },
      "execution_count": 46,
      "outputs": [
        {
          "output_type": "stream",
          "name": "stderr",
          "text": [
            "WARNING:matplotlib.font_manager:findfont: Font family 'Verdana' not found.\n",
            "WARNING:matplotlib.font_manager:findfont: Font family 'Geneva' not found.\n",
            "WARNING:matplotlib.font_manager:findfont: Font family 'Verdana' not found.\n",
            "WARNING:matplotlib.font_manager:findfont: Font family 'Geneva' not found.\n",
            "WARNING:matplotlib.font_manager:findfont: Font family 'Verdana' not found.\n",
            "WARNING:matplotlib.font_manager:findfont: Font family 'Geneva' not found.\n",
            "WARNING:matplotlib.font_manager:findfont: Font family 'Verdana' not found.\n",
            "WARNING:matplotlib.font_manager:findfont: Font family 'Geneva' not found.\n",
            "WARNING:matplotlib.font_manager:findfont: Font family 'Verdana' not found.\n",
            "WARNING:matplotlib.font_manager:findfont: Font family 'Geneva' not found.\n",
            "WARNING:matplotlib.font_manager:findfont: Font family 'Verdana' not found.\n",
            "WARNING:matplotlib.font_manager:findfont: Font family 'Geneva' not found.\n",
            "WARNING:matplotlib.font_manager:findfont: Font family 'Verdana' not found.\n",
            "WARNING:matplotlib.font_manager:findfont: Font family 'Geneva' not found.\n",
            "WARNING:matplotlib.font_manager:findfont: Font family 'Verdana' not found.\n",
            "WARNING:matplotlib.font_manager:findfont: Font family 'Geneva' not found.\n",
            "WARNING:matplotlib.font_manager:findfont: Font family 'Verdana' not found.\n",
            "WARNING:matplotlib.font_manager:findfont: Font family 'Geneva' not found.\n",
            "WARNING:matplotlib.font_manager:findfont: Font family 'Verdana' not found.\n",
            "WARNING:matplotlib.font_manager:findfont: Font family 'Geneva' not found.\n",
            "WARNING:matplotlib.font_manager:findfont: Font family 'Verdana' not found.\n",
            "WARNING:matplotlib.font_manager:findfont: Font family 'Geneva' not found.\n",
            "WARNING:matplotlib.font_manager:findfont: Font family 'Verdana' not found.\n",
            "WARNING:matplotlib.font_manager:findfont: Font family 'Geneva' not found.\n",
            "WARNING:matplotlib.font_manager:findfont: Font family 'Verdana' not found.\n",
            "WARNING:matplotlib.font_manager:findfont: Font family 'Geneva' not found.\n",
            "WARNING:matplotlib.font_manager:findfont: Font family 'Verdana' not found.\n",
            "WARNING:matplotlib.font_manager:findfont: Font family 'Geneva' not found.\n",
            "WARNING:matplotlib.font_manager:findfont: Font family 'Verdana' not found.\n",
            "WARNING:matplotlib.font_manager:findfont: Font family 'Geneva' not found.\n",
            "WARNING:matplotlib.font_manager:findfont: Font family 'Verdana' not found.\n",
            "WARNING:matplotlib.font_manager:findfont: Font family 'Geneva' not found.\n",
            "WARNING:matplotlib.font_manager:findfont: Font family 'Verdana' not found.\n",
            "WARNING:matplotlib.font_manager:findfont: Font family 'Geneva' not found.\n",
            "WARNING:matplotlib.font_manager:findfont: Font family 'Verdana' not found.\n",
            "WARNING:matplotlib.font_manager:findfont: Font family 'Geneva' not found.\n",
            "WARNING:matplotlib.font_manager:findfont: Font family 'Verdana' not found.\n",
            "WARNING:matplotlib.font_manager:findfont: Font family 'Geneva' not found.\n",
            "WARNING:matplotlib.font_manager:findfont: Font family 'Verdana' not found.\n",
            "WARNING:matplotlib.font_manager:findfont: Font family 'Geneva' not found.\n",
            "WARNING:matplotlib.font_manager:findfont: Font family 'Verdana' not found.\n",
            "WARNING:matplotlib.font_manager:findfont: Font family 'Geneva' not found.\n",
            "WARNING:matplotlib.font_manager:findfont: Font family 'Verdana' not found.\n",
            "WARNING:matplotlib.font_manager:findfont: Font family 'Geneva' not found.\n",
            "WARNING:matplotlib.font_manager:findfont: Font family 'Verdana' not found.\n",
            "WARNING:matplotlib.font_manager:findfont: Font family 'Geneva' not found.\n",
            "WARNING:matplotlib.font_manager:findfont: Font family 'Verdana' not found.\n",
            "WARNING:matplotlib.font_manager:findfont: Font family 'Geneva' not found.\n",
            "WARNING:matplotlib.font_manager:findfont: Font family 'Verdana' not found.\n",
            "WARNING:matplotlib.font_manager:findfont: Font family 'Geneva' not found.\n",
            "WARNING:matplotlib.font_manager:findfont: Font family 'Verdana' not found.\n",
            "WARNING:matplotlib.font_manager:findfont: Font family 'Geneva' not found.\n",
            "WARNING:matplotlib.font_manager:findfont: Font family 'Verdana' not found.\n",
            "WARNING:matplotlib.font_manager:findfont: Font family 'Geneva' not found.\n",
            "WARNING:matplotlib.font_manager:findfont: Font family 'Verdana' not found.\n",
            "WARNING:matplotlib.font_manager:findfont: Font family 'Geneva' not found.\n",
            "WARNING:matplotlib.font_manager:findfont: Font family 'Verdana' not found.\n",
            "WARNING:matplotlib.font_manager:findfont: Font family 'Geneva' not found.\n",
            "WARNING:matplotlib.font_manager:findfont: Font family 'Verdana' not found.\n",
            "WARNING:matplotlib.font_manager:findfont: Font family 'Geneva' not found.\n",
            "WARNING:matplotlib.font_manager:findfont: Font family 'Verdana' not found.\n",
            "WARNING:matplotlib.font_manager:findfont: Font family 'Geneva' not found.\n",
            "WARNING:matplotlib.font_manager:findfont: Font family 'Verdana' not found.\n",
            "WARNING:matplotlib.font_manager:findfont: Font family 'Geneva' not found.\n",
            "WARNING:matplotlib.font_manager:findfont: Font family 'Verdana' not found.\n",
            "WARNING:matplotlib.font_manager:findfont: Font family 'Geneva' not found.\n",
            "WARNING:matplotlib.font_manager:findfont: Font family 'Verdana' not found.\n",
            "WARNING:matplotlib.font_manager:findfont: Font family 'Geneva' not found.\n",
            "WARNING:matplotlib.font_manager:findfont: Font family 'Verdana' not found.\n",
            "WARNING:matplotlib.font_manager:findfont: Font family 'Geneva' not found.\n",
            "WARNING:matplotlib.font_manager:findfont: Font family 'Verdana' not found.\n",
            "WARNING:matplotlib.font_manager:findfont: Font family 'Geneva' not found.\n",
            "WARNING:matplotlib.font_manager:findfont: Font family 'Verdana' not found.\n",
            "WARNING:matplotlib.font_manager:findfont: Font family 'Geneva' not found.\n",
            "WARNING:matplotlib.font_manager:findfont: Font family 'Verdana' not found.\n",
            "WARNING:matplotlib.font_manager:findfont: Font family 'Geneva' not found.\n",
            "WARNING:matplotlib.font_manager:findfont: Font family 'Verdana' not found.\n",
            "WARNING:matplotlib.font_manager:findfont: Font family 'Geneva' not found.\n",
            "WARNING:matplotlib.font_manager:findfont: Font family 'Verdana' not found.\n",
            "WARNING:matplotlib.font_manager:findfont: Font family 'Geneva' not found.\n",
            "WARNING:matplotlib.font_manager:findfont: Font family 'Verdana' not found.\n",
            "WARNING:matplotlib.font_manager:findfont: Font family 'Geneva' not found.\n",
            "WARNING:matplotlib.font_manager:findfont: Font family 'Verdana' not found.\n",
            "WARNING:matplotlib.font_manager:findfont: Font family 'Geneva' not found.\n",
            "WARNING:matplotlib.font_manager:findfont: Font family 'Verdana' not found.\n",
            "WARNING:matplotlib.font_manager:findfont: Font family 'Geneva' not found.\n",
            "WARNING:matplotlib.font_manager:findfont: Font family 'Verdana' not found.\n",
            "WARNING:matplotlib.font_manager:findfont: Font family 'Geneva' not found.\n",
            "WARNING:matplotlib.font_manager:findfont: Font family 'Verdana' not found.\n",
            "WARNING:matplotlib.font_manager:findfont: Font family 'Geneva' not found.\n",
            "WARNING:matplotlib.font_manager:findfont: Font family 'Verdana' not found.\n",
            "WARNING:matplotlib.font_manager:findfont: Font family 'Geneva' not found.\n"
          ]
        },
        {
          "output_type": "display_data",
          "data": {
            "text/plain": [
              "<Figure size 864x475.2 with 1 Axes>"
            ],
            "image/png": "[encoded data removed]"
          },
          "metadata": {}
        }
      ]
    },
    {
      "cell_type": "code",
      "source": [
        "analyze_object.plot_line('accuracy')"
      ],
      "metadata": {
        "id": "erN39w3A7w9j",
        "colab": {
          "base_uri": "https://localhost:8080/",
          "height": 1000
        },
        "outputId": "88b95442-03e3-4296-d33b-c30c1ea3d80b"
      },
      "execution_count": 47,
      "outputs": [
        {
          "output_type": "stream",
          "name": "stderr",
          "text": [
            "WARNING:matplotlib.font_manager:findfont: Font family 'Verdana' not found.\n",
            "WARNING:matplotlib.font_manager:findfont: Font family 'Geneva' not found.\n",
            "WARNING:matplotlib.font_manager:findfont: Font family 'Verdana' not found.\n",
            "WARNING:matplotlib.font_manager:findfont: Font family 'Geneva' not found.\n",
            "WARNING:matplotlib.font_manager:findfont: Font family 'Verdana' not found.\n",
            "WARNING:matplotlib.font_manager:findfont: Font family 'Geneva' not found.\n",
            "WARNING:matplotlib.font_manager:findfont: Font family 'Verdana' not found.\n",
            "WARNING:matplotlib.font_manager:findfont: Font family 'Geneva' not found.\n",
            "WARNING:matplotlib.font_manager:findfont: Font family 'Verdana' not found.\n",
            "WARNING:matplotlib.font_manager:findfont: Font family 'Geneva' not found.\n",
            "WARNING:matplotlib.font_manager:findfont: Font family 'Verdana' not found.\n",
            "WARNING:matplotlib.font_manager:findfont: Font family 'Geneva' not found.\n",
            "WARNING:matplotlib.font_manager:findfont: Font family 'Verdana' not found.\n",
            "WARNING:matplotlib.font_manager:findfont: Font family 'Geneva' not found.\n",
            "WARNING:matplotlib.font_manager:findfont: Font family 'Verdana' not found.\n",
            "WARNING:matplotlib.font_manager:findfont: Font family 'Geneva' not found.\n",
            "WARNING:matplotlib.font_manager:findfont: Font family 'Verdana' not found.\n",
            "WARNING:matplotlib.font_manager:findfont: Font family 'Geneva' not found.\n",
            "WARNING:matplotlib.font_manager:findfont: Font family 'Verdana' not found.\n",
            "WARNING:matplotlib.font_manager:findfont: Font family 'Geneva' not found.\n",
            "WARNING:matplotlib.font_manager:findfont: Font family 'Verdana' not found.\n",
            "WARNING:matplotlib.font_manager:findfont: Font family 'Geneva' not found.\n",
            "WARNING:matplotlib.font_manager:findfont: Font family 'Verdana' not found.\n",
            "WARNING:matplotlib.font_manager:findfont: Font family 'Geneva' not found.\n",
            "WARNING:matplotlib.font_manager:findfont: Font family 'Verdana' not found.\n",
            "WARNING:matplotlib.font_manager:findfont: Font family 'Geneva' not found.\n",
            "WARNING:matplotlib.font_manager:findfont: Font family 'Verdana' not found.\n",
            "WARNING:matplotlib.font_manager:findfont: Font family 'Geneva' not found.\n",
            "WARNING:matplotlib.font_manager:findfont: Font family 'Verdana' not found.\n",
            "WARNING:matplotlib.font_manager:findfont: Font family 'Geneva' not found.\n",
            "WARNING:matplotlib.font_manager:findfont: Font family 'Verdana' not found.\n",
            "WARNING:matplotlib.font_manager:findfont: Font family 'Geneva' not found.\n",
            "WARNING:matplotlib.font_manager:findfont: Font family 'Verdana' not found.\n",
            "WARNING:matplotlib.font_manager:findfont: Font family 'Geneva' not found.\n",
            "WARNING:matplotlib.font_manager:findfont: Font family 'Verdana' not found.\n",
            "WARNING:matplotlib.font_manager:findfont: Font family 'Geneva' not found.\n",
            "WARNING:matplotlib.font_manager:findfont: Font family 'Verdana' not found.\n",
            "WARNING:matplotlib.font_manager:findfont: Font family 'Geneva' not found.\n",
            "WARNING:matplotlib.font_manager:findfont: Font family 'Verdana' not found.\n",
            "WARNING:matplotlib.font_manager:findfont: Font family 'Geneva' not found.\n",
            "WARNING:matplotlib.font_manager:findfont: Font family 'Verdana' not found.\n",
            "WARNING:matplotlib.font_manager:findfont: Font family 'Geneva' not found.\n",
            "WARNING:matplotlib.font_manager:findfont: Font family 'Verdana' not found.\n",
            "WARNING:matplotlib.font_manager:findfont: Font family 'Geneva' not found.\n",
            "WARNING:matplotlib.font_manager:findfont: Font family 'Verdana' not found.\n",
            "WARNING:matplotlib.font_manager:findfont: Font family 'Geneva' not found.\n",
            "WARNING:matplotlib.font_manager:findfont: Font family 'Verdana' not found.\n",
            "WARNING:matplotlib.font_manager:findfont: Font family 'Geneva' not found.\n",
            "WARNING:matplotlib.font_manager:findfont: Font family 'Verdana' not found.\n",
            "WARNING:matplotlib.font_manager:findfont: Font family 'Geneva' not found.\n",
            "WARNING:matplotlib.font_manager:findfont: Font family 'Verdana' not found.\n",
            "WARNING:matplotlib.font_manager:findfont: Font family 'Geneva' not found.\n",
            "WARNING:matplotlib.font_manager:findfont: Font family 'Verdana' not found.\n",
            "WARNING:matplotlib.font_manager:findfont: Font family 'Geneva' not found.\n",
            "WARNING:matplotlib.font_manager:findfont: Font family 'Verdana' not found.\n",
            "WARNING:matplotlib.font_manager:findfont: Font family 'Geneva' not found.\n",
            "WARNING:matplotlib.font_manager:findfont: Font family 'Verdana' not found.\n",
            "WARNING:matplotlib.font_manager:findfont: Font family 'Geneva' not found.\n",
            "WARNING:matplotlib.font_manager:findfont: Font family 'Verdana' not found.\n",
            "WARNING:matplotlib.font_manager:findfont: Font family 'Geneva' not found.\n",
            "WARNING:matplotlib.font_manager:findfont: Font family 'Verdana' not found.\n",
            "WARNING:matplotlib.font_manager:findfont: Font family 'Geneva' not found.\n",
            "WARNING:matplotlib.font_manager:findfont: Font family 'Verdana' not found.\n",
            "WARNING:matplotlib.font_manager:findfont: Font family 'Geneva' not found.\n",
            "WARNING:matplotlib.font_manager:findfont: Font family 'Verdana' not found.\n",
            "WARNING:matplotlib.font_manager:findfont: Font family 'Geneva' not found.\n",
            "WARNING:matplotlib.font_manager:findfont: Font family 'Verdana' not found.\n",
            "WARNING:matplotlib.font_manager:findfont: Font family 'Geneva' not found.\n",
            "WARNING:matplotlib.font_manager:findfont: Font family 'Verdana' not found.\n",
            "WARNING:matplotlib.font_manager:findfont: Font family 'Geneva' not found.\n",
            "WARNING:matplotlib.font_manager:findfont: Font family 'Verdana' not found.\n",
            "WARNING:matplotlib.font_manager:findfont: Font family 'Geneva' not found.\n",
            "WARNING:matplotlib.font_manager:findfont: Font family 'Verdana' not found.\n",
            "WARNING:matplotlib.font_manager:findfont: Font family 'Geneva' not found.\n",
            "WARNING:matplotlib.font_manager:findfont: Font family 'Verdana' not found.\n",
            "WARNING:matplotlib.font_manager:findfont: Font family 'Geneva' not found.\n",
            "WARNING:matplotlib.font_manager:findfont: Font family 'Verdana' not found.\n",
            "WARNING:matplotlib.font_manager:findfont: Font family 'Geneva' not found.\n",
            "WARNING:matplotlib.font_manager:findfont: Font family 'Verdana' not found.\n",
            "WARNING:matplotlib.font_manager:findfont: Font family 'Geneva' not found.\n",
            "WARNING:matplotlib.font_manager:findfont: Font family 'Verdana' not found.\n",
            "WARNING:matplotlib.font_manager:findfont: Font family 'Geneva' not found.\n",
            "WARNING:matplotlib.font_manager:findfont: Font family 'Verdana' not found.\n",
            "WARNING:matplotlib.font_manager:findfont: Font family 'Geneva' not found.\n",
            "WARNING:matplotlib.font_manager:findfont: Font family 'Verdana' not found.\n",
            "WARNING:matplotlib.font_manager:findfont: Font family 'Geneva' not found.\n",
            "WARNING:matplotlib.font_manager:findfont: Font family 'Verdana' not found.\n",
            "WARNING:matplotlib.font_manager:findfont: Font family 'Geneva' not found.\n",
            "WARNING:matplotlib.font_manager:findfont: Font family 'Verdana' not found.\n",
            "WARNING:matplotlib.font_manager:findfont: Font family 'Geneva' not found.\n",
            "WARNING:matplotlib.font_manager:findfont: Font family 'Verdana' not found.\n",
            "WARNING:matplotlib.font_manager:findfont: Font family 'Geneva' not found.\n"
          ]
        },
        {
          "output_type": "display_data",
          "data": {
            "text/plain": [
              "<Figure size 864x475.2 with 1 Axes>"
            ],
            "image/png": "[encoded data removed]"
          },
          "metadata": {}
        }
      ]
    },
    {
      "cell_type": "markdown",
      "source": [
        "Talos Grid Search for LSTM-CNN Model"
      ],
      "metadata": {
        "id": "VIc-W39S7zu0"
      }
    },
    {
      "cell_type": "code",
      "metadata": {
        "id": "jH7jcbAs7MXv"
      },
      "source": [
        "def toxic_classifier(x_train,y_train,x_val,y_val,params):\n",
        "\n",
        "  inp=Input(shape=(maxpadlen, ),dtype='int32')\n",
        "\n",
        "  embedding_layer = Embedding(len(word_index) + 1,\n",
        "                           embed_dim_fasttext,\n",
        "                           weights = [embed_matrix_fasttext],\n",
        "                           input_length = maxpadlen,\n",
        "                           trainable=False,\n",
        "                           name = 'embeddings')\n",
        "  embedded_sequences = embedding_layer(inp)\n",
        "\n",
        "  x = LSTM(params['output_count_lstm'], return_sequences=True,name='lstm_layer')(embedded_sequences)\n",
        "\n",
        "  x = Conv1D(filters=params['filters'], kernel_size=params['kernel_size'], padding='same', activation='relu', kernel_initializer='he_uniform')(x)\n",
        "\n",
        "  x = MaxPooling1D(params['pool_size'])(x)\n",
        "  \n",
        "  x = GlobalMaxPool1D()(x)\n",
        "  \n",
        "  x = BatchNormalization()(x)\n",
        "  \n",
        "  x = Dense(params['output_1_count_dense'], activation=params['activation'], kernel_initializer='he_uniform')(x)\n",
        "  \n",
        "  x = Dropout(params['dropout'])(x)\n",
        "\n",
        "  x = Dense(params['output_2_count_dense'], activation=params['activation'], kernel_initializer='he_uniform')(x)\n",
        "  \n",
        "  x = Dropout(params['dropout'])(x)\n",
        "  \n",
        "  preds = Dense(6, activation=params['last_activation'], kernel_initializer='glorot_uniform')(x)\n",
        "\n",
        "  model = Model(inputs=inp, outputs=preds)\n",
        "\n",
        "  model.compile(loss=params['loss'], \n",
        "              optimizer=params['optimizer'], \n",
        "              metrics=['accuracy',metrics.Precision(name='precision'),metrics.Recall(name='recall'),metrics.F1Score(num_classes=6, name='f1_score')])\n",
        "\n",
        "  model_info=model.fit(x_train,y_train, epochs=params['epochs'], batch_size=params['batch_size'],  validation_data=(x_val, y_val))\n",
        "\n",
        "  return model_info, model"
      ],
      "execution_count": 48,
      "outputs": []
    },
    {
      "cell_type": "code",
      "metadata": {
        "id": "-Ru7Tkq67QoO"
      },
      "source": [
        "p={\n",
        "    'output_count_lstm': [50,60],\n",
        "    'output_1_count_dense': [40,50],\n",
        "    'output_2_count_dense': [30,40],\n",
        "    'filters' : [64],\n",
        "    'kernel_size' : [3],\n",
        "    'batch_size': [32],\n",
        "    'pool_size': [3],\n",
        "    'epochs':[2],\n",
        "    'optimizer':['adam'],\n",
        "    'activation':['relu'],\n",
        "    #'last_activation': ['sigmoid'],\n",
        "    'last_activation': ['softmax'],\n",
        "    'dropout':[0.1,0.2],\n",
        "    'loss': ['binary_crossentropy']   \n",
        "}"
      ],
      "execution_count": 49,
      "outputs": []
    },
    {
      "cell_type": "code",
      "metadata": {
        "id": "9l3M27FU7QiG",
        "colab": {
          "base_uri": "https://localhost:8080/"
        },
        "outputId": "dbaf2814-113f-42d6-8991-3190f46bc25b"
      },
      "source": [
        "scan_results = talos.Scan(x=x_tr,\n",
        "               y=y_tr,\n",
        "               x_val=x_val,\n",
        "               y_val=y_val,\n",
        "               model=toxic_classifier,\n",
        "               params=p,\n",
        "               experiment_name='tcc',\n",
        "               print_params=True)"
      ],
      "execution_count": 50,
      "outputs": [
        {
          "output_type": "stream",
          "name": "stderr",
          "text": [
            "\r  0%|          | 0/16 [00:00<?, ?it/s]"
          ]
        },
        {
          "output_type": "stream",
          "name": "stdout",
          "text": [
            "{'output_count_lstm': 50, 'output_1_count_dense': 40, 'output_2_count_dense': 30, 'filters': 64, 'kernel_size': 3, 'batch_size': 32, 'pool_size': 3, 'epochs': 2, 'optimizer': 'adam', 'activation': 'relu', 'last_activation': 'softmax', 'dropout': 0.1, 'loss': 'binary_crossentropy'}\n",
            "Epoch 1/2\n",
            "3990/3990 [==============================] - 55s 11ms/step - loss: 0.0639 - accuracy: 0.9239 - val_loss: 0.0520 - val_accuracy: 0.9944\n",
            "Epoch 2/2\n",
            "3990/3990 [==============================] - 46s 12ms/step - loss: 0.0523 - accuracy: 0.9922 - val_loss: 0.0539 - val_accuracy: 0.9941\n"
          ]
        },
        {
          "output_type": "stream",
          "name": "stderr",
          "text": [
            "\r  6%|▋         | 1/16 [01:42<25:38, 102.59s/it]"
          ]
        },
        {
          "output_type": "stream",
          "name": "stdout",
          "text": [
            "{'output_count_lstm': 50, 'output_1_count_dense': 40, 'output_2_count_dense': 30, 'filters': 64, 'kernel_size': 3, 'batch_size': 32, 'pool_size': 3, 'epochs': 2, 'optimizer': 'adam', 'activation': 'relu', 'last_activation': 'softmax', 'dropout': 0.2, 'loss': 'binary_crossentropy'}\n",
            "Epoch 1/2\n",
            "3990/3990 [==============================] - 50s 12ms/step - loss: 0.0757 - accuracy: 0.9043 - val_loss: 0.0534 - val_accuracy: 0.9944\n",
            "Epoch 2/2\n",
            "3990/3990 [==============================] - 46s 11ms/step - loss: 0.0548 - accuracy: 0.9814 - val_loss: 0.0488 - val_accuracy: 0.9944\n"
          ]
        },
        {
          "output_type": "stream",
          "name": "stderr",
          "text": [
            "\r 12%|█▎        | 2/16 [04:08<29:54, 128.20s/it]"
          ]
        },
        {
          "output_type": "stream",
          "name": "stdout",
          "text": [
            "{'output_count_lstm': 50, 'output_1_count_dense': 40, 'output_2_count_dense': 40, 'filters': 64, 'kernel_size': 3, 'batch_size': 32, 'pool_size': 3, 'epochs': 2, 'optimizer': 'adam', 'activation': 'relu', 'last_activation': 'softmax', 'dropout': 0.1, 'loss': 'binary_crossentropy'}\n",
            "Epoch 1/2\n",
            "3990/3990 [==============================] - 50s 12ms/step - loss: 0.0672 - accuracy: 0.9191 - val_loss: 0.0512 - val_accuracy: 0.9908\n",
            "Epoch 2/2\n",
            "3990/3990 [==============================] - 46s 11ms/step - loss: 0.0522 - accuracy: 0.9758 - val_loss: 0.0525 - val_accuracy: 0.9899\n"
          ]
        },
        {
          "output_type": "stream",
          "name": "stderr",
          "text": [
            "\r 19%|█▉        | 3/16 [06:34<29:33, 136.44s/it]"
          ]
        },
        {
          "output_type": "stream",
          "name": "stdout",
          "text": [
            "{'output_count_lstm': 50, 'output_1_count_dense': 40, 'output_2_count_dense': 40, 'filters': 64, 'kernel_size': 3, 'batch_size': 32, 'pool_size': 3, 'epochs': 2, 'optimizer': 'adam', 'activation': 'relu', 'last_activation': 'softmax', 'dropout': 0.2, 'loss': 'binary_crossentropy'}\n",
            "Epoch 1/2\n",
            "3990/3990 [==============================] - 50s 12ms/step - loss: 0.0688 - accuracy: 0.8953 - val_loss: 0.0500 - val_accuracy: 0.9936\n",
            "Epoch 2/2\n",
            "3990/3990 [==============================] - 46s 11ms/step - loss: 0.0535 - accuracy: 0.9765 - val_loss: 0.0478 - val_accuracy: 0.9941\n"
          ]
        },
        {
          "output_type": "stream",
          "name": "stderr",
          "text": [
            "\r 25%|██▌       | 4/16 [09:01<28:03, 140.27s/it]"
          ]
        },
        {
          "output_type": "stream",
          "name": "stdout",
          "text": [
            "{'output_count_lstm': 50, 'output_1_count_dense': 50, 'output_2_count_dense': 30, 'filters': 64, 'kernel_size': 3, 'batch_size': 32, 'pool_size': 3, 'epochs': 2, 'optimizer': 'adam', 'activation': 'relu', 'last_activation': 'softmax', 'dropout': 0.1, 'loss': 'binary_crossentropy'}\n",
            "Epoch 1/2\n",
            "3990/3990 [==============================] - 50s 12ms/step - loss: 0.0686 - accuracy: 0.8777 - val_loss: 0.0501 - val_accuracy: 0.9944\n",
            "Epoch 2/2\n",
            "3990/3990 [==============================] - 46s 12ms/step - loss: 0.0521 - accuracy: 0.9832 - val_loss: 0.0491 - val_accuracy: 0.9944\n"
          ]
        },
        {
          "output_type": "stream",
          "name": "stderr",
          "text": [
            "\r 31%|███▏      | 5/16 [11:27<26:06, 142.39s/it]"
          ]
        },
        {
          "output_type": "stream",
          "name": "stdout",
          "text": [
            "{'output_count_lstm': 50, 'output_1_count_dense': 50, 'output_2_count_dense': 30, 'filters': 64, 'kernel_size': 3, 'batch_size': 32, 'pool_size': 3, 'epochs': 2, 'optimizer': 'adam', 'activation': 'relu', 'last_activation': 'softmax', 'dropout': 0.2, 'loss': 'binary_crossentropy'}\n",
            "Epoch 1/2\n",
            "3990/3990 [==============================] - 51s 12ms/step - loss: 0.0757 - accuracy: 0.9016 - val_loss: 0.0540 - val_accuracy: 0.9944\n",
            "Epoch 2/2\n",
            "3990/3990 [==============================] - 46s 12ms/step - loss: 0.0544 - accuracy: 0.9830 - val_loss: 0.0504 - val_accuracy: 0.9944\n"
          ]
        },
        {
          "output_type": "stream",
          "name": "stderr",
          "text": [
            "\r 38%|███▊      | 6/16 [13:05<21:15, 127.53s/it]"
          ]
        },
        {
          "output_type": "stream",
          "name": "stdout",
          "text": [
            "{'output_count_lstm': 50, 'output_1_count_dense': 50, 'output_2_count_dense': 40, 'filters': 64, 'kernel_size': 3, 'batch_size': 32, 'pool_size': 3, 'epochs': 2, 'optimizer': 'adam', 'activation': 'relu', 'last_activation': 'softmax', 'dropout': 0.1, 'loss': 'binary_crossentropy'}\n",
            "Epoch 1/2\n",
            "3990/3990 [==============================] - 51s 12ms/step - loss: 0.0659 - accuracy: 0.8906 - val_loss: 0.0500 - val_accuracy: 0.9944\n",
            "Epoch 2/2\n",
            "3990/3990 [==============================] - 46s 11ms/step - loss: 0.0517 - accuracy: 0.9696 - val_loss: 0.0489 - val_accuracy: 0.9940\n"
          ]
        },
        {
          "output_type": "stream",
          "name": "stderr",
          "text": [
            "\r 44%|████▍     | 7/16 [14:44<17:43, 118.16s/it]"
          ]
        },
        {
          "output_type": "stream",
          "name": "stdout",
          "text": [
            "{'output_count_lstm': 50, 'output_1_count_dense': 50, 'output_2_count_dense': 40, 'filters': 64, 'kernel_size': 3, 'batch_size': 32, 'pool_size': 3, 'epochs': 2, 'optimizer': 'adam', 'activation': 'relu', 'last_activation': 'softmax', 'dropout': 0.2, 'loss': 'binary_crossentropy'}\n",
            "Epoch 1/2\n",
            "3990/3990 [==============================] - 51s 12ms/step - loss: 0.0710 - accuracy: 0.8980 - val_loss: 0.0675 - val_accuracy: 0.9943\n",
            "Epoch 2/2\n",
            "3990/3990 [==============================] - 47s 12ms/step - loss: 0.0540 - accuracy: 0.9877 - val_loss: 0.0494 - val_accuracy: 0.9941\n"
          ]
        },
        {
          "output_type": "stream",
          "name": "stderr",
          "text": [
            "\r 50%|█████     | 8/16 [17:11<16:57, 127.16s/it]"
          ]
        },
        {
          "output_type": "stream",
          "name": "stdout",
          "text": [
            "{'output_count_lstm': 60, 'output_1_count_dense': 40, 'output_2_count_dense': 30, 'filters': 64, 'kernel_size': 3, 'batch_size': 32, 'pool_size': 3, 'epochs': 2, 'optimizer': 'adam', 'activation': 'relu', 'last_activation': 'softmax', 'dropout': 0.1, 'loss': 'binary_crossentropy'}\n",
            "Epoch 1/2\n",
            "3990/3990 [==============================] - 52s 12ms/step - loss: 0.0679 - accuracy: 0.8873 - val_loss: 0.0501 - val_accuracy: 0.9928\n",
            "Epoch 2/2\n",
            "3990/3990 [==============================] - 47s 12ms/step - loss: 0.0520 - accuracy: 0.9810 - val_loss: 0.0511 - val_accuracy: 0.9943\n"
          ]
        },
        {
          "output_type": "stream",
          "name": "stderr",
          "text": [
            "\r 56%|█████▋    | 9/16 [18:51<13:51, 118.84s/it]"
          ]
        },
        {
          "output_type": "stream",
          "name": "stdout",
          "text": [
            "{'output_count_lstm': 60, 'output_1_count_dense': 40, 'output_2_count_dense': 30, 'filters': 64, 'kernel_size': 3, 'batch_size': 32, 'pool_size': 3, 'epochs': 2, 'optimizer': 'adam', 'activation': 'relu', 'last_activation': 'softmax', 'dropout': 0.2, 'loss': 'binary_crossentropy'}\n",
            "Epoch 1/2\n",
            "3990/3990 [==============================] - 51s 12ms/step - loss: 0.0721 - accuracy: 0.9118 - val_loss: 0.0511 - val_accuracy: 0.9944\n",
            "Epoch 2/2\n",
            "3990/3990 [==============================] - 46s 12ms/step - loss: 0.0546 - accuracy: 0.9860 - val_loss: 0.0520 - val_accuracy: 0.9944\n"
          ]
        },
        {
          "output_type": "stream",
          "name": "stderr",
          "text": [
            "\r 62%|██████▎   | 10/16 [20:30<11:16, 112.71s/it]"
          ]
        },
        {
          "output_type": "stream",
          "name": "stdout",
          "text": [
            "{'output_count_lstm': 60, 'output_1_count_dense': 40, 'output_2_count_dense': 40, 'filters': 64, 'kernel_size': 3, 'batch_size': 32, 'pool_size': 3, 'epochs': 2, 'optimizer': 'adam', 'activation': 'relu', 'last_activation': 'softmax', 'dropout': 0.1, 'loss': 'binary_crossentropy'}\n",
            "Epoch 1/2\n",
            "3990/3990 [==============================] - 50s 12ms/step - loss: 0.0652 - accuracy: 0.8954 - val_loss: 0.0544 - val_accuracy: 0.9944\n",
            "Epoch 2/2\n",
            "3990/3990 [==============================] - 47s 12ms/step - loss: 0.0526 - accuracy: 0.9787 - val_loss: 0.0486 - val_accuracy: 0.9914\n"
          ]
        },
        {
          "output_type": "stream",
          "name": "stderr",
          "text": [
            "\r 69%|██████▉   | 11/16 [22:09<09:02, 108.51s/it]"
          ]
        },
        {
          "output_type": "stream",
          "name": "stdout",
          "text": [
            "{'output_count_lstm': 60, 'output_1_count_dense': 40, 'output_2_count_dense': 40, 'filters': 64, 'kernel_size': 3, 'batch_size': 32, 'pool_size': 3, 'epochs': 2, 'optimizer': 'adam', 'activation': 'relu', 'last_activation': 'softmax', 'dropout': 0.2, 'loss': 'binary_crossentropy'}\n",
            "Epoch 1/2\n",
            "3990/3990 [==============================] - 50s 12ms/step - loss: 0.0690 - accuracy: 0.8871 - val_loss: 0.0528 - val_accuracy: 0.9944\n",
            "Epoch 2/2\n",
            "3990/3990 [==============================] - 47s 12ms/step - loss: 0.0539 - accuracy: 0.9752 - val_loss: 0.0487 - val_accuracy: 0.9943\n"
          ]
        },
        {
          "output_type": "stream",
          "name": "stderr",
          "text": [
            "\r 75%|███████▌  | 12/16 [23:48<07:02, 105.67s/it]"
          ]
        },
        {
          "output_type": "stream",
          "name": "stdout",
          "text": [
            "{'output_count_lstm': 60, 'output_1_count_dense': 50, 'output_2_count_dense': 30, 'filters': 64, 'kernel_size': 3, 'batch_size': 32, 'pool_size': 3, 'epochs': 2, 'optimizer': 'adam', 'activation': 'relu', 'last_activation': 'softmax', 'dropout': 0.1, 'loss': 'binary_crossentropy'}\n",
            "Epoch 1/2\n",
            "3990/3990 [==============================] - 51s 12ms/step - loss: 0.0683 - accuracy: 0.8795 - val_loss: 0.0571 - val_accuracy: 0.9941\n",
            "Epoch 2/2\n",
            "3990/3990 [==============================] - 46s 12ms/step - loss: 0.0523 - accuracy: 0.9674 - val_loss: 0.0475 - val_accuracy: 0.9888\n"
          ]
        },
        {
          "output_type": "stream",
          "name": "stderr",
          "text": [
            "\r 81%|████████▏ | 13/16 [25:27<05:10, 103.57s/it]"
          ]
        },
        {
          "output_type": "stream",
          "name": "stdout",
          "text": [
            "{'output_count_lstm': 60, 'output_1_count_dense': 50, 'output_2_count_dense': 30, 'filters': 64, 'kernel_size': 3, 'batch_size': 32, 'pool_size': 3, 'epochs': 2, 'optimizer': 'adam', 'activation': 'relu', 'last_activation': 'softmax', 'dropout': 0.2, 'loss': 'binary_crossentropy'}\n",
            "Epoch 1/2\n",
            "3990/3990 [==============================] - 50s 12ms/step - loss: 0.0712 - accuracy: 0.9340 - val_loss: 0.0524 - val_accuracy: 0.9944\n",
            "Epoch 2/2\n",
            "3990/3990 [==============================] - 47s 12ms/step - loss: 0.0542 - accuracy: 0.9907 - val_loss: 0.0486 - val_accuracy: 0.9944\n"
          ]
        },
        {
          "output_type": "stream",
          "name": "stderr",
          "text": [
            "\r 88%|████████▊ | 14/16 [27:06<03:24, 102.28s/it]"
          ]
        },
        {
          "output_type": "stream",
          "name": "stdout",
          "text": [
            "{'output_count_lstm': 60, 'output_1_count_dense': 50, 'output_2_count_dense': 40, 'filters': 64, 'kernel_size': 3, 'batch_size': 32, 'pool_size': 3, 'epochs': 2, 'optimizer': 'adam', 'activation': 'relu', 'last_activation': 'softmax', 'dropout': 0.1, 'loss': 'binary_crossentropy'}\n",
            "Epoch 1/2\n",
            "3990/3990 [==============================] - 51s 12ms/step - loss: 0.0633 - accuracy: 0.9020 - val_loss: 0.0539 - val_accuracy: 0.9891\n",
            "Epoch 2/2\n",
            "3990/3990 [==============================] - 47s 12ms/step - loss: 0.0517 - accuracy: 0.9841 - val_loss: 0.0479 - val_accuracy: 0.9936\n"
          ]
        },
        {
          "output_type": "stream",
          "name": "stderr",
          "text": [
            "\r 94%|█████████▍| 15/16 [28:46<01:41, 101.41s/it]"
          ]
        },
        {
          "output_type": "stream",
          "name": "stdout",
          "text": [
            "{'output_count_lstm': 60, 'output_1_count_dense': 50, 'output_2_count_dense': 40, 'filters': 64, 'kernel_size': 3, 'batch_size': 32, 'pool_size': 3, 'epochs': 2, 'optimizer': 'adam', 'activation': 'relu', 'last_activation': 'softmax', 'dropout': 0.2, 'loss': 'binary_crossentropy'}\n",
            "Epoch 1/2\n",
            "3990/3990 [==============================] - 50s 12ms/step - loss: 0.0663 - accuracy: 0.9153 - val_loss: 0.0517 - val_accuracy: 0.9944\n",
            "Epoch 2/2\n",
            "3990/3990 [==============================] - 46s 11ms/step - loss: 0.0540 - accuracy: 0.9801 - val_loss: 0.0519 - val_accuracy: 0.9943\n"
          ]
        },
        {
          "output_type": "stream",
          "name": "stderr",
          "text": [
            "100%|██████████| 16/16 [31:12<00:00, 117.04s/it]\n"
          ]
        }
      ]
    },
    {
      "cell_type": "code",
      "source": [
        "model_id = scan_results.data['val_accuracy'].astype('float').argmax()\n",
        "model_id"
      ],
      "metadata": {
        "id": "Kw7TtHKE75Fu",
        "colab": {
          "base_uri": "https://localhost:8080/"
        },
        "outputId": "38b49b4b-d5d8-4eca-cab4-9a4c60357286"
      },
      "execution_count": 51,
      "outputs": [
        {
          "output_type": "execute_result",
          "data": {
            "text/plain": [
              "1"
            ]
          },
          "metadata": {},
          "execution_count": 51
        }
      ]
    },
    {
      "cell_type": "code",
      "source": [
        "scan_results.data[8:9]"
      ],
      "metadata": {
        "id": "wnu9QPRJ8CzF",
        "colab": {
          "base_uri": "https://localhost:8080/",
          "height": 191
        },
        "outputId": "62311dc8-2498-4bc4-d4b1-244c4816cd27"
      },
      "execution_count": 52,
      "outputs": [
        {
          "output_type": "execute_result",
          "data": {
            "text/plain": [
              "             start              end   duration  round_epochs      loss  \\\n",
              "8  04/23/23-153557  04/23/23-153736  99.498246             2  0.052032   \n",
              "\n",
              "   accuracy  val_loss  val_accuracy  output_count_lstm  output_1_count_dense  \\\n",
              "8  0.981035  0.051086      0.994297                 60                    40   \n",
              "\n",
              "   ...  filters  kernel_size  batch_size  pool_size  epochs  optimizer  \\\n",
              "8  ...       64            3          32          3       2       adam   \n",
              "\n",
              "  activation last_activation dropout                 loss  \n",
              "8       relu         softmax     0.1  binary_crossentropy  \n",
              "\n",
              "[1 rows x 21 columns]"
            ],
            "text/html": [
              "\n",
              "  <div id=\"df-54266e7c-32ce-4ed4-b984-693dc6225a1e\">\n",
              "    <div class=\"colab-df-container\">\n",
              "      <div>\n",
              "<style scoped>\n",
              "    .dataframe tbody tr th:only-of-type {\n",
              "        vertical-align: middle;\n",
              "    }\n",
              "\n",
              "    .dataframe tbody tr th {\n",
              "        vertical-align: top;\n",
              "    }\n",
              "\n",
              "    .dataframe thead th {\n",
              "        text-align: right;\n",
              "    }\n",
              "</style>\n",
              "<table border=\"1\" class=\"dataframe\">\n",
              "  <thead>\n",
              "    <tr style=\"text-align: right;\">\n",
              "      <th></th>\n",
              "      <th>start</th>\n",
              "      <th>end</th>\n",
              "      <th>duration</th>\n",
              "      <th>round_epochs</th>\n",
              "      <th>loss</th>\n",
              "      <th>accuracy</th>\n",
              "      <th>val_loss</th>\n",
              "      <th>val_accuracy</th>\n",
              "      <th>output_count_lstm</th>\n",
              "      <th>output_1_count_dense</th>\n",
              "      <th>...</th>\n",
              "      <th>filters</th>\n",
              "      <th>kernel_size</th>\n",
              "      <th>batch_size</th>\n",
              "      <th>pool_size</th>\n",
              "      <th>epochs</th>\n",
              "      <th>optimizer</th>\n",
              "      <th>activation</th>\n",
              "      <th>last_activation</th>\n",
              "      <th>dropout</th>\n",
              "      <th>loss</th>\n",
              "    </tr>\n",
              "  </thead>\n",
              "  <tbody>\n",
              "    <tr>\n",
              "      <th>8</th>\n",
              "      <td>04/23/23-153557</td>\n",
              "      <td>04/23/23-153736</td>\n",
              "      <td>99.498246</td>\n",
              "      <td>2</td>\n",
              "      <td>0.052032</td>\n",
              "      <td>0.981035</td>\n",
              "      <td>0.051086</td>\n",
              "      <td>0.994297</td>\n",
              "      <td>60</td>\n",
              "      <td>40</td>\n",
              "      <td>...</td>\n",
              "      <td>64</td>\n",
              "      <td>3</td>\n",
              "      <td>32</td>\n",
              "      <td>3</td>\n",
              "      <td>2</td>\n",
              "      <td>adam</td>\n",
              "      <td>relu</td>\n",
              "      <td>softmax</td>\n",
              "      <td>0.1</td>\n",
              "      <td>binary_crossentropy</td>\n",
              "    </tr>\n",
              "  </tbody>\n",
              "</table>\n",
              "<p>1 rows × 21 columns</p>\n",
              "</div>\n",
              "      <button class=\"colab-df-convert\" onclick=\"convertToInteractive('df-54266e7c-32ce-4ed4-b984-693dc6225a1e')\"\n",
              "              title=\"Convert this dataframe to an interactive table.\"\n",
              "              style=\"display:none;\">\n",
              "        \n",
              "  <svg xmlns=\"http://www.w3.org/2000/svg\" height=\"24px\"viewBox=\"0 0 24 24\"\n",
              "       width=\"24px\">\n",
              "    <path d=\"M0 0h24v24H0V0z\" fill=\"none\"/>\n",
              "    <path d=\"M18.56 5.44l.94 2.06.94-2.06 2.06-.94-2.06-.94-.94-2.06-.94 2.06-2.06.94zm-11 1L8.5 8.5l.94-2.06 2.06-.94-2.06-.94L8.5 2.5l-.94 2.06-2.06.94zm10 10l.94 2.06.94-2.06 2.06-.94-2.06-.94-.94-2.06-.94 2.06-2.06.94z\"/><path d=\"M17.41 7.96l-1.37-1.37c-.4-.4-.92-.59-1.43-.59-.52 0-1.04.2-1.43.59L10.3 9.45l-7.72 7.72c-.78.78-.78 2.05 0 2.83L4 21.41c.39.39.9.59 1.41.59.51 0 1.02-.2 1.41-.59l7.78-7.78 2.81-2.81c.8-.78.8-2.07 0-2.86zM5.41 20L4 18.59l7.72-7.72 1.47 1.35L5.41 20z\"/>\n",
              "  </svg>\n",
              "      </button>\n",
              "      \n",
              "  <style>\n",
              "    .colab-df-container {\n",
              "      display:flex;\n",
              "      flex-wrap:wrap;\n",
              "      gap: 12px;\n",
              "    }\n",
              "\n",
              "    .colab-df-convert {\n",
              "      background-color: #E8F0FE;\n",
              "      border: none;\n",
              "      border-radius: 50%;\n",
              "      cursor: pointer;\n",
              "      display: none;\n",
              "      fill: #1967D2;\n",
              "      height: 32px;\n",
              "      padding: 0 0 0 0;\n",
              "      width: 32px;\n",
              "    }\n",
              "\n",
              "    .colab-df-convert:hover {\n",
              "      background-color: #E2EBFA;\n",
              "      box-shadow: 0px 1px 2px rgba(60, 64, 67, 0.3), 0px 1px 3px 1px rgba(60, 64, 67, 0.15);\n",
              "      fill: #174EA6;\n",
              "    }\n",
              "\n",
              "    [theme=dark] .colab-df-convert {\n",
              "      background-color: #3B4455;\n",
              "      fill: #D2E3FC;\n",
              "    }\n",
              "\n",
              "    [theme=dark] .colab-df-convert:hover {\n",
              "      background-color: #434B5C;\n",
              "      box-shadow: 0px 1px 3px 1px rgba(0, 0, 0, 0.15);\n",
              "      filter: drop-shadow(0px 1px 2px rgba(0, 0, 0, 0.3));\n",
              "      fill: #FFFFFF;\n",
              "    }\n",
              "  </style>\n",
              "\n",
              "      <script>\n",
              "        const buttonEl =\n",
              "          document.querySelector('#df-54266e7c-32ce-4ed4-b984-693dc6225a1e button.colab-df-convert');\n",
              "        buttonEl.style.display =\n",
              "          google.colab.kernel.accessAllowed ? 'block' : 'none';\n",
              "\n",
              "        async function convertToInteractive(key) {\n",
              "          const element = document.querySelector('#df-54266e7c-32ce-4ed4-b984-693dc6225a1e');\n",
              "          const dataTable =\n",
              "            await google.colab.kernel.invokeFunction('convertToInteractive',\n",
              "                                                     [key], {});\n",
              "          if (!dataTable) return;\n",
              "\n",
              "          const docLinkHtml = 'Like what you see? Visit the ' +\n",
              "            '<a target=\"_blank\" href=https://colab.research.google.com/notebooks/data_table.ipynb>data table notebook</a>'\n",
              "            + ' to learn more about interactive tables.';\n",
              "          element.innerHTML = '';\n",
              "          dataTable['output_type'] = 'display_data';\n",
              "          await google.colab.output.renderOutput(dataTable, element);\n",
              "          const docLink = document.createElement('div');\n",
              "          docLink.innerHTML = docLinkHtml;\n",
              "          element.appendChild(docLink);\n",
              "        }\n",
              "      </script>\n",
              "    </div>\n",
              "  </div>\n",
              "  "
            ]
          },
          "metadata": {},
          "execution_count": 52
        }
      ]
    },
    {
      "cell_type": "code",
      "source": [
        "analyze_object = talos.Analyze(scan_results)"
      ],
      "metadata": {
        "id": "jE4A9JEZ8FEP"
      },
      "execution_count": 53,
      "outputs": []
    },
    {
      "cell_type": "code",
      "source": [
        "analyze_object.best_params('val_accuracy', ['accuracy', 'loss', 'val_loss'])"
      ],
      "metadata": {
        "id": "J5C5fmkz8HJk",
        "colab": {
          "base_uri": "https://localhost:8080/"
        },
        "outputId": "065485fe-436d-4164-9b7f-25b41feca2b1"
      },
      "execution_count": 54,
      "outputs": [
        {
          "output_type": "execute_result",
          "data": {
            "text/plain": [
              "array([[0.2, 50, 2, 64, 30, 32, 'relu', '04/23/23-152028', 2, 3, 40, 3,\n",
              "        'adam', 145.17101407051086, '04/23/23-152253', 'softmax', 0],\n",
              "       [0.1, 50, 2, 64, 30, 32, 'relu', '04/23/23-152747', 2, 3, 50, 3,\n",
              "        'adam', 145.19786548614502, '04/23/23-153012', 'softmax', 1],\n",
              "       [0.2, 50, 2, 64, 30, 32, 'relu', '04/23/23-153013', 2, 3, 50, 3,\n",
              "        'adam', 97.68642330169678, '04/23/23-153150', 'softmax', 2],\n",
              "       [0.2, 60, 2, 64, 30, 32, 'relu', '04/23/23-153737', 2, 3, 40, 3,\n",
              "        'adam', 97.91400027275085, '04/23/23-153915', 'softmax', 3],\n",
              "       [0.2, 60, 2, 64, 30, 32, 'relu', '04/23/23-154413', 2, 3, 50, 3,\n",
              "        'adam', 98.24295210838318, '04/23/23-154551', 'softmax', 4],\n",
              "       [0.2, 60, 2, 64, 40, 32, 'relu', '04/23/23-154732', 2, 3, 50, 3,\n",
              "        'adam', 145.25234484672546, '04/23/23-154957', 'softmax', 5],\n",
              "       [0.1, 60, 2, 64, 30, 32, 'relu', '04/23/23-153557', 2, 3, 40, 3,\n",
              "        'adam', 99.49824571609497, '04/23/23-153736', 'softmax', 6],\n",
              "       [0.2, 60, 2, 64, 40, 32, 'relu', '04/23/23-154055', 2, 3, 40, 3,\n",
              "        'adam', 98.16088128089905, '04/23/23-154233', 'softmax', 7],\n",
              "       [0.1, 50, 2, 64, 30, 32, 'relu', '04/23/23-151845', 2, 3, 40, 3,\n",
              "        'adam', 101.62714719772339, '04/23/23-152027', 'softmax', 8],\n",
              "       [0.2, 50, 2, 64, 40, 32, 'relu', '04/23/23-152520', 2, 3, 40, 3,\n",
              "        'adam', 145.17948508262634, '04/23/23-152746', 'softmax', 9]],\n",
              "      dtype=object)"
            ]
          },
          "metadata": {},
          "execution_count": 54
        }
      ]
    },
    {
      "cell_type": "code",
      "source": [
        "analyze_object.plot_line('val_accuracy')"
      ],
      "metadata": {
        "id": "kSdLNPWg8J4r",
        "colab": {
          "base_uri": "https://localhost:8080/",
          "height": 1000
        },
        "outputId": "7212a715-74fa-4597-e863-5fbd478a9e26"
      },
      "execution_count": 55,
      "outputs": [
        {
          "output_type": "stream",
          "name": "stderr",
          "text": [
            "WARNING:matplotlib.font_manager:findfont: Font family 'Verdana' not found.\n",
            "WARNING:matplotlib.font_manager:findfont: Font family 'Geneva' not found.\n",
            "WARNING:matplotlib.font_manager:findfont: Font family 'Verdana' not found.\n",
            "WARNING:matplotlib.font_manager:findfont: Font family 'Geneva' not found.\n",
            "WARNING:matplotlib.font_manager:findfont: Font family 'Verdana' not found.\n",
            "WARNING:matplotlib.font_manager:findfont: Font family 'Geneva' not found.\n",
            "WARNING:matplotlib.font_manager:findfont: Font family 'Verdana' not found.\n",
            "WARNING:matplotlib.font_manager:findfont: Font family 'Geneva' not found.\n",
            "WARNING:matplotlib.font_manager:findfont: Font family 'Verdana' not found.\n",
            "WARNING:matplotlib.font_manager:findfont: Font family 'Geneva' not found.\n",
            "WARNING:matplotlib.font_manager:findfont: Font family 'Verdana' not found.\n",
            "WARNING:matplotlib.font_manager:findfont: Font family 'Geneva' not found.\n",
            "WARNING:matplotlib.font_manager:findfont: Font family 'Verdana' not found.\n",
            "WARNING:matplotlib.font_manager:findfont: Font family 'Geneva' not found.\n",
            "WARNING:matplotlib.font_manager:findfont: Font family 'Verdana' not found.\n",
            "WARNING:matplotlib.font_manager:findfont: Font family 'Geneva' not found.\n",
            "WARNING:matplotlib.font_manager:findfont: Font family 'Verdana' not found.\n",
            "WARNING:matplotlib.font_manager:findfont: Font family 'Geneva' not found.\n",
            "WARNING:matplotlib.font_manager:findfont: Font family 'Verdana' not found.\n",
            "WARNING:matplotlib.font_manager:findfont: Font family 'Geneva' not found.\n",
            "WARNING:matplotlib.font_manager:findfont: Font family 'Verdana' not found.\n",
            "WARNING:matplotlib.font_manager:findfont: Font family 'Geneva' not found.\n",
            "WARNING:matplotlib.font_manager:findfont: Font family 'Verdana' not found.\n",
            "WARNING:matplotlib.font_manager:findfont: Font family 'Geneva' not found.\n",
            "WARNING:matplotlib.font_manager:findfont: Font family 'Verdana' not found.\n",
            "WARNING:matplotlib.font_manager:findfont: Font family 'Geneva' not found.\n",
            "WARNING:matplotlib.font_manager:findfont: Font family 'Verdana' not found.\n",
            "WARNING:matplotlib.font_manager:findfont: Font family 'Geneva' not found.\n",
            "WARNING:matplotlib.font_manager:findfont: Font family 'Verdana' not found.\n",
            "WARNING:matplotlib.font_manager:findfont: Font family 'Geneva' not found.\n",
            "WARNING:matplotlib.font_manager:findfont: Font family 'Verdana' not found.\n",
            "WARNING:matplotlib.font_manager:findfont: Font family 'Geneva' not found.\n",
            "WARNING:matplotlib.font_manager:findfont: Font family 'Verdana' not found.\n",
            "WARNING:matplotlib.font_manager:findfont: Font family 'Geneva' not found.\n",
            "WARNING:matplotlib.font_manager:findfont: Font family 'Verdana' not found.\n",
            "WARNING:matplotlib.font_manager:findfont: Font family 'Geneva' not found.\n",
            "WARNING:matplotlib.font_manager:findfont: Font family 'Verdana' not found.\n",
            "WARNING:matplotlib.font_manager:findfont: Font family 'Geneva' not found.\n",
            "WARNING:matplotlib.font_manager:findfont: Font family 'Verdana' not found.\n",
            "WARNING:matplotlib.font_manager:findfont: Font family 'Geneva' not found.\n",
            "WARNING:matplotlib.font_manager:findfont: Font family 'Verdana' not found.\n",
            "WARNING:matplotlib.font_manager:findfont: Font family 'Geneva' not found.\n",
            "WARNING:matplotlib.font_manager:findfont: Font family 'Verdana' not found.\n",
            "WARNING:matplotlib.font_manager:findfont: Font family 'Geneva' not found.\n",
            "WARNING:matplotlib.font_manager:findfont: Font family 'Verdana' not found.\n",
            "WARNING:matplotlib.font_manager:findfont: Font family 'Geneva' not found.\n",
            "WARNING:matplotlib.font_manager:findfont: Font family 'Verdana' not found.\n",
            "WARNING:matplotlib.font_manager:findfont: Font family 'Geneva' not found.\n",
            "WARNING:matplotlib.font_manager:findfont: Font family 'Verdana' not found.\n",
            "WARNING:matplotlib.font_manager:findfont: Font family 'Geneva' not found.\n",
            "WARNING:matplotlib.font_manager:findfont: Font family 'Verdana' not found.\n",
            "WARNING:matplotlib.font_manager:findfont: Font family 'Geneva' not found.\n",
            "WARNING:matplotlib.font_manager:findfont: Font family 'Verdana' not found.\n",
            "WARNING:matplotlib.font_manager:findfont: Font family 'Geneva' not found.\n",
            "WARNING:matplotlib.font_manager:findfont: Font family 'Verdana' not found.\n",
            "WARNING:matplotlib.font_manager:findfont: Font family 'Geneva' not found.\n",
            "WARNING:matplotlib.font_manager:findfont: Font family 'Verdana' not found.\n",
            "WARNING:matplotlib.font_manager:findfont: Font family 'Geneva' not found.\n",
            "WARNING:matplotlib.font_manager:findfont: Font family 'Verdana' not found.\n",
            "WARNING:matplotlib.font_manager:findfont: Font family 'Geneva' not found.\n",
            "WARNING:matplotlib.font_manager:findfont: Font family 'Verdana' not found.\n",
            "WARNING:matplotlib.font_manager:findfont: Font family 'Geneva' not found.\n",
            "WARNING:matplotlib.font_manager:findfont: Font family 'Verdana' not found.\n",
            "WARNING:matplotlib.font_manager:findfont: Font family 'Geneva' not found.\n",
            "WARNING:matplotlib.font_manager:findfont: Font family 'Verdana' not found.\n",
            "WARNING:matplotlib.font_manager:findfont: Font family 'Geneva' not found.\n",
            "WARNING:matplotlib.font_manager:findfont: Font family 'Verdana' not found.\n",
            "WARNING:matplotlib.font_manager:findfont: Font family 'Geneva' not found.\n",
            "WARNING:matplotlib.font_manager:findfont: Font family 'Verdana' not found.\n",
            "WARNING:matplotlib.font_manager:findfont: Font family 'Geneva' not found.\n",
            "WARNING:matplotlib.font_manager:findfont: Font family 'Verdana' not found.\n",
            "WARNING:matplotlib.font_manager:findfont: Font family 'Geneva' not found.\n",
            "WARNING:matplotlib.font_manager:findfont: Font family 'Verdana' not found.\n",
            "WARNING:matplotlib.font_manager:findfont: Font family 'Geneva' not found.\n",
            "WARNING:matplotlib.font_manager:findfont: Font family 'Verdana' not found.\n",
            "WARNING:matplotlib.font_manager:findfont: Font family 'Geneva' not found.\n",
            "WARNING:matplotlib.font_manager:findfont: Font family 'Verdana' not found.\n",
            "WARNING:matplotlib.font_manager:findfont: Font family 'Geneva' not found.\n",
            "WARNING:matplotlib.font_manager:findfont: Font family 'Verdana' not found.\n",
            "WARNING:matplotlib.font_manager:findfont: Font family 'Geneva' not found.\n",
            "WARNING:matplotlib.font_manager:findfont: Font family 'Verdana' not found.\n",
            "WARNING:matplotlib.font_manager:findfont: Font family 'Geneva' not found.\n",
            "WARNING:matplotlib.font_manager:findfont: Font family 'Verdana' not found.\n",
            "WARNING:matplotlib.font_manager:findfont: Font family 'Geneva' not found.\n"
          ]
        },
        {
          "output_type": "display_data",
          "data": {
            "text/plain": [
              "<Figure size 864x475.2 with 1 Axes>"
            ],
            "image/png": "[encoded data removed]"
          },
          "metadata": {}
        }
      ]
    },
    {
      "cell_type": "code",
      "source": [
        "analyze_object.plot_line('accuracy')"
      ],
      "metadata": {
        "id": "ZHw3SA0q8L_K",
        "colab": {
          "base_uri": "https://localhost:8080/",
          "height": 1000
        },
        "outputId": "6d3f920f-001b-47ae-9bbc-155dc24f9e4c"
      },
      "execution_count": 56,
      "outputs": [
        {
          "output_type": "stream",
          "name": "stderr",
          "text": [
            "WARNING:matplotlib.font_manager:findfont: Font family 'Verdana' not found.\n",
            "WARNING:matplotlib.font_manager:findfont: Font family 'Geneva' not found.\n",
            "WARNING:matplotlib.font_manager:findfont: Font family 'Verdana' not found.\n",
            "WARNING:matplotlib.font_manager:findfont: Font family 'Geneva' not found.\n",
            "WARNING:matplotlib.font_manager:findfont: Font family 'Verdana' not found.\n",
            "WARNING:matplotlib.font_manager:findfont: Font family 'Geneva' not found.\n",
            "WARNING:matplotlib.font_manager:findfont: Font family 'Verdana' not found.\n",
            "WARNING:matplotlib.font_manager:findfont: Font family 'Geneva' not found.\n",
            "WARNING:matplotlib.font_manager:findfont: Font family 'Verdana' not found.\n",
            "WARNING:matplotlib.font_manager:findfont: Font family 'Geneva' not found.\n",
            "WARNING:matplotlib.font_manager:findfont: Font family 'Verdana' not found.\n",
            "WARNING:matplotlib.font_manager:findfont: Font family 'Geneva' not found.\n",
            "WARNING:matplotlib.font_manager:findfont: Font family 'Verdana' not found.\n",
            "WARNING:matplotlib.font_manager:findfont: Font family 'Geneva' not found.\n",
            "WARNING:matplotlib.font_manager:findfont: Font family 'Verdana' not found.\n",
            "WARNING:matplotlib.font_manager:findfont: Font family 'Geneva' not found.\n",
            "WARNING:matplotlib.font_manager:findfont: Font family 'Verdana' not found.\n",
            "WARNING:matplotlib.font_manager:findfont: Font family 'Geneva' not found.\n",
            "WARNING:matplotlib.font_manager:findfont: Font family 'Verdana' not found.\n",
            "WARNING:matplotlib.font_manager:findfont: Font family 'Geneva' not found.\n",
            "WARNING:matplotlib.font_manager:findfont: Font family 'Verdana' not found.\n",
            "WARNING:matplotlib.font_manager:findfont: Font family 'Geneva' not found.\n",
            "WARNING:matplotlib.font_manager:findfont: Font family 'Verdana' not found.\n",
            "WARNING:matplotlib.font_manager:findfont: Font family 'Geneva' not found.\n",
            "WARNING:matplotlib.font_manager:findfont: Font family 'Verdana' not found.\n",
            "WARNING:matplotlib.font_manager:findfont: Font family 'Geneva' not found.\n",
            "WARNING:matplotlib.font_manager:findfont: Font family 'Verdana' not found.\n",
            "WARNING:matplotlib.font_manager:findfont: Font family 'Geneva' not found.\n",
            "WARNING:matplotlib.font_manager:findfont: Font family 'Verdana' not found.\n",
            "WARNING:matplotlib.font_manager:findfont: Font family 'Geneva' not found.\n",
            "WARNING:matplotlib.font_manager:findfont: Font family 'Verdana' not found.\n",
            "WARNING:matplotlib.font_manager:findfont: Font family 'Geneva' not found.\n",
            "WARNING:matplotlib.font_manager:findfont: Font family 'Verdana' not found.\n",
            "WARNING:matplotlib.font_manager:findfont: Font family 'Geneva' not found.\n",
            "WARNING:matplotlib.font_manager:findfont: Font family 'Verdana' not found.\n",
            "WARNING:matplotlib.font_manager:findfont: Font family 'Geneva' not found.\n",
            "WARNING:matplotlib.font_manager:findfont: Font family 'Verdana' not found.\n",
            "WARNING:matplotlib.font_manager:findfont: Font family 'Geneva' not found.\n",
            "WARNING:matplotlib.font_manager:findfont: Font family 'Verdana' not found.\n",
            "WARNING:matplotlib.font_manager:findfont: Font family 'Geneva' not found.\n",
            "WARNING:matplotlib.font_manager:findfont: Font family 'Verdana' not found.\n",
            "WARNING:matplotlib.font_manager:findfont: Font family 'Geneva' not found.\n",
            "WARNING:matplotlib.font_manager:findfont: Font family 'Verdana' not found.\n",
            "WARNING:matplotlib.font_manager:findfont: Font family 'Geneva' not found.\n",
            "WARNING:matplotlib.font_manager:findfont: Font family 'Verdana' not found.\n",
            "WARNING:matplotlib.font_manager:findfont: Font family 'Geneva' not found.\n",
            "WARNING:matplotlib.font_manager:findfont: Font family 'Verdana' not found.\n",
            "WARNING:matplotlib.font_manager:findfont: Font family 'Geneva' not found.\n",
            "WARNING:matplotlib.font_manager:findfont: Font family 'Verdana' not found.\n",
            "WARNING:matplotlib.font_manager:findfont: Font family 'Geneva' not found.\n",
            "WARNING:matplotlib.font_manager:findfont: Font family 'Verdana' not found.\n",
            "WARNING:matplotlib.font_manager:findfont: Font family 'Geneva' not found.\n",
            "WARNING:matplotlib.font_manager:findfont: Font family 'Verdana' not found.\n",
            "WARNING:matplotlib.font_manager:findfont: Font family 'Geneva' not found.\n",
            "WARNING:matplotlib.font_manager:findfont: Font family 'Verdana' not found.\n",
            "WARNING:matplotlib.font_manager:findfont: Font family 'Geneva' not found.\n",
            "WARNING:matplotlib.font_manager:findfont: Font family 'Verdana' not found.\n",
            "WARNING:matplotlib.font_manager:findfont: Font family 'Geneva' not found.\n",
            "WARNING:matplotlib.font_manager:findfont: Font family 'Verdana' not found.\n",
            "WARNING:matplotlib.font_manager:findfont: Font family 'Geneva' not found.\n",
            "WARNING:matplotlib.font_manager:findfont: Font family 'Verdana' not found.\n",
            "WARNING:matplotlib.font_manager:findfont: Font family 'Geneva' not found.\n",
            "WARNING:matplotlib.font_manager:findfont: Font family 'Verdana' not found.\n",
            "WARNING:matplotlib.font_manager:findfont: Font family 'Geneva' not found.\n",
            "WARNING:matplotlib.font_manager:findfont: Font family 'Verdana' not found.\n",
            "WARNING:matplotlib.font_manager:findfont: Font family 'Geneva' not found.\n",
            "WARNING:matplotlib.font_manager:findfont: Font family 'Verdana' not found.\n",
            "WARNING:matplotlib.font_manager:findfont: Font family 'Geneva' not found.\n",
            "WARNING:matplotlib.font_manager:findfont: Font family 'Verdana' not found.\n",
            "WARNING:matplotlib.font_manager:findfont: Font family 'Geneva' not found.\n",
            "WARNING:matplotlib.font_manager:findfont: Font family 'Verdana' not found.\n",
            "WARNING:matplotlib.font_manager:findfont: Font family 'Geneva' not found.\n",
            "WARNING:matplotlib.font_manager:findfont: Font family 'Verdana' not found.\n",
            "WARNING:matplotlib.font_manager:findfont: Font family 'Geneva' not found.\n",
            "WARNING:matplotlib.font_manager:findfont: Font family 'Verdana' not found.\n",
            "WARNING:matplotlib.font_manager:findfont: Font family 'Geneva' not found.\n"
          ]
        },
        {
          "output_type": "display_data",
          "data": {
            "text/plain": [
              "<Figure size 864x475.2 with 1 Axes>"
            ],
            "image/png": "[encoded data removed]"
          },
          "metadata": {}
        }
      ]
    },
    {
      "cell_type": "markdown",
      "source": [
        "Training Model with Best Parameters"
      ],
      "metadata": {
        "id": "44vpoN4t8OiF"
      }
    },
    {
      "cell_type": "markdown",
      "source": [
        "LSTM"
      ],
      "metadata": {
        "id": "g6U0shl58TPK"
      }
    },
    {
      "cell_type": "code",
      "source": [
        "inp=Input(shape=(maxpadlen, ),dtype='int32')"
      ],
      "metadata": {
        "id": "VpXygArD8RAe"
      },
      "execution_count": 57,
      "outputs": []
    },
    {
      "cell_type": "code",
      "source": [
        "embedding_layer = Embedding(len(word_index) + 1,\n",
        "                           embed_dim_fasttext,\n",
        "                           weights = [embed_matrix_fasttext],\n",
        "                           input_length = maxpadlen,\n",
        "                           trainable=False,\n",
        "                           name = 'embeddings')\n",
        "embedded_sequences = embedding_layer(inp)"
      ],
      "metadata": {
        "id": "rNLPdeYz8WxX"
      },
      "execution_count": 58,
      "outputs": []
    },
    {
      "cell_type": "code",
      "source": [
        "x = LSTM(40, return_sequences=True,name='lstm_layer')(embedded_sequences)\n",
        "x = GlobalMaxPool1D()(x)\n",
        "x = Dropout(0.1)(x)\n",
        "x = Dense(30, activation=\"relu\", kernel_initializer='he_uniform')(x)\n",
        "x = Dropout(0.1)(x)\n",
        "preds = Dense(6, activation=\"softmax\", kernel_initializer='glorot_uniform')(x)"
      ],
      "metadata": {
        "id": "ok1EAgJf8Y-M"
      },
      "execution_count": 59,
      "outputs": []
    },
    {
      "cell_type": "code",
      "source": [
        "model_1 = Model(inputs=inp, outputs=preds)\n",
        "model_1.compile(loss='binary_crossentropy',\n",
        "                  optimizer='adam',\n",
        "                  metrics=['accuracy',metrics.Precision(name='precision'),\n",
        "                         metrics.Recall(name='recall'),\n",
        "                         metrics.F1Score(num_classes=6, name='f1_score')])"
      ],
      "metadata": {
        "id": "T_J04h_Q8ba3"
      },
      "execution_count": 60,
      "outputs": []
    },
    {
      "cell_type": "code",
      "source": [
        "model_1.summary()"
      ],
      "metadata": {
        "id": "wnP2mYv08djj",
        "colab": {
          "base_uri": "https://localhost:8080/"
        },
        "outputId": "9b4ed81e-9cd9-4124-ce0a-6c3dafc05234"
      },
      "execution_count": 61,
      "outputs": [
        {
          "output_type": "stream",
          "name": "stdout",
          "text": [
            "Model: \"model\"\n",
            "_________________________________________________________________\n",
            " Layer (type)                Output Shape              Param #   \n",
            "=================================================================\n",
            " input_1 (InputLayer)        [(None, 200)]             0         \n",
            "                                                                 \n",
            " embeddings (Embedding)      (None, 200, 300)          44798100  \n",
            "                                                                 \n",
            " lstm_layer (LSTM)           (None, 200, 40)           54560     \n",
            "                                                                 \n",
            " global_max_pooling1d (Globa  (None, 40)               0         \n",
            " lMaxPooling1D)                                                  \n",
            "                                                                 \n",
            " dropout (Dropout)           (None, 40)                0         \n",
            "                                                                 \n",
            " dense (Dense)               (None, 30)                1230      \n",
            "                                                                 \n",
            " dropout_1 (Dropout)         (None, 30)                0         \n",
            "                                                                 \n",
            " dense_1 (Dense)             (None, 6)                 186       \n",
            "                                                                 \n",
            "=================================================================\n",
            "Total params: 44,854,076\n",
            "Trainable params: 55,976\n",
            "Non-trainable params: 44,798,100\n",
            "_________________________________________________________________\n"
          ]
        }
      ]
    },
    {
      "cell_type": "code",
      "source": [
        "model_info_1=model_1.fit(x_tr,y_tr, epochs=2, batch_size=32,  validation_data=(x_val, y_val))"
      ],
      "metadata": {
        "id": "dLPzBx1h8f3s",
        "colab": {
          "base_uri": "https://localhost:8080/"
        },
        "outputId": "b0d25a81-23cf-4940-fa1a-55319247ddb5"
      },
      "execution_count": 62,
      "outputs": [
        {
          "output_type": "stream",
          "name": "stdout",
          "text": [
            "Epoch 1/2\n",
            "3990/3990 [==============================] - 42s 10ms/step - loss: 0.0643 - accuracy: 0.9343 - val_loss: 0.0501 - val_accuracy: 0.9943\n",
            "Epoch 2/2\n",
            "3990/3990 [==============================] - 39s 10ms/step - loss: 0.0497 - accuracy: 0.9843 - val_loss: 0.0480 - val_accuracy: 0.9944\n"
          ]
        }
      ]
    },
    {
      "cell_type": "markdown",
      "source": [
        "LSTM-CNN"
      ],
      "metadata": {
        "id": "Be69FRFY8icn"
      }
    },
    {
      "cell_type": "code",
      "source": [
        "inp=Input(shape=(maxpadlen, ),dtype='int32')"
      ],
      "metadata": {
        "id": "R1WKnX6A8lJH"
      },
      "execution_count": 63,
      "outputs": []
    },
    {
      "cell_type": "code",
      "source": [
        "embedding_layer = Embedding(len(word_index) + 1,\n",
        "                           embed_dim_fasttext,\n",
        "                           weights = [embed_matrix_fasttext],\n",
        "                           input_length = maxpadlen,\n",
        "                           trainable=False,\n",
        "                           name = 'embeddings')\n",
        "embedded_sequences = embedding_layer(inp)"
      ],
      "metadata": {
        "id": "l0QPyUWA82GH"
      },
      "execution_count": 64,
      "outputs": []
    },
    {
      "cell_type": "code",
      "source": [
        "x = LSTM(50, return_sequences=True,name='lstm_layer')(embedded_sequences)\n",
        "x = Conv1D(filters=64, kernel_size=3, padding='same', activation='relu', kernel_initializer='he_uniform')(x)\n",
        "x = MaxPooling1D(3)(x)\n",
        "x = GlobalMaxPool1D()(x)\n",
        "x = BatchNormalization()(x)\n",
        "x = Dense(40, activation=\"relu\", kernel_initializer='he_uniform')(x)\n",
        "x = Dropout(0.2)(x)\n",
        "x = Dense(30, activation=\"relu\", kernel_initializer='he_uniform')(x)\n",
        "x = Dropout(0.2)(x)\n",
        "preds = Dense(6, activation=\"softmax\", kernel_initializer='glorot_uniform')(x)"
      ],
      "metadata": {
        "id": "Iuc2V19t85Oj"
      },
      "execution_count": 65,
      "outputs": []
    },
    {
      "cell_type": "code",
      "source": [
        "model_2 = Model(inputs=inp, outputs=preds)\n",
        "model_2.compile(loss='binary_crossentropy',\n",
        "                  optimizer='adam',\n",
        "                  metrics=['accuracy',metrics.Precision(name='precision'),\n",
        "                         metrics.Recall(name='recall'),\n",
        "                         metrics.F1Score(num_classes=6, name='f1_score')])"
      ],
      "metadata": {
        "id": "snfenCO-87oY"
      },
      "execution_count": 66,
      "outputs": []
    },
    {
      "cell_type": "code",
      "source": [
        "model_2.summary()"
      ],
      "metadata": {
        "id": "CPvuKbSq89yn",
        "colab": {
          "base_uri": "https://localhost:8080/"
        },
        "outputId": "633a93fb-ba33-4833-b27e-1947b180a837"
      },
      "execution_count": 67,
      "outputs": [
        {
          "output_type": "stream",
          "name": "stdout",
          "text": [
            "Model: \"model_1\"\n",
            "_________________________________________________________________\n",
            " Layer (type)                Output Shape              Param #   \n",
            "=================================================================\n",
            " input_2 (InputLayer)        [(None, 200)]             0         \n",
            "                                                                 \n",
            " embeddings (Embedding)      (None, 200, 300)          44798100  \n",
            "                                                                 \n",
            " lstm_layer (LSTM)           (None, 200, 50)           70200     \n",
            "                                                                 \n",
            " conv1d (Conv1D)             (None, 200, 64)           9664      \n",
            "                                                                 \n",
            " max_pooling1d (MaxPooling1D  (None, 66, 64)           0         \n",
            " )                                                               \n",
            "                                                                 \n",
            " global_max_pooling1d_1 (Glo  (None, 64)               0         \n",
            " balMaxPooling1D)                                                \n",
            "                                                                 \n",
            " batch_normalization (BatchN  (None, 64)               256       \n",
            " ormalization)                                                   \n",
            "                                                                 \n",
            " dense_2 (Dense)             (None, 40)                2600      \n",
            "                                                                 \n",
            " dropout_2 (Dropout)         (None, 40)                0         \n",
            "                                                                 \n",
            " dense_3 (Dense)             (None, 30)                1230      \n",
            "                                                                 \n",
            " dropout_3 (Dropout)         (None, 30)                0         \n",
            "                                                                 \n",
            " dense_4 (Dense)             (None, 6)                 186       \n",
            "                                                                 \n",
            "=================================================================\n",
            "Total params: 44,882,236\n",
            "Trainable params: 84,008\n",
            "Non-trainable params: 44,798,228\n",
            "_________________________________________________________________\n"
          ]
        }
      ]
    },
    {
      "cell_type": "markdown",
      "source": [
        "fit the model on training data"
      ],
      "metadata": {
        "id": "9EE0LPlGGP-9"
      }
    },
    {
      "cell_type": "code",
      "source": [
        "model_info_2=model_2.fit(x_tr,y_tr, epochs=2, batch_size=32,  validation_data=(x_val, y_val))"
      ],
      "metadata": {
        "id": "z3BWUKce9A6x",
        "colab": {
          "base_uri": "https://localhost:8080/"
        },
        "outputId": "7653e83d-42e7-4853-86fc-bef30fa89918"
      },
      "execution_count": 68,
      "outputs": [
        {
          "output_type": "stream",
          "name": "stdout",
          "text": [
            "Epoch 1/2\n",
            "3990/3990 [==============================] - 50s 12ms/step - loss: 0.0677 - accuracy: 0.9212 - val_loss: 0.0567 - val_accuracy: 0.9944\n",
            "Epoch 2/2\n",
            "3990/3990 [==============================] - 45s 11ms/step - loss: 0.0546 - accuracy: 0.9861 - val_loss: 0.0495 - val_accuracy: 0.9944\n"
          ]
        }
      ]
    },
    {
      "cell_type": "markdown",
      "source": [
        "Plotting Graphs"
      ],
      "metadata": {
        "id": "vOI0yTgp9DTa"
      }
    },
    {
      "cell_type": "markdown",
      "source": [
        "LSTM"
      ],
      "metadata": {
        "id": "iSLNRdEJ9KV9"
      }
    },
    {
      "cell_type": "markdown",
      "source": [
        "Loss graph"
      ],
      "metadata": {
        "id": "VqjGCDinleR5"
      }
    },
    {
      "cell_type": "code",
      "source": [
        "import matplotlib.pyplot as plt\n",
        "\n",
        "loss = model_info_1.history['loss']\n",
        "val_loss = model_info_1.history['val_loss']\n",
        "epochs = range(1, len(loss)+1)\n",
        "\n",
        "plt.figure(figsize=(10, 5))\n",
        "plt.fill_between(epochs, loss, val_loss, alpha=0.2)\n",
        "plt.plot(epochs, loss, 'bo-', label='Training loss')\n",
        "plt.plot(epochs, val_loss, 'ro-', label='Validation loss')\n",
        "plt.title('Training and Validation loss')\n",
        "plt.xlabel('Epochs')\n",
        "plt.ylabel('Loss')\n",
        "plt.legend()\n",
        "plt.show()"
      ],
      "metadata": {
        "colab": {
          "base_uri": "https://localhost:8080/",
          "height": 1000
        },
        "id": "waXn7clZlWi5",
        "outputId": "359ff4c3-8b8b-45a3-ee57-e77f59363f2a"
      },
      "execution_count": 81,
      "outputs": [
        {
          "output_type": "stream",
          "name": "stderr",
          "text": [
            "WARNING:matplotlib.font_manager:findfont: Font family 'Verdana' not found.\n",
            "WARNING:matplotlib.font_manager:findfont: Font family 'Geneva' not found.\n",
            "WARNING:matplotlib.font_manager:findfont: Font family 'Verdana' not found.\n",
            "WARNING:matplotlib.font_manager:findfont: Font family 'Geneva' not found.\n",
            "WARNING:matplotlib.font_manager:findfont: Font family 'Verdana' not found.\n",
            "WARNING:matplotlib.font_manager:findfont: Font family 'Geneva' not found.\n",
            "WARNING:matplotlib.font_manager:findfont: Font family 'Verdana' not found.\n",
            "WARNING:matplotlib.font_manager:findfont: Font family 'Geneva' not found.\n",
            "WARNING:matplotlib.font_manager:findfont: Font family 'Verdana' not found.\n",
            "WARNING:matplotlib.font_manager:findfont: Font family 'Geneva' not found.\n",
            "WARNING:matplotlib.font_manager:findfont: Font family 'Verdana' not found.\n",
            "WARNING:matplotlib.font_manager:findfont: Font family 'Geneva' not found.\n",
            "WARNING:matplotlib.font_manager:findfont: Font family 'Verdana' not found.\n",
            "WARNING:matplotlib.font_manager:findfont: Font family 'Geneva' not found.\n",
            "WARNING:matplotlib.font_manager:findfont: Font family 'Verdana' not found.\n",
            "WARNING:matplotlib.font_manager:findfont: Font family 'Geneva' not found.\n",
            "WARNING:matplotlib.font_manager:findfont: Font family 'Verdana' not found.\n",
            "WARNING:matplotlib.font_manager:findfont: Font family 'Geneva' not found.\n",
            "WARNING:matplotlib.font_manager:findfont: Font family 'Verdana' not found.\n",
            "WARNING:matplotlib.font_manager:findfont: Font family 'Geneva' not found.\n",
            "WARNING:matplotlib.font_manager:findfont: Font family 'Verdana' not found.\n",
            "WARNING:matplotlib.font_manager:findfont: Font family 'Geneva' not found.\n",
            "WARNING:matplotlib.font_manager:findfont: Font family 'Verdana' not found.\n",
            "WARNING:matplotlib.font_manager:findfont: Font family 'Geneva' not found.\n",
            "WARNING:matplotlib.font_manager:findfont: Font family 'Verdana' not found.\n",
            "WARNING:matplotlib.font_manager:findfont: Font family 'Geneva' not found.\n",
            "WARNING:matplotlib.font_manager:findfont: Font family 'Verdana' not found.\n",
            "WARNING:matplotlib.font_manager:findfont: Font family 'Geneva' not found.\n",
            "WARNING:matplotlib.font_manager:findfont: Font family 'Verdana' not found.\n",
            "WARNING:matplotlib.font_manager:findfont: Font family 'Geneva' not found.\n",
            "WARNING:matplotlib.font_manager:findfont: Font family 'Verdana' not found.\n",
            "WARNING:matplotlib.font_manager:findfont: Font family 'Geneva' not found.\n",
            "WARNING:matplotlib.font_manager:findfont: Font family 'Verdana' not found.\n",
            "WARNING:matplotlib.font_manager:findfont: Font family 'Geneva' not found.\n",
            "WARNING:matplotlib.font_manager:findfont: Font family 'Verdana' not found.\n",
            "WARNING:matplotlib.font_manager:findfont: Font family 'Geneva' not found.\n",
            "WARNING:matplotlib.font_manager:findfont: Font family 'Verdana' not found.\n",
            "WARNING:matplotlib.font_manager:findfont: Font family 'Geneva' not found.\n",
            "WARNING:matplotlib.font_manager:findfont: Font family 'Verdana' not found.\n",
            "WARNING:matplotlib.font_manager:findfont: Font family 'Geneva' not found.\n",
            "WARNING:matplotlib.font_manager:findfont: Font family 'Verdana' not found.\n",
            "WARNING:matplotlib.font_manager:findfont: Font family 'Geneva' not found.\n",
            "WARNING:matplotlib.font_manager:findfont: Font family 'Verdana' not found.\n",
            "WARNING:matplotlib.font_manager:findfont: Font family 'Geneva' not found.\n",
            "WARNING:matplotlib.font_manager:findfont: Font family 'Verdana' not found.\n",
            "WARNING:matplotlib.font_manager:findfont: Font family 'Geneva' not found.\n",
            "WARNING:matplotlib.font_manager:findfont: Font family 'Verdana' not found.\n",
            "WARNING:matplotlib.font_manager:findfont: Font family 'Geneva' not found.\n",
            "WARNING:matplotlib.font_manager:findfont: Font family 'Verdana' not found.\n",
            "WARNING:matplotlib.font_manager:findfont: Font family 'Geneva' not found.\n",
            "WARNING:matplotlib.font_manager:findfont: Font family 'Verdana' not found.\n",
            "WARNING:matplotlib.font_manager:findfont: Font family 'Geneva' not found.\n",
            "WARNING:matplotlib.font_manager:findfont: Font family 'Verdana' not found.\n",
            "WARNING:matplotlib.font_manager:findfont: Font family 'Geneva' not found.\n",
            "WARNING:matplotlib.font_manager:findfont: Font family 'Verdana' not found.\n",
            "WARNING:matplotlib.font_manager:findfont: Font family 'Geneva' not found.\n",
            "WARNING:matplotlib.font_manager:findfont: Font family 'Verdana' not found.\n",
            "WARNING:matplotlib.font_manager:findfont: Font family 'Geneva' not found.\n",
            "WARNING:matplotlib.font_manager:findfont: Font family 'Verdana' not found.\n",
            "WARNING:matplotlib.font_manager:findfont: Font family 'Geneva' not found.\n",
            "WARNING:matplotlib.font_manager:findfont: Font family 'Verdana' not found.\n",
            "WARNING:matplotlib.font_manager:findfont: Font family 'Geneva' not found.\n",
            "WARNING:matplotlib.font_manager:findfont: Font family 'Verdana' not found.\n",
            "WARNING:matplotlib.font_manager:findfont: Font family 'Geneva' not found.\n",
            "WARNING:matplotlib.font_manager:findfont: Font family 'Verdana' not found.\n",
            "WARNING:matplotlib.font_manager:findfont: Font family 'Geneva' not found.\n",
            "WARNING:matplotlib.font_manager:findfont: Font family 'Verdana' not found.\n",
            "WARNING:matplotlib.font_manager:findfont: Font family 'Geneva' not found.\n",
            "WARNING:matplotlib.font_manager:findfont: Font family 'Verdana' not found.\n",
            "WARNING:matplotlib.font_manager:findfont: Font family 'Geneva' not found.\n",
            "WARNING:matplotlib.font_manager:findfont: Font family 'Verdana' not found.\n",
            "WARNING:matplotlib.font_manager:findfont: Font family 'Geneva' not found.\n",
            "WARNING:matplotlib.font_manager:findfont: Font family 'Verdana' not found.\n",
            "WARNING:matplotlib.font_manager:findfont: Font family 'Geneva' not found.\n",
            "WARNING:matplotlib.font_manager:findfont: Font family 'Verdana' not found.\n",
            "WARNING:matplotlib.font_manager:findfont: Font family 'Geneva' not found.\n",
            "WARNING:matplotlib.font_manager:findfont: Font family 'Verdana' not found.\n",
            "WARNING:matplotlib.font_manager:findfont: Font family 'Geneva' not found.\n",
            "WARNING:matplotlib.font_manager:findfont: Font family 'Verdana' not found.\n",
            "WARNING:matplotlib.font_manager:findfont: Font family 'Geneva' not found.\n",
            "WARNING:matplotlib.font_manager:findfont: Font family 'Verdana' not found.\n",
            "WARNING:matplotlib.font_manager:findfont: Font family 'Geneva' not found.\n",
            "WARNING:matplotlib.font_manager:findfont: Font family 'Verdana' not found.\n",
            "WARNING:matplotlib.font_manager:findfont: Font family 'Geneva' not found.\n",
            "WARNING:matplotlib.font_manager:findfont: Font family 'Verdana' not found.\n",
            "WARNING:matplotlib.font_manager:findfont: Font family 'Geneva' not found.\n",
            "WARNING:matplotlib.font_manager:findfont: Font family 'Verdana' not found.\n",
            "WARNING:matplotlib.font_manager:findfont: Font family 'Geneva' not found.\n",
            "WARNING:matplotlib.font_manager:findfont: Font family 'Verdana' not found.\n",
            "WARNING:matplotlib.font_manager:findfont: Font family 'Geneva' not found.\n",
            "WARNING:matplotlib.font_manager:findfont: Font family 'Verdana' not found.\n",
            "WARNING:matplotlib.font_manager:findfont: Font family 'Geneva' not found.\n",
            "WARNING:matplotlib.font_manager:findfont: Font family 'Verdana' not found.\n",
            "WARNING:matplotlib.font_manager:findfont: Font family 'Geneva' not found.\n",
            "WARNING:matplotlib.font_manager:findfont: Font family 'Verdana' not found.\n",
            "WARNING:matplotlib.font_manager:findfont: Font family 'Geneva' not found.\n",
            "WARNING:matplotlib.font_manager:findfont: Font family 'Verdana' not found.\n",
            "WARNING:matplotlib.font_manager:findfont: Font family 'Geneva' not found.\n",
            "WARNING:matplotlib.font_manager:findfont: Font family 'Verdana' not found.\n",
            "WARNING:matplotlib.font_manager:findfont: Font family 'Geneva' not found.\n",
            "WARNING:matplotlib.font_manager:findfont: Font family 'Verdana' not found.\n",
            "WARNING:matplotlib.font_manager:findfont: Font family 'Geneva' not found.\n",
            "WARNING:matplotlib.font_manager:findfont: Font family 'Verdana' not found.\n",
            "WARNING:matplotlib.font_manager:findfont: Font family 'Geneva' not found.\n",
            "WARNING:matplotlib.font_manager:findfont: Font family 'Verdana' not found.\n",
            "WARNING:matplotlib.font_manager:findfont: Font family 'Geneva' not found.\n",
            "WARNING:matplotlib.font_manager:findfont: Font family 'Verdana' not found.\n",
            "WARNING:matplotlib.font_manager:findfont: Font family 'Geneva' not found.\n",
            "WARNING:matplotlib.font_manager:findfont: Font family 'Verdana' not found.\n",
            "WARNING:matplotlib.font_manager:findfont: Font family 'Geneva' not found.\n",
            "WARNING:matplotlib.font_manager:findfont: Font family 'Verdana' not found.\n",
            "WARNING:matplotlib.font_manager:findfont: Font family 'Geneva' not found.\n",
            "WARNING:matplotlib.font_manager:findfont: Font family 'Verdana' not found.\n",
            "WARNING:matplotlib.font_manager:findfont: Font family 'Geneva' not found.\n",
            "WARNING:matplotlib.font_manager:findfont: Font family 'Verdana' not found.\n",
            "WARNING:matplotlib.font_manager:findfont: Font family 'Geneva' not found.\n",
            "WARNING:matplotlib.font_manager:findfont: Font family 'Verdana' not found.\n",
            "WARNING:matplotlib.font_manager:findfont: Font family 'Geneva' not found.\n",
            "WARNING:matplotlib.font_manager:findfont: Font family 'Verdana' not found.\n",
            "WARNING:matplotlib.font_manager:findfont: Font family 'Geneva' not found.\n",
            "WARNING:matplotlib.font_manager:findfont: Font family 'Verdana' not found.\n",
            "WARNING:matplotlib.font_manager:findfont: Font family 'Geneva' not found.\n",
            "WARNING:matplotlib.font_manager:findfont: Font family 'Verdana' not found.\n",
            "WARNING:matplotlib.font_manager:findfont: Font family 'Geneva' not found.\n",
            "WARNING:matplotlib.font_manager:findfont: Font family 'Verdana' not found.\n",
            "WARNING:matplotlib.font_manager:findfont: Font family 'Geneva' not found.\n",
            "WARNING:matplotlib.font_manager:findfont: Font family 'Verdana' not found.\n",
            "WARNING:matplotlib.font_manager:findfont: Font family 'Geneva' not found.\n",
            "WARNING:matplotlib.font_manager:findfont: Font family 'Verdana' not found.\n",
            "WARNING:matplotlib.font_manager:findfont: Font family 'Geneva' not found.\n",
            "WARNING:matplotlib.font_manager:findfont: Font family 'Verdana' not found.\n",
            "WARNING:matplotlib.font_manager:findfont: Font family 'Geneva' not found.\n",
            "WARNING:matplotlib.font_manager:findfont: Font family 'Verdana' not found.\n",
            "WARNING:matplotlib.font_manager:findfont: Font family 'Geneva' not found.\n",
            "WARNING:matplotlib.font_manager:findfont: Font family 'Verdana' not found.\n",
            "WARNING:matplotlib.font_manager:findfont: Font family 'Geneva' not found.\n",
            "WARNING:matplotlib.font_manager:findfont: Font family 'Verdana' not found.\n",
            "WARNING:matplotlib.font_manager:findfont: Font family 'Geneva' not found.\n",
            "WARNING:matplotlib.font_manager:findfont: Font family 'Verdana' not found.\n",
            "WARNING:matplotlib.font_manager:findfont: Font family 'Geneva' not found.\n",
            "WARNING:matplotlib.font_manager:findfont: Font family 'Verdana' not found.\n",
            "WARNING:matplotlib.font_manager:findfont: Font family 'Geneva' not found.\n",
            "WARNING:matplotlib.font_manager:findfont: Font family 'Verdana' not found.\n",
            "WARNING:matplotlib.font_manager:findfont: Font family 'Geneva' not found.\n",
            "WARNING:matplotlib.font_manager:findfont: Font family 'Verdana' not found.\n",
            "WARNING:matplotlib.font_manager:findfont: Font family 'Geneva' not found.\n",
            "WARNING:matplotlib.font_manager:findfont: Font family 'Verdana' not found.\n",
            "WARNING:matplotlib.font_manager:findfont: Font family 'Geneva' not found.\n",
            "WARNING:matplotlib.font_manager:findfont: Font family 'Verdana' not found.\n",
            "WARNING:matplotlib.font_manager:findfont: Font family 'Geneva' not found.\n",
            "WARNING:matplotlib.font_manager:findfont: Font family 'Verdana' not found.\n",
            "WARNING:matplotlib.font_manager:findfont: Font family 'Geneva' not found.\n",
            "WARNING:matplotlib.font_manager:findfont: Font family 'Verdana' not found.\n",
            "WARNING:matplotlib.font_manager:findfont: Font family 'Geneva' not found.\n",
            "WARNING:matplotlib.font_manager:findfont: Font family 'Verdana' not found.\n",
            "WARNING:matplotlib.font_manager:findfont: Font family 'Geneva' not found.\n",
            "WARNING:matplotlib.font_manager:findfont: Font family 'Verdana' not found.\n",
            "WARNING:matplotlib.font_manager:findfont: Font family 'Geneva' not found.\n",
            "WARNING:matplotlib.font_manager:findfont: Font family 'Verdana' not found.\n",
            "WARNING:matplotlib.font_manager:findfont: Font family 'Geneva' not found.\n",
            "WARNING:matplotlib.font_manager:findfont: Font family 'Verdana' not found.\n",
            "WARNING:matplotlib.font_manager:findfont: Font family 'Geneva' not found.\n",
            "WARNING:matplotlib.font_manager:findfont: Font family 'Verdana' not found.\n",
            "WARNING:matplotlib.font_manager:findfont: Font family 'Geneva' not found.\n",
            "WARNING:matplotlib.font_manager:findfont: Font family 'Verdana' not found.\n",
            "WARNING:matplotlib.font_manager:findfont: Font family 'Geneva' not found.\n",
            "WARNING:matplotlib.font_manager:findfont: Font family 'Verdana' not found.\n",
            "WARNING:matplotlib.font_manager:findfont: Font family 'Geneva' not found.\n",
            "WARNING:matplotlib.font_manager:findfont: Font family 'Verdana' not found.\n",
            "WARNING:matplotlib.font_manager:findfont: Font family 'Geneva' not found.\n",
            "WARNING:matplotlib.font_manager:findfont: Font family 'Verdana' not found.\n",
            "WARNING:matplotlib.font_manager:findfont: Font family 'Geneva' not found.\n",
            "WARNING:matplotlib.font_manager:findfont: Font family 'Verdana' not found.\n",
            "WARNING:matplotlib.font_manager:findfont: Font family 'Geneva' not found.\n",
            "WARNING:matplotlib.font_manager:findfont: Font family 'Verdana' not found.\n",
            "WARNING:matplotlib.font_manager:findfont: Font family 'Geneva' not found.\n",
            "WARNING:matplotlib.font_manager:findfont: Font family 'Verdana' not found.\n",
            "WARNING:matplotlib.font_manager:findfont: Font family 'Geneva' not found.\n",
            "WARNING:matplotlib.font_manager:findfont: Font family 'Verdana' not found.\n",
            "WARNING:matplotlib.font_manager:findfont: Font family 'Geneva' not found.\n",
            "WARNING:matplotlib.font_manager:findfont: Font family 'Verdana' not found.\n",
            "WARNING:matplotlib.font_manager:findfont: Font family 'Geneva' not found.\n",
            "WARNING:matplotlib.font_manager:findfont: Font family 'Verdana' not found.\n",
            "WARNING:matplotlib.font_manager:findfont: Font family 'Geneva' not found.\n"
          ]
        },
        {
          "output_type": "display_data",
          "data": {
            "text/plain": [
              "<Figure size 720x360 with 1 Axes>"
            ],
            "image/png": "[encoded data removed]"
          },
          "metadata": {}
        }
      ]
    },
    {
      "cell_type": "markdown",
      "source": [
        "Accuracy graph"
      ],
      "metadata": {
        "id": "gRDrlrPZsQCl"
      }
    },
    {
      "cell_type": "code",
      "source": [
        "import matplotlib.pyplot as plt\n",
        "\n",
        "loss = model_info_1.history['accuracy']\n",
        "val_loss = model_info_1.history['val_accuracy']\n",
        "epochs = range(1, len(loss)+1)\n",
        "\n",
        "plt.figure(figsize=(10, 5))\n",
        "plt.fill_between(epochs, accuracy, val_accuracy, alpha=0.2)\n",
        "plt.plot(epochs, accuracy, 'bo-', label='Training accuracy')\n",
        "plt.plot(epochs, val_accuracy, 'ro-', label='Validation accuracy')\n",
        "plt.title('Training and Validation accuracy')\n",
        "plt.xlabel('Epochs')\n",
        "plt.ylabel('Accuracy')\n",
        "plt.legend()\n",
        "plt.show()"
      ],
      "metadata": {
        "colab": {
          "base_uri": "https://localhost:8080/",
          "height": 1000
        },
        "id": "WSDRCGqSm71_",
        "outputId": "a3d716b0-cb42-4c69-aad8-0547b0a31f2e"
      },
      "execution_count": 79,
      "outputs": [
        {
          "output_type": "stream",
          "name": "stderr",
          "text": [
            "WARNING:matplotlib.font_manager:findfont: Font family 'Verdana' not found.\n",
            "WARNING:matplotlib.font_manager:findfont: Font family 'Geneva' not found.\n",
            "WARNING:matplotlib.font_manager:findfont: Font family 'Verdana' not found.\n",
            "WARNING:matplotlib.font_manager:findfont: Font family 'Geneva' not found.\n",
            "WARNING:matplotlib.font_manager:findfont: Font family 'Verdana' not found.\n",
            "WARNING:matplotlib.font_manager:findfont: Font family 'Geneva' not found.\n",
            "WARNING:matplotlib.font_manager:findfont: Font family 'Verdana' not found.\n",
            "WARNING:matplotlib.font_manager:findfont: Font family 'Geneva' not found.\n",
            "WARNING:matplotlib.font_manager:findfont: Font family 'Verdana' not found.\n",
            "WARNING:matplotlib.font_manager:findfont: Font family 'Geneva' not found.\n",
            "WARNING:matplotlib.font_manager:findfont: Font family 'Verdana' not found.\n",
            "WARNING:matplotlib.font_manager:findfont: Font family 'Geneva' not found.\n",
            "WARNING:matplotlib.font_manager:findfont: Font family 'Verdana' not found.\n",
            "WARNING:matplotlib.font_manager:findfont: Font family 'Geneva' not found.\n",
            "WARNING:matplotlib.font_manager:findfont: Font family 'Verdana' not found.\n",
            "WARNING:matplotlib.font_manager:findfont: Font family 'Geneva' not found.\n",
            "WARNING:matplotlib.font_manager:findfont: Font family 'Verdana' not found.\n",
            "WARNING:matplotlib.font_manager:findfont: Font family 'Geneva' not found.\n",
            "WARNING:matplotlib.font_manager:findfont: Font family 'Verdana' not found.\n",
            "WARNING:matplotlib.font_manager:findfont: Font family 'Geneva' not found.\n",
            "WARNING:matplotlib.font_manager:findfont: Font family 'Verdana' not found.\n",
            "WARNING:matplotlib.font_manager:findfont: Font family 'Geneva' not found.\n",
            "WARNING:matplotlib.font_manager:findfont: Font family 'Verdana' not found.\n",
            "WARNING:matplotlib.font_manager:findfont: Font family 'Geneva' not found.\n",
            "WARNING:matplotlib.font_manager:findfont: Font family 'Verdana' not found.\n",
            "WARNING:matplotlib.font_manager:findfont: Font family 'Geneva' not found.\n",
            "WARNING:matplotlib.font_manager:findfont: Font family 'Verdana' not found.\n",
            "WARNING:matplotlib.font_manager:findfont: Font family 'Geneva' not found.\n",
            "WARNING:matplotlib.font_manager:findfont: Font family 'Verdana' not found.\n",
            "WARNING:matplotlib.font_manager:findfont: Font family 'Geneva' not found.\n",
            "WARNING:matplotlib.font_manager:findfont: Font family 'Verdana' not found.\n",
            "WARNING:matplotlib.font_manager:findfont: Font family 'Geneva' not found.\n",
            "WARNING:matplotlib.font_manager:findfont: Font family 'Verdana' not found.\n",
            "WARNING:matplotlib.font_manager:findfont: Font family 'Geneva' not found.\n",
            "WARNING:matplotlib.font_manager:findfont: Font family 'Verdana' not found.\n",
            "WARNING:matplotlib.font_manager:findfont: Font family 'Geneva' not found.\n",
            "WARNING:matplotlib.font_manager:findfont: Font family 'Verdana' not found.\n",
            "WARNING:matplotlib.font_manager:findfont: Font family 'Geneva' not found.\n",
            "WARNING:matplotlib.font_manager:findfont: Font family 'Verdana' not found.\n",
            "WARNING:matplotlib.font_manager:findfont: Font family 'Geneva' not found.\n",
            "WARNING:matplotlib.font_manager:findfont: Font family 'Verdana' not found.\n",
            "WARNING:matplotlib.font_manager:findfont: Font family 'Geneva' not found.\n",
            "WARNING:matplotlib.font_manager:findfont: Font family 'Verdana' not found.\n",
            "WARNING:matplotlib.font_manager:findfont: Font family 'Geneva' not found.\n",
            "WARNING:matplotlib.font_manager:findfont: Font family 'Verdana' not found.\n",
            "WARNING:matplotlib.font_manager:findfont: Font family 'Geneva' not found.\n",
            "WARNING:matplotlib.font_manager:findfont: Font family 'Verdana' not found.\n",
            "WARNING:matplotlib.font_manager:findfont: Font family 'Geneva' not found.\n",
            "WARNING:matplotlib.font_manager:findfont: Font family 'Verdana' not found.\n",
            "WARNING:matplotlib.font_manager:findfont: Font family 'Geneva' not found.\n",
            "WARNING:matplotlib.font_manager:findfont: Font family 'Verdana' not found.\n",
            "WARNING:matplotlib.font_manager:findfont: Font family 'Geneva' not found.\n",
            "WARNING:matplotlib.font_manager:findfont: Font family 'Verdana' not found.\n",
            "WARNING:matplotlib.font_manager:findfont: Font family 'Geneva' not found.\n",
            "WARNING:matplotlib.font_manager:findfont: Font family 'Verdana' not found.\n",
            "WARNING:matplotlib.font_manager:findfont: Font family 'Geneva' not found.\n",
            "WARNING:matplotlib.font_manager:findfont: Font family 'Verdana' not found.\n",
            "WARNING:matplotlib.font_manager:findfont: Font family 'Geneva' not found.\n",
            "WARNING:matplotlib.font_manager:findfont: Font family 'Verdana' not found.\n",
            "WARNING:matplotlib.font_manager:findfont: Font family 'Geneva' not found.\n",
            "WARNING:matplotlib.font_manager:findfont: Font family 'Verdana' not found.\n",
            "WARNING:matplotlib.font_manager:findfont: Font family 'Geneva' not found.\n",
            "WARNING:matplotlib.font_manager:findfont: Font family 'Verdana' not found.\n",
            "WARNING:matplotlib.font_manager:findfont: Font family 'Geneva' not found.\n",
            "WARNING:matplotlib.font_manager:findfont: Font family 'Verdana' not found.\n",
            "WARNING:matplotlib.font_manager:findfont: Font family 'Geneva' not found.\n",
            "WARNING:matplotlib.font_manager:findfont: Font family 'Verdana' not found.\n",
            "WARNING:matplotlib.font_manager:findfont: Font family 'Geneva' not found.\n",
            "WARNING:matplotlib.font_manager:findfont: Font family 'Verdana' not found.\n",
            "WARNING:matplotlib.font_manager:findfont: Font family 'Geneva' not found.\n",
            "WARNING:matplotlib.font_manager:findfont: Font family 'Verdana' not found.\n",
            "WARNING:matplotlib.font_manager:findfont: Font family 'Geneva' not found.\n",
            "WARNING:matplotlib.font_manager:findfont: Font family 'Verdana' not found.\n",
            "WARNING:matplotlib.font_manager:findfont: Font family 'Geneva' not found.\n",
            "WARNING:matplotlib.font_manager:findfont: Font family 'Verdana' not found.\n",
            "WARNING:matplotlib.font_manager:findfont: Font family 'Geneva' not found.\n",
            "WARNING:matplotlib.font_manager:findfont: Font family 'Verdana' not found.\n",
            "WARNING:matplotlib.font_manager:findfont: Font family 'Geneva' not found.\n",
            "WARNING:matplotlib.font_manager:findfont: Font family 'Verdana' not found.\n",
            "WARNING:matplotlib.font_manager:findfont: Font family 'Geneva' not found.\n",
            "WARNING:matplotlib.font_manager:findfont: Font family 'Verdana' not found.\n",
            "WARNING:matplotlib.font_manager:findfont: Font family 'Geneva' not found.\n",
            "WARNING:matplotlib.font_manager:findfont: Font family 'Verdana' not found.\n",
            "WARNING:matplotlib.font_manager:findfont: Font family 'Geneva' not found.\n",
            "WARNING:matplotlib.font_manager:findfont: Font family 'Verdana' not found.\n",
            "WARNING:matplotlib.font_manager:findfont: Font family 'Geneva' not found.\n",
            "WARNING:matplotlib.font_manager:findfont: Font family 'Verdana' not found.\n",
            "WARNING:matplotlib.font_manager:findfont: Font family 'Geneva' not found.\n",
            "WARNING:matplotlib.font_manager:findfont: Font family 'Verdana' not found.\n",
            "WARNING:matplotlib.font_manager:findfont: Font family 'Geneva' not found.\n",
            "WARNING:matplotlib.font_manager:findfont: Font family 'Verdana' not found.\n",
            "WARNING:matplotlib.font_manager:findfont: Font family 'Geneva' not found.\n",
            "WARNING:matplotlib.font_manager:findfont: Font family 'Verdana' not found.\n",
            "WARNING:matplotlib.font_manager:findfont: Font family 'Geneva' not found.\n",
            "WARNING:matplotlib.font_manager:findfont: Font family 'Verdana' not found.\n",
            "WARNING:matplotlib.font_manager:findfont: Font family 'Geneva' not found.\n",
            "WARNING:matplotlib.font_manager:findfont: Font family 'Verdana' not found.\n",
            "WARNING:matplotlib.font_manager:findfont: Font family 'Geneva' not found.\n",
            "WARNING:matplotlib.font_manager:findfont: Font family 'Verdana' not found.\n",
            "WARNING:matplotlib.font_manager:findfont: Font family 'Geneva' not found.\n",
            "WARNING:matplotlib.font_manager:findfont: Font family 'Verdana' not found.\n",
            "WARNING:matplotlib.font_manager:findfont: Font family 'Geneva' not found.\n",
            "WARNING:matplotlib.font_manager:findfont: Font family 'Verdana' not found.\n",
            "WARNING:matplotlib.font_manager:findfont: Font family 'Geneva' not found.\n",
            "WARNING:matplotlib.font_manager:findfont: Font family 'Verdana' not found.\n",
            "WARNING:matplotlib.font_manager:findfont: Font family 'Geneva' not found.\n",
            "WARNING:matplotlib.font_manager:findfont: Font family 'Verdana' not found.\n",
            "WARNING:matplotlib.font_manager:findfont: Font family 'Geneva' not found.\n",
            "WARNING:matplotlib.font_manager:findfont: Font family 'Verdana' not found.\n",
            "WARNING:matplotlib.font_manager:findfont: Font family 'Geneva' not found.\n",
            "WARNING:matplotlib.font_manager:findfont: Font family 'Verdana' not found.\n",
            "WARNING:matplotlib.font_manager:findfont: Font family 'Geneva' not found.\n",
            "WARNING:matplotlib.font_manager:findfont: Font family 'Verdana' not found.\n",
            "WARNING:matplotlib.font_manager:findfont: Font family 'Geneva' not found.\n",
            "WARNING:matplotlib.font_manager:findfont: Font family 'Verdana' not found.\n",
            "WARNING:matplotlib.font_manager:findfont: Font family 'Geneva' not found.\n",
            "WARNING:matplotlib.font_manager:findfont: Font family 'Verdana' not found.\n",
            "WARNING:matplotlib.font_manager:findfont: Font family 'Geneva' not found.\n",
            "WARNING:matplotlib.font_manager:findfont: Font family 'Verdana' not found.\n",
            "WARNING:matplotlib.font_manager:findfont: Font family 'Geneva' not found.\n",
            "WARNING:matplotlib.font_manager:findfont: Font family 'Verdana' not found.\n",
            "WARNING:matplotlib.font_manager:findfont: Font family 'Geneva' not found.\n",
            "WARNING:matplotlib.font_manager:findfont: Font family 'Verdana' not found.\n",
            "WARNING:matplotlib.font_manager:findfont: Font family 'Geneva' not found.\n",
            "WARNING:matplotlib.font_manager:findfont: Font family 'Verdana' not found.\n",
            "WARNING:matplotlib.font_manager:findfont: Font family 'Geneva' not found.\n",
            "WARNING:matplotlib.font_manager:findfont: Font family 'Verdana' not found.\n",
            "WARNING:matplotlib.font_manager:findfont: Font family 'Geneva' not found.\n",
            "WARNING:matplotlib.font_manager:findfont: Font family 'Verdana' not found.\n",
            "WARNING:matplotlib.font_manager:findfont: Font family 'Geneva' not found.\n",
            "WARNING:matplotlib.font_manager:findfont: Font family 'Verdana' not found.\n",
            "WARNING:matplotlib.font_manager:findfont: Font family 'Geneva' not found.\n",
            "WARNING:matplotlib.font_manager:findfont: Font family 'Verdana' not found.\n",
            "WARNING:matplotlib.font_manager:findfont: Font family 'Geneva' not found.\n",
            "WARNING:matplotlib.font_manager:findfont: Font family 'Verdana' not found.\n",
            "WARNING:matplotlib.font_manager:findfont: Font family 'Geneva' not found.\n",
            "WARNING:matplotlib.font_manager:findfont: Font family 'Verdana' not found.\n",
            "WARNING:matplotlib.font_manager:findfont: Font family 'Geneva' not found.\n",
            "WARNING:matplotlib.font_manager:findfont: Font family 'Verdana' not found.\n",
            "WARNING:matplotlib.font_manager:findfont: Font family 'Geneva' not found.\n",
            "WARNING:matplotlib.font_manager:findfont: Font family 'Verdana' not found.\n",
            "WARNING:matplotlib.font_manager:findfont: Font family 'Geneva' not found.\n",
            "WARNING:matplotlib.font_manager:findfont: Font family 'Verdana' not found.\n",
            "WARNING:matplotlib.font_manager:findfont: Font family 'Geneva' not found.\n",
            "WARNING:matplotlib.font_manager:findfont: Font family 'Verdana' not found.\n",
            "WARNING:matplotlib.font_manager:findfont: Font family 'Geneva' not found.\n",
            "WARNING:matplotlib.font_manager:findfont: Font family 'Verdana' not found.\n",
            "WARNING:matplotlib.font_manager:findfont: Font family 'Geneva' not found.\n",
            "WARNING:matplotlib.font_manager:findfont: Font family 'Verdana' not found.\n",
            "WARNING:matplotlib.font_manager:findfont: Font family 'Geneva' not found.\n",
            "WARNING:matplotlib.font_manager:findfont: Font family 'Verdana' not found.\n",
            "WARNING:matplotlib.font_manager:findfont: Font family 'Geneva' not found.\n",
            "WARNING:matplotlib.font_manager:findfont: Font family 'Verdana' not found.\n",
            "WARNING:matplotlib.font_manager:findfont: Font family 'Geneva' not found.\n",
            "WARNING:matplotlib.font_manager:findfont: Font family 'Verdana' not found.\n",
            "WARNING:matplotlib.font_manager:findfont: Font family 'Geneva' not found.\n",
            "WARNING:matplotlib.font_manager:findfont: Font family 'Verdana' not found.\n",
            "WARNING:matplotlib.font_manager:findfont: Font family 'Geneva' not found.\n",
            "WARNING:matplotlib.font_manager:findfont: Font family 'Verdana' not found.\n",
            "WARNING:matplotlib.font_manager:findfont: Font family 'Geneva' not found.\n",
            "WARNING:matplotlib.font_manager:findfont: Font family 'Verdana' not found.\n",
            "WARNING:matplotlib.font_manager:findfont: Font family 'Geneva' not found.\n",
            "WARNING:matplotlib.font_manager:findfont: Font family 'Verdana' not found.\n",
            "WARNING:matplotlib.font_manager:findfont: Font family 'Geneva' not found.\n",
            "WARNING:matplotlib.font_manager:findfont: Font family 'Verdana' not found.\n",
            "WARNING:matplotlib.font_manager:findfont: Font family 'Geneva' not found.\n"
          ]
        },
        {
          "output_type": "display_data",
          "data": {
            "text/plain": [
              "<Figure size 720x360 with 1 Axes>"
            ],
            "image/png": "[encoded data removed]"
          },
          "metadata": {}
        }
      ]
    },
    {
      "cell_type": "markdown",
      "source": [
        "LSTM-CNN"
      ],
      "metadata": {
        "id": "Cl4vNS1k9KQ3"
      }
    },
    {
      "cell_type": "markdown",
      "source": [
        "Loss graph"
      ],
      "metadata": {
        "id": "p8LLMGYIopSF"
      }
    },
    {
      "cell_type": "code",
      "source": [
        "import matplotlib.pyplot as plt\n",
        "\n",
        "loss = model_info_2.history['loss']\n",
        "val_loss = model_info_2.history['val_loss']\n",
        "epochs = range(1, len(loss)+1)\n",
        "\n",
        "plt.figure(figsize=(10, 5))\n",
        "plt.fill_between(epochs, loss, val_loss, alpha=0.2)\n",
        "plt.plot(epochs, loss, 'bo-', label='Training loss')\n",
        "plt.plot(epochs, val_loss, 'ro-', label='Validation loss')\n",
        "plt.title('Training and Validation loss')\n",
        "plt.xlabel('Epochs')\n",
        "plt.ylabel('Loss')\n",
        "plt.legend()\n",
        "plt.show()"
      ],
      "metadata": {
        "colab": {
          "base_uri": "https://localhost:8080/",
          "height": 1000
        },
        "id": "q08OeZUOoaIQ",
        "outputId": "4586a05d-ea7b-4d5a-fb82-e43668d1ce19"
      },
      "execution_count": 77,
      "outputs": [
        {
          "output_type": "stream",
          "name": "stderr",
          "text": [
            "WARNING:matplotlib.font_manager:findfont: Font family 'Verdana' not found.\n",
            "WARNING:matplotlib.font_manager:findfont: Font family 'Geneva' not found.\n",
            "WARNING:matplotlib.font_manager:findfont: Font family 'Verdana' not found.\n",
            "WARNING:matplotlib.font_manager:findfont: Font family 'Geneva' not found.\n",
            "WARNING:matplotlib.font_manager:findfont: Font family 'Verdana' not found.\n",
            "WARNING:matplotlib.font_manager:findfont: Font family 'Geneva' not found.\n",
            "WARNING:matplotlib.font_manager:findfont: Font family 'Verdana' not found.\n",
            "WARNING:matplotlib.font_manager:findfont: Font family 'Geneva' not found.\n",
            "WARNING:matplotlib.font_manager:findfont: Font family 'Verdana' not found.\n",
            "WARNING:matplotlib.font_manager:findfont: Font family 'Geneva' not found.\n",
            "WARNING:matplotlib.font_manager:findfont: Font family 'Verdana' not found.\n",
            "WARNING:matplotlib.font_manager:findfont: Font family 'Geneva' not found.\n",
            "WARNING:matplotlib.font_manager:findfont: Font family 'Verdana' not found.\n",
            "WARNING:matplotlib.font_manager:findfont: Font family 'Geneva' not found.\n",
            "WARNING:matplotlib.font_manager:findfont: Font family 'Verdana' not found.\n",
            "WARNING:matplotlib.font_manager:findfont: Font family 'Geneva' not found.\n",
            "WARNING:matplotlib.font_manager:findfont: Font family 'Verdana' not found.\n",
            "WARNING:matplotlib.font_manager:findfont: Font family 'Geneva' not found.\n",
            "WARNING:matplotlib.font_manager:findfont: Font family 'Verdana' not found.\n",
            "WARNING:matplotlib.font_manager:findfont: Font family 'Geneva' not found.\n",
            "WARNING:matplotlib.font_manager:findfont: Font family 'Verdana' not found.\n",
            "WARNING:matplotlib.font_manager:findfont: Font family 'Geneva' not found.\n",
            "WARNING:matplotlib.font_manager:findfont: Font family 'Verdana' not found.\n",
            "WARNING:matplotlib.font_manager:findfont: Font family 'Geneva' not found.\n",
            "WARNING:matplotlib.font_manager:findfont: Font family 'Verdana' not found.\n",
            "WARNING:matplotlib.font_manager:findfont: Font family 'Geneva' not found.\n",
            "WARNING:matplotlib.font_manager:findfont: Font family 'Verdana' not found.\n",
            "WARNING:matplotlib.font_manager:findfont: Font family 'Geneva' not found.\n",
            "WARNING:matplotlib.font_manager:findfont: Font family 'Verdana' not found.\n",
            "WARNING:matplotlib.font_manager:findfont: Font family 'Geneva' not found.\n",
            "WARNING:matplotlib.font_manager:findfont: Font family 'Verdana' not found.\n",
            "WARNING:matplotlib.font_manager:findfont: Font family 'Geneva' not found.\n",
            "WARNING:matplotlib.font_manager:findfont: Font family 'Verdana' not found.\n",
            "WARNING:matplotlib.font_manager:findfont: Font family 'Geneva' not found.\n",
            "WARNING:matplotlib.font_manager:findfont: Font family 'Verdana' not found.\n",
            "WARNING:matplotlib.font_manager:findfont: Font family 'Geneva' not found.\n",
            "WARNING:matplotlib.font_manager:findfont: Font family 'Verdana' not found.\n",
            "WARNING:matplotlib.font_manager:findfont: Font family 'Geneva' not found.\n",
            "WARNING:matplotlib.font_manager:findfont: Font family 'Verdana' not found.\n",
            "WARNING:matplotlib.font_manager:findfont: Font family 'Geneva' not found.\n",
            "WARNING:matplotlib.font_manager:findfont: Font family 'Verdana' not found.\n",
            "WARNING:matplotlib.font_manager:findfont: Font family 'Geneva' not found.\n",
            "WARNING:matplotlib.font_manager:findfont: Font family 'Verdana' not found.\n",
            "WARNING:matplotlib.font_manager:findfont: Font family 'Geneva' not found.\n",
            "WARNING:matplotlib.font_manager:findfont: Font family 'Verdana' not found.\n",
            "WARNING:matplotlib.font_manager:findfont: Font family 'Geneva' not found.\n",
            "WARNING:matplotlib.font_manager:findfont: Font family 'Verdana' not found.\n",
            "WARNING:matplotlib.font_manager:findfont: Font family 'Geneva' not found.\n",
            "WARNING:matplotlib.font_manager:findfont: Font family 'Verdana' not found.\n",
            "WARNING:matplotlib.font_manager:findfont: Font family 'Geneva' not found.\n",
            "WARNING:matplotlib.font_manager:findfont: Font family 'Verdana' not found.\n",
            "WARNING:matplotlib.font_manager:findfont: Font family 'Geneva' not found.\n",
            "WARNING:matplotlib.font_manager:findfont: Font family 'Verdana' not found.\n",
            "WARNING:matplotlib.font_manager:findfont: Font family 'Geneva' not found.\n",
            "WARNING:matplotlib.font_manager:findfont: Font family 'Verdana' not found.\n",
            "WARNING:matplotlib.font_manager:findfont: Font family 'Geneva' not found.\n",
            "WARNING:matplotlib.font_manager:findfont: Font family 'Verdana' not found.\n",
            "WARNING:matplotlib.font_manager:findfont: Font family 'Geneva' not found.\n",
            "WARNING:matplotlib.font_manager:findfont: Font family 'Verdana' not found.\n",
            "WARNING:matplotlib.font_manager:findfont: Font family 'Geneva' not found.\n",
            "WARNING:matplotlib.font_manager:findfont: Font family 'Verdana' not found.\n",
            "WARNING:matplotlib.font_manager:findfont: Font family 'Geneva' not found.\n",
            "WARNING:matplotlib.font_manager:findfont: Font family 'Verdana' not found.\n",
            "WARNING:matplotlib.font_manager:findfont: Font family 'Geneva' not found.\n",
            "WARNING:matplotlib.font_manager:findfont: Font family 'Verdana' not found.\n",
            "WARNING:matplotlib.font_manager:findfont: Font family 'Geneva' not found.\n",
            "WARNING:matplotlib.font_manager:findfont: Font family 'Verdana' not found.\n",
            "WARNING:matplotlib.font_manager:findfont: Font family 'Geneva' not found.\n",
            "WARNING:matplotlib.font_manager:findfont: Font family 'Verdana' not found.\n",
            "WARNING:matplotlib.font_manager:findfont: Font family 'Geneva' not found.\n",
            "WARNING:matplotlib.font_manager:findfont: Font family 'Verdana' not found.\n",
            "WARNING:matplotlib.font_manager:findfont: Font family 'Geneva' not found.\n",
            "WARNING:matplotlib.font_manager:findfont: Font family 'Verdana' not found.\n",
            "WARNING:matplotlib.font_manager:findfont: Font family 'Geneva' not found.\n",
            "WARNING:matplotlib.font_manager:findfont: Font family 'Verdana' not found.\n",
            "WARNING:matplotlib.font_manager:findfont: Font family 'Geneva' not found.\n",
            "WARNING:matplotlib.font_manager:findfont: Font family 'Verdana' not found.\n",
            "WARNING:matplotlib.font_manager:findfont: Font family 'Geneva' not found.\n",
            "WARNING:matplotlib.font_manager:findfont: Font family 'Verdana' not found.\n",
            "WARNING:matplotlib.font_manager:findfont: Font family 'Geneva' not found.\n",
            "WARNING:matplotlib.font_manager:findfont: Font family 'Verdana' not found.\n",
            "WARNING:matplotlib.font_manager:findfont: Font family 'Geneva' not found.\n",
            "WARNING:matplotlib.font_manager:findfont: Font family 'Verdana' not found.\n",
            "WARNING:matplotlib.font_manager:findfont: Font family 'Geneva' not found.\n",
            "WARNING:matplotlib.font_manager:findfont: Font family 'Verdana' not found.\n",
            "WARNING:matplotlib.font_manager:findfont: Font family 'Geneva' not found.\n",
            "WARNING:matplotlib.font_manager:findfont: Font family 'Verdana' not found.\n",
            "WARNING:matplotlib.font_manager:findfont: Font family 'Geneva' not found.\n",
            "WARNING:matplotlib.font_manager:findfont: Font family 'Verdana' not found.\n",
            "WARNING:matplotlib.font_manager:findfont: Font family 'Geneva' not found.\n",
            "WARNING:matplotlib.font_manager:findfont: Font family 'Verdana' not found.\n",
            "WARNING:matplotlib.font_manager:findfont: Font family 'Geneva' not found.\n",
            "WARNING:matplotlib.font_manager:findfont: Font family 'Verdana' not found.\n",
            "WARNING:matplotlib.font_manager:findfont: Font family 'Geneva' not found.\n",
            "WARNING:matplotlib.font_manager:findfont: Font family 'Verdana' not found.\n",
            "WARNING:matplotlib.font_manager:findfont: Font family 'Geneva' not found.\n",
            "WARNING:matplotlib.font_manager:findfont: Font family 'Verdana' not found.\n",
            "WARNING:matplotlib.font_manager:findfont: Font family 'Geneva' not found.\n",
            "WARNING:matplotlib.font_manager:findfont: Font family 'Verdana' not found.\n",
            "WARNING:matplotlib.font_manager:findfont: Font family 'Geneva' not found.\n",
            "WARNING:matplotlib.font_manager:findfont: Font family 'Verdana' not found.\n",
            "WARNING:matplotlib.font_manager:findfont: Font family 'Geneva' not found.\n",
            "WARNING:matplotlib.font_manager:findfont: Font family 'Verdana' not found.\n",
            "WARNING:matplotlib.font_manager:findfont: Font family 'Geneva' not found.\n",
            "WARNING:matplotlib.font_manager:findfont: Font family 'Verdana' not found.\n",
            "WARNING:matplotlib.font_manager:findfont: Font family 'Geneva' not found.\n",
            "WARNING:matplotlib.font_manager:findfont: Font family 'Verdana' not found.\n",
            "WARNING:matplotlib.font_manager:findfont: Font family 'Geneva' not found.\n",
            "WARNING:matplotlib.font_manager:findfont: Font family 'Verdana' not found.\n",
            "WARNING:matplotlib.font_manager:findfont: Font family 'Geneva' not found.\n",
            "WARNING:matplotlib.font_manager:findfont: Font family 'Verdana' not found.\n",
            "WARNING:matplotlib.font_manager:findfont: Font family 'Geneva' not found.\n",
            "WARNING:matplotlib.font_manager:findfont: Font family 'Verdana' not found.\n",
            "WARNING:matplotlib.font_manager:findfont: Font family 'Geneva' not found.\n",
            "WARNING:matplotlib.font_manager:findfont: Font family 'Verdana' not found.\n",
            "WARNING:matplotlib.font_manager:findfont: Font family 'Geneva' not found.\n",
            "WARNING:matplotlib.font_manager:findfont: Font family 'Verdana' not found.\n",
            "WARNING:matplotlib.font_manager:findfont: Font family 'Geneva' not found.\n",
            "WARNING:matplotlib.font_manager:findfont: Font family 'Verdana' not found.\n",
            "WARNING:matplotlib.font_manager:findfont: Font family 'Geneva' not found.\n",
            "WARNING:matplotlib.font_manager:findfont: Font family 'Verdana' not found.\n",
            "WARNING:matplotlib.font_manager:findfont: Font family 'Geneva' not found.\n",
            "WARNING:matplotlib.font_manager:findfont: Font family 'Verdana' not found.\n",
            "WARNING:matplotlib.font_manager:findfont: Font family 'Geneva' not found.\n",
            "WARNING:matplotlib.font_manager:findfont: Font family 'Verdana' not found.\n",
            "WARNING:matplotlib.font_manager:findfont: Font family 'Geneva' not found.\n",
            "WARNING:matplotlib.font_manager:findfont: Font family 'Verdana' not found.\n",
            "WARNING:matplotlib.font_manager:findfont: Font family 'Geneva' not found.\n",
            "WARNING:matplotlib.font_manager:findfont: Font family 'Verdana' not found.\n",
            "WARNING:matplotlib.font_manager:findfont: Font family 'Geneva' not found.\n",
            "WARNING:matplotlib.font_manager:findfont: Font family 'Verdana' not found.\n",
            "WARNING:matplotlib.font_manager:findfont: Font family 'Geneva' not found.\n",
            "WARNING:matplotlib.font_manager:findfont: Font family 'Verdana' not found.\n",
            "WARNING:matplotlib.font_manager:findfont: Font family 'Geneva' not found.\n",
            "WARNING:matplotlib.font_manager:findfont: Font family 'Verdana' not found.\n",
            "WARNING:matplotlib.font_manager:findfont: Font family 'Geneva' not found.\n",
            "WARNING:matplotlib.font_manager:findfont: Font family 'Verdana' not found.\n",
            "WARNING:matplotlib.font_manager:findfont: Font family 'Geneva' not found.\n",
            "WARNING:matplotlib.font_manager:findfont: Font family 'Verdana' not found.\n",
            "WARNING:matplotlib.font_manager:findfont: Font family 'Geneva' not found.\n",
            "WARNING:matplotlib.font_manager:findfont: Font family 'Verdana' not found.\n",
            "WARNING:matplotlib.font_manager:findfont: Font family 'Geneva' not found.\n",
            "WARNING:matplotlib.font_manager:findfont: Font family 'Verdana' not found.\n",
            "WARNING:matplotlib.font_manager:findfont: Font family 'Geneva' not found.\n",
            "WARNING:matplotlib.font_manager:findfont: Font family 'Verdana' not found.\n",
            "WARNING:matplotlib.font_manager:findfont: Font family 'Geneva' not found.\n",
            "WARNING:matplotlib.font_manager:findfont: Font family 'Verdana' not found.\n",
            "WARNING:matplotlib.font_manager:findfont: Font family 'Geneva' not found.\n",
            "WARNING:matplotlib.font_manager:findfont: Font family 'Verdana' not found.\n",
            "WARNING:matplotlib.font_manager:findfont: Font family 'Geneva' not found.\n",
            "WARNING:matplotlib.font_manager:findfont: Font family 'Verdana' not found.\n",
            "WARNING:matplotlib.font_manager:findfont: Font family 'Geneva' not found.\n",
            "WARNING:matplotlib.font_manager:findfont: Font family 'Verdana' not found.\n",
            "WARNING:matplotlib.font_manager:findfont: Font family 'Geneva' not found.\n",
            "WARNING:matplotlib.font_manager:findfont: Font family 'Verdana' not found.\n",
            "WARNING:matplotlib.font_manager:findfont: Font family 'Geneva' not found.\n",
            "WARNING:matplotlib.font_manager:findfont: Font family 'Verdana' not found.\n",
            "WARNING:matplotlib.font_manager:findfont: Font family 'Geneva' not found.\n",
            "WARNING:matplotlib.font_manager:findfont: Font family 'Verdana' not found.\n",
            "WARNING:matplotlib.font_manager:findfont: Font family 'Geneva' not found.\n",
            "WARNING:matplotlib.font_manager:findfont: Font family 'Verdana' not found.\n",
            "WARNING:matplotlib.font_manager:findfont: Font family 'Geneva' not found.\n",
            "WARNING:matplotlib.font_manager:findfont: Font family 'Verdana' not found.\n",
            "WARNING:matplotlib.font_manager:findfont: Font family 'Geneva' not found.\n",
            "WARNING:matplotlib.font_manager:findfont: Font family 'Verdana' not found.\n",
            "WARNING:matplotlib.font_manager:findfont: Font family 'Geneva' not found.\n",
            "WARNING:matplotlib.font_manager:findfont: Font family 'Verdana' not found.\n",
            "WARNING:matplotlib.font_manager:findfont: Font family 'Geneva' not found.\n",
            "WARNING:matplotlib.font_manager:findfont: Font family 'Verdana' not found.\n",
            "WARNING:matplotlib.font_manager:findfont: Font family 'Geneva' not found.\n",
            "WARNING:matplotlib.font_manager:findfont: Font family 'Verdana' not found.\n",
            "WARNING:matplotlib.font_manager:findfont: Font family 'Geneva' not found.\n",
            "WARNING:matplotlib.font_manager:findfont: Font family 'Verdana' not found.\n",
            "WARNING:matplotlib.font_manager:findfont: Font family 'Geneva' not found.\n",
            "WARNING:matplotlib.font_manager:findfont: Font family 'Verdana' not found.\n",
            "WARNING:matplotlib.font_manager:findfont: Font family 'Geneva' not found.\n",
            "WARNING:matplotlib.font_manager:findfont: Font family 'Verdana' not found.\n",
            "WARNING:matplotlib.font_manager:findfont: Font family 'Geneva' not found.\n"
          ]
        },
        {
          "output_type": "display_data",
          "data": {
            "text/plain": [
              "<Figure size 720x360 with 1 Axes>"
            ],
            "image/png": "[encoded data removed]"
          },
          "metadata": {}
        }
      ]
    },
    {
      "cell_type": "markdown",
      "source": [
        "Accuracy graph"
      ],
      "metadata": {
        "id": "9UWScEfqoYOB"
      }
    },
    {
      "cell_type": "code",
      "source": [
        "import matplotlib.pyplot as plt\n",
        "\n",
        "loss = model_info_2.history['accuracy']\n",
        "val_loss = model_info_2.history['val_accuracy']\n",
        "epochs = range(1, len(loss)+1)\n",
        "\n",
        "plt.figure(figsize=(10, 5))\n",
        "plt.fill_between(epochs, accuracy, val_accuracy, alpha=0.2)\n",
        "plt.plot(epochs, accuracy, 'bo-', label='Training accuracy')\n",
        "plt.plot(epochs, val_accuracy, 'ro-', label='Validation accuracy')\n",
        "plt.title('Training and Validation accuracy')\n",
        "plt.xlabel('Epochs')\n",
        "plt.ylabel('Accuracy')\n",
        "plt.legend()\n",
        "plt.show()"
      ],
      "metadata": {
        "colab": {
          "base_uri": "https://localhost:8080/",
          "height": 1000
        },
        "id": "rnKzd2fHoLfJ",
        "outputId": "6789ce8e-70d6-4cad-b912-debfd2ff06e5"
      },
      "execution_count": 78,
      "outputs": [
        {
          "output_type": "stream",
          "name": "stderr",
          "text": [
            "WARNING:matplotlib.font_manager:findfont: Font family 'Verdana' not found.\n",
            "WARNING:matplotlib.font_manager:findfont: Font family 'Geneva' not found.\n",
            "WARNING:matplotlib.font_manager:findfont: Font family 'Verdana' not found.\n",
            "WARNING:matplotlib.font_manager:findfont: Font family 'Geneva' not found.\n",
            "WARNING:matplotlib.font_manager:findfont: Font family 'Verdana' not found.\n",
            "WARNING:matplotlib.font_manager:findfont: Font family 'Geneva' not found.\n",
            "WARNING:matplotlib.font_manager:findfont: Font family 'Verdana' not found.\n",
            "WARNING:matplotlib.font_manager:findfont: Font family 'Geneva' not found.\n",
            "WARNING:matplotlib.font_manager:findfont: Font family 'Verdana' not found.\n",
            "WARNING:matplotlib.font_manager:findfont: Font family 'Geneva' not found.\n",
            "WARNING:matplotlib.font_manager:findfont: Font family 'Verdana' not found.\n",
            "WARNING:matplotlib.font_manager:findfont: Font family 'Geneva' not found.\n",
            "WARNING:matplotlib.font_manager:findfont: Font family 'Verdana' not found.\n",
            "WARNING:matplotlib.font_manager:findfont: Font family 'Geneva' not found.\n",
            "WARNING:matplotlib.font_manager:findfont: Font family 'Verdana' not found.\n",
            "WARNING:matplotlib.font_manager:findfont: Font family 'Geneva' not found.\n",
            "WARNING:matplotlib.font_manager:findfont: Font family 'Verdana' not found.\n",
            "WARNING:matplotlib.font_manager:findfont: Font family 'Geneva' not found.\n",
            "WARNING:matplotlib.font_manager:findfont: Font family 'Verdana' not found.\n",
            "WARNING:matplotlib.font_manager:findfont: Font family 'Geneva' not found.\n",
            "WARNING:matplotlib.font_manager:findfont: Font family 'Verdana' not found.\n",
            "WARNING:matplotlib.font_manager:findfont: Font family 'Geneva' not found.\n",
            "WARNING:matplotlib.font_manager:findfont: Font family 'Verdana' not found.\n",
            "WARNING:matplotlib.font_manager:findfont: Font family 'Geneva' not found.\n",
            "WARNING:matplotlib.font_manager:findfont: Font family 'Verdana' not found.\n",
            "WARNING:matplotlib.font_manager:findfont: Font family 'Geneva' not found.\n",
            "WARNING:matplotlib.font_manager:findfont: Font family 'Verdana' not found.\n",
            "WARNING:matplotlib.font_manager:findfont: Font family 'Geneva' not found.\n",
            "WARNING:matplotlib.font_manager:findfont: Font family 'Verdana' not found.\n",
            "WARNING:matplotlib.font_manager:findfont: Font family 'Geneva' not found.\n",
            "WARNING:matplotlib.font_manager:findfont: Font family 'Verdana' not found.\n",
            "WARNING:matplotlib.font_manager:findfont: Font family 'Geneva' not found.\n",
            "WARNING:matplotlib.font_manager:findfont: Font family 'Verdana' not found.\n",
            "WARNING:matplotlib.font_manager:findfont: Font family 'Geneva' not found.\n",
            "WARNING:matplotlib.font_manager:findfont: Font family 'Verdana' not found.\n",
            "WARNING:matplotlib.font_manager:findfont: Font family 'Geneva' not found.\n",
            "WARNING:matplotlib.font_manager:findfont: Font family 'Verdana' not found.\n",
            "WARNING:matplotlib.font_manager:findfont: Font family 'Geneva' not found.\n",
            "WARNING:matplotlib.font_manager:findfont: Font family 'Verdana' not found.\n",
            "WARNING:matplotlib.font_manager:findfont: Font family 'Geneva' not found.\n",
            "WARNING:matplotlib.font_manager:findfont: Font family 'Verdana' not found.\n",
            "WARNING:matplotlib.font_manager:findfont: Font family 'Geneva' not found.\n",
            "WARNING:matplotlib.font_manager:findfont: Font family 'Verdana' not found.\n",
            "WARNING:matplotlib.font_manager:findfont: Font family 'Geneva' not found.\n",
            "WARNING:matplotlib.font_manager:findfont: Font family 'Verdana' not found.\n",
            "WARNING:matplotlib.font_manager:findfont: Font family 'Geneva' not found.\n",
            "WARNING:matplotlib.font_manager:findfont: Font family 'Verdana' not found.\n",
            "WARNING:matplotlib.font_manager:findfont: Font family 'Geneva' not found.\n",
            "WARNING:matplotlib.font_manager:findfont: Font family 'Verdana' not found.\n",
            "WARNING:matplotlib.font_manager:findfont: Font family 'Geneva' not found.\n",
            "WARNING:matplotlib.font_manager:findfont: Font family 'Verdana' not found.\n",
            "WARNING:matplotlib.font_manager:findfont: Font family 'Geneva' not found.\n",
            "WARNING:matplotlib.font_manager:findfont: Font family 'Verdana' not found.\n",
            "WARNING:matplotlib.font_manager:findfont: Font family 'Geneva' not found.\n",
            "WARNING:matplotlib.font_manager:findfont: Font family 'Verdana' not found.\n",
            "WARNING:matplotlib.font_manager:findfont: Font family 'Geneva' not found.\n",
            "WARNING:matplotlib.font_manager:findfont: Font family 'Verdana' not found.\n",
            "WARNING:matplotlib.font_manager:findfont: Font family 'Geneva' not found.\n",
            "WARNING:matplotlib.font_manager:findfont: Font family 'Verdana' not found.\n",
            "WARNING:matplotlib.font_manager:findfont: Font family 'Geneva' not found.\n",
            "WARNING:matplotlib.font_manager:findfont: Font family 'Verdana' not found.\n",
            "WARNING:matplotlib.font_manager:findfont: Font family 'Geneva' not found.\n",
            "WARNING:matplotlib.font_manager:findfont: Font family 'Verdana' not found.\n",
            "WARNING:matplotlib.font_manager:findfont: Font family 'Geneva' not found.\n",
            "WARNING:matplotlib.font_manager:findfont: Font family 'Verdana' not found.\n",
            "WARNING:matplotlib.font_manager:findfont: Font family 'Geneva' not found.\n",
            "WARNING:matplotlib.font_manager:findfont: Font family 'Verdana' not found.\n",
            "WARNING:matplotlib.font_manager:findfont: Font family 'Geneva' not found.\n",
            "WARNING:matplotlib.font_manager:findfont: Font family 'Verdana' not found.\n",
            "WARNING:matplotlib.font_manager:findfont: Font family 'Geneva' not found.\n",
            "WARNING:matplotlib.font_manager:findfont: Font family 'Verdana' not found.\n",
            "WARNING:matplotlib.font_manager:findfont: Font family 'Geneva' not found.\n",
            "WARNING:matplotlib.font_manager:findfont: Font family 'Verdana' not found.\n",
            "WARNING:matplotlib.font_manager:findfont: Font family 'Geneva' not found.\n",
            "WARNING:matplotlib.font_manager:findfont: Font family 'Verdana' not found.\n",
            "WARNING:matplotlib.font_manager:findfont: Font family 'Geneva' not found.\n",
            "WARNING:matplotlib.font_manager:findfont: Font family 'Verdana' not found.\n",
            "WARNING:matplotlib.font_manager:findfont: Font family 'Geneva' not found.\n",
            "WARNING:matplotlib.font_manager:findfont: Font family 'Verdana' not found.\n",
            "WARNING:matplotlib.font_manager:findfont: Font family 'Geneva' not found.\n",
            "WARNING:matplotlib.font_manager:findfont: Font family 'Verdana' not found.\n",
            "WARNING:matplotlib.font_manager:findfont: Font family 'Geneva' not found.\n",
            "WARNING:matplotlib.font_manager:findfont: Font family 'Verdana' not found.\n",
            "WARNING:matplotlib.font_manager:findfont: Font family 'Geneva' not found.\n",
            "WARNING:matplotlib.font_manager:findfont: Font family 'Verdana' not found.\n",
            "WARNING:matplotlib.font_manager:findfont: Font family 'Geneva' not found.\n",
            "WARNING:matplotlib.font_manager:findfont: Font family 'Verdana' not found.\n",
            "WARNING:matplotlib.font_manager:findfont: Font family 'Geneva' not found.\n",
            "WARNING:matplotlib.font_manager:findfont: Font family 'Verdana' not found.\n",
            "WARNING:matplotlib.font_manager:findfont: Font family 'Geneva' not found.\n",
            "WARNING:matplotlib.font_manager:findfont: Font family 'Verdana' not found.\n",
            "WARNING:matplotlib.font_manager:findfont: Font family 'Geneva' not found.\n",
            "WARNING:matplotlib.font_manager:findfont: Font family 'Verdana' not found.\n",
            "WARNING:matplotlib.font_manager:findfont: Font family 'Geneva' not found.\n",
            "WARNING:matplotlib.font_manager:findfont: Font family 'Verdana' not found.\n",
            "WARNING:matplotlib.font_manager:findfont: Font family 'Geneva' not found.\n",
            "WARNING:matplotlib.font_manager:findfont: Font family 'Verdana' not found.\n",
            "WARNING:matplotlib.font_manager:findfont: Font family 'Geneva' not found.\n",
            "WARNING:matplotlib.font_manager:findfont: Font family 'Verdana' not found.\n",
            "WARNING:matplotlib.font_manager:findfont: Font family 'Geneva' not found.\n",
            "WARNING:matplotlib.font_manager:findfont: Font family 'Verdana' not found.\n",
            "WARNING:matplotlib.font_manager:findfont: Font family 'Geneva' not found.\n",
            "WARNING:matplotlib.font_manager:findfont: Font family 'Verdana' not found.\n",
            "WARNING:matplotlib.font_manager:findfont: Font family 'Geneva' not found.\n",
            "WARNING:matplotlib.font_manager:findfont: Font family 'Verdana' not found.\n",
            "WARNING:matplotlib.font_manager:findfont: Font family 'Geneva' not found.\n",
            "WARNING:matplotlib.font_manager:findfont: Font family 'Verdana' not found.\n",
            "WARNING:matplotlib.font_manager:findfont: Font family 'Geneva' not found.\n",
            "WARNING:matplotlib.font_manager:findfont: Font family 'Verdana' not found.\n",
            "WARNING:matplotlib.font_manager:findfont: Font family 'Geneva' not found.\n",
            "WARNING:matplotlib.font_manager:findfont: Font family 'Verdana' not found.\n",
            "WARNING:matplotlib.font_manager:findfont: Font family 'Geneva' not found.\n",
            "WARNING:matplotlib.font_manager:findfont: Font family 'Verdana' not found.\n",
            "WARNING:matplotlib.font_manager:findfont: Font family 'Geneva' not found.\n",
            "WARNING:matplotlib.font_manager:findfont: Font family 'Verdana' not found.\n",
            "WARNING:matplotlib.font_manager:findfont: Font family 'Geneva' not found.\n",
            "WARNING:matplotlib.font_manager:findfont: Font family 'Verdana' not found.\n",
            "WARNING:matplotlib.font_manager:findfont: Font family 'Geneva' not found.\n",
            "WARNING:matplotlib.font_manager:findfont: Font family 'Verdana' not found.\n",
            "WARNING:matplotlib.font_manager:findfont: Font family 'Geneva' not found.\n",
            "WARNING:matplotlib.font_manager:findfont: Font family 'Verdana' not found.\n",
            "WARNING:matplotlib.font_manager:findfont: Font family 'Geneva' not found.\n",
            "WARNING:matplotlib.font_manager:findfont: Font family 'Verdana' not found.\n",
            "WARNING:matplotlib.font_manager:findfont: Font family 'Geneva' not found.\n",
            "WARNING:matplotlib.font_manager:findfont: Font family 'Verdana' not found.\n",
            "WARNING:matplotlib.font_manager:findfont: Font family 'Geneva' not found.\n",
            "WARNING:matplotlib.font_manager:findfont: Font family 'Verdana' not found.\n",
            "WARNING:matplotlib.font_manager:findfont: Font family 'Geneva' not found.\n",
            "WARNING:matplotlib.font_manager:findfont: Font family 'Verdana' not found.\n",
            "WARNING:matplotlib.font_manager:findfont: Font family 'Geneva' not found.\n",
            "WARNING:matplotlib.font_manager:findfont: Font family 'Verdana' not found.\n",
            "WARNING:matplotlib.font_manager:findfont: Font family 'Geneva' not found.\n",
            "WARNING:matplotlib.font_manager:findfont: Font family 'Verdana' not found.\n",
            "WARNING:matplotlib.font_manager:findfont: Font family 'Geneva' not found.\n",
            "WARNING:matplotlib.font_manager:findfont: Font family 'Verdana' not found.\n",
            "WARNING:matplotlib.font_manager:findfont: Font family 'Geneva' not found.\n",
            "WARNING:matplotlib.font_manager:findfont: Font family 'Verdana' not found.\n",
            "WARNING:matplotlib.font_manager:findfont: Font family 'Geneva' not found.\n",
            "WARNING:matplotlib.font_manager:findfont: Font family 'Verdana' not found.\n",
            "WARNING:matplotlib.font_manager:findfont: Font family 'Geneva' not found.\n",
            "WARNING:matplotlib.font_manager:findfont: Font family 'Verdana' not found.\n",
            "WARNING:matplotlib.font_manager:findfont: Font family 'Geneva' not found.\n",
            "WARNING:matplotlib.font_manager:findfont: Font family 'Verdana' not found.\n",
            "WARNING:matplotlib.font_manager:findfont: Font family 'Geneva' not found.\n",
            "WARNING:matplotlib.font_manager:findfont: Font family 'Verdana' not found.\n",
            "WARNING:matplotlib.font_manager:findfont: Font family 'Geneva' not found.\n",
            "WARNING:matplotlib.font_manager:findfont: Font family 'Verdana' not found.\n",
            "WARNING:matplotlib.font_manager:findfont: Font family 'Geneva' not found.\n",
            "WARNING:matplotlib.font_manager:findfont: Font family 'Verdana' not found.\n",
            "WARNING:matplotlib.font_manager:findfont: Font family 'Geneva' not found.\n",
            "WARNING:matplotlib.font_manager:findfont: Font family 'Verdana' not found.\n",
            "WARNING:matplotlib.font_manager:findfont: Font family 'Geneva' not found.\n",
            "WARNING:matplotlib.font_manager:findfont: Font family 'Verdana' not found.\n",
            "WARNING:matplotlib.font_manager:findfont: Font family 'Geneva' not found.\n",
            "WARNING:matplotlib.font_manager:findfont: Font family 'Verdana' not found.\n",
            "WARNING:matplotlib.font_manager:findfont: Font family 'Geneva' not found.\n",
            "WARNING:matplotlib.font_manager:findfont: Font family 'Verdana' not found.\n",
            "WARNING:matplotlib.font_manager:findfont: Font family 'Geneva' not found.\n",
            "WARNING:matplotlib.font_manager:findfont: Font family 'Verdana' not found.\n",
            "WARNING:matplotlib.font_manager:findfont: Font family 'Geneva' not found.\n",
            "WARNING:matplotlib.font_manager:findfont: Font family 'Verdana' not found.\n",
            "WARNING:matplotlib.font_manager:findfont: Font family 'Geneva' not found.\n",
            "WARNING:matplotlib.font_manager:findfont: Font family 'Verdana' not found.\n",
            "WARNING:matplotlib.font_manager:findfont: Font family 'Geneva' not found.\n",
            "WARNING:matplotlib.font_manager:findfont: Font family 'Verdana' not found.\n",
            "WARNING:matplotlib.font_manager:findfont: Font family 'Geneva' not found.\n"
          ]
        },
        {
          "output_type": "display_data",
          "data": {
            "text/plain": [
              "<Figure size 720x360 with 1 Axes>"
            ],
            "image/png": "[encoded data removed]"
          },
          "metadata": {}
        }
      ]
    },
    {
      "cell_type": "markdown",
      "source": [
        "Saving the model"
      ],
      "metadata": {
        "id": "V9sr3LoI9ZAs"
      }
    },
    {
      "cell_type": "code",
      "source": [
        "model_1.save(filepath=\"/content/model1.h5\")"
      ],
      "metadata": {
        "id": "P8VRQSNw9byS"
      },
      "execution_count": 82,
      "outputs": []
    },
    {
      "cell_type": "code",
      "source": [
        "model_2.save(filepath=\"/content/model2.h5\")"
      ],
      "metadata": {
        "id": "GSLOvbdr97A7"
      },
      "execution_count": 83,
      "outputs": []
    },
    {
      "cell_type": "markdown",
      "source": [
        "Loading saved model"
      ],
      "metadata": {
        "id": "fqTzkqmj99-a"
      }
    },
    {
      "cell_type": "code",
      "source": [
        "loaded_model_1 = keras.models.load_model(filepath=\"/content/model1.h5\")"
      ],
      "metadata": {
        "id": "2yFK_vIe99XK"
      },
      "execution_count": 84,
      "outputs": []
    },
    {
      "cell_type": "code",
      "source": [
        "loaded_model_2 = keras.models.load_model(filepath=\"/content/model2.h5\")"
      ],
      "metadata": {
        "id": "DGa70_JT99mp"
      },
      "execution_count": 85,
      "outputs": []
    },
    {
      "cell_type": "markdown",
      "source": [
        "Generating the output"
      ],
      "metadata": {
        "id": "RMCt7zey-J59"
      }
    },
    {
      "cell_type": "markdown",
      "source": [
        "LSTM"
      ],
      "metadata": {
        "id": "aTZJ9Nux-QTM"
      }
    },
    {
      "cell_type": "code",
      "source": [
        "test_values_1 = loaded_model_1.predict([X_te], batch_size=1, verbose=1)"
      ],
      "metadata": {
        "id": "HuHPZE03-I10",
        "colab": {
          "base_uri": "https://localhost:8080/"
        },
        "outputId": "9c2e1dd5-579a-4534-dba9-3444eafd28df"
      },
      "execution_count": 86,
      "outputs": [
        {
          "output_type": "stream",
          "name": "stdout",
          "text": [
            "153164/153164 [==============================] - 523s 3ms/step\n"
          ]
        }
      ]
    },
    {
      "cell_type": "code",
      "source": [
        "sample_submission = pd.read_csv('/content/drive/MyDrive/test.csv/test.csv')\n",
        "test_values_1=pd.DataFrame(test_values_1,columns=['toxic', 'severe_toxic', 'obscene', 'threat', 'insult', 'identity_hate'])\n",
        "submission = pd.DataFrame(sample_submission[\"id\"])\n",
        "combined_submission=pd.concat([submission,test_values_1],axis=1)\n",
        "combined_submission.to_csv('/content/drive/MyDrive/Submission_LSTM.csv', index=False)"
      ],
      "metadata": {
        "id": "Ch-7pv-E-T1M"
      },
      "execution_count": 88,
      "outputs": []
    },
    {
      "cell_type": "markdown",
      "source": [
        "LSTM-CNN"
      ],
      "metadata": {
        "id": "bVdPsFZP-V_e"
      }
    },
    {
      "cell_type": "code",
      "source": [
        "test_values_2 = loaded_model_2.predict([X_te], batch_size=1, verbose=1)"
      ],
      "metadata": {
        "id": "Cp5e9pSI-Xej",
        "colab": {
          "base_uri": "https://localhost:8080/"
        },
        "outputId": "ebcd9a0e-e23a-46f1-c427-62e97e287314"
      },
      "execution_count": 89,
      "outputs": [
        {
          "output_type": "stream",
          "name": "stdout",
          "text": [
            "153164/153164 [==============================] - 576s 4ms/step\n"
          ]
        }
      ]
    },
    {
      "cell_type": "code",
      "source": [
        "sample_submission = pd.read_csv('/content/drive/MyDrive/test.csv/test.csv')\n",
        "test_values_2=pd.DataFrame(test_values_2,columns=['toxic', 'severe_toxic', 'obscene', 'threat', 'insult', 'identity_hate'])\n",
        "submission = pd.DataFrame(sample_submission[\"id\"])\n",
        "combined_submission=pd.concat([submission,test_values_2],axis=1)\n",
        "combined_submission.to_csv('/content/drive/MyDrive/Submission_CNN.csv', index=False)"
      ],
      "metadata": {
        "id": "Wh9OnW9u-XoD"
      },
      "execution_count": 91,
      "outputs": []
    },
    {
      "cell_type": "markdown",
      "source": [
        "Testing the created model"
      ],
      "metadata": {
        "id": "IDqvaoKL-cxG"
      }
    },
    {
      "cell_type": "code",
      "source": [
        "def toxicity_level(string):\n",
        "    new_string = [string]\n",
        "    new_string = tokenizer.texts_to_sequences(new_string)\n",
        "    new_string = pad_sequences(new_string, maxlen=maxpadlen, padding='post')\n",
        "    \n",
        "    prediction = model_1.predict(new_string)\n",
        "    \n",
        "    print(\"Toxicity levels for '{}':\".format(string))\n",
        "    print('Toxic:         {:.0%}'.format(prediction[0][0]))\n",
        "    print('Severe Toxic:  {:.0%}'.format(prediction[0][1]))\n",
        "    print('Obscene:       {:.0%}'.format(prediction[0][2]))\n",
        "    print('Threat:        {:.0%}'.format(prediction[0][3]))\n",
        "    print('Insult:        {:.0%}'.format(prediction[0][4]))\n",
        "    print('Identity Hate: {:.0%}'.format(prediction[0][5]))\n",
        "    print()\n",
        "    \n",
        "    return"
      ],
      "metadata": {
        "id": "MIzPPgO8-f1v"
      },
      "execution_count": 92,
      "outputs": []
    },
    {
      "cell_type": "code",
      "source": [
        "def toxicity_level_2(string):\n",
        "    new_string = [string]\n",
        "    new_string = tokenizer.texts_to_sequences(new_string)\n",
        "    new_string = pad_sequences(new_string, maxlen=maxpadlen, padding='post')\n",
        "    \n",
        "    prediction = model_2.predict(new_string)\n",
        "    \n",
        "    print(\"Toxicity levels for '{}':\".format(string))\n",
        "    print('Toxic:         {:.0%}'.format(prediction[0][0]))\n",
        "    print('Severe Toxic:  {:.0%}'.format(prediction[0][1]))\n",
        "    print('Obscene:       {:.0%}'.format(prediction[0][2]))\n",
        "    print('Threat:        {:.0%}'.format(prediction[0][3]))\n",
        "    print('Insult:        {:.0%}'.format(prediction[0][4]))\n",
        "    print('Identity Hate: {:.0%}'.format(prediction[0][5]))\n",
        "    print()\n",
        "    \n",
        "    return"
      ],
      "metadata": {
        "id": "z1hk2TD1OZVr"
      },
      "execution_count": 93,
      "outputs": []
    },
    {
      "cell_type": "code",
      "source": [
        "toxicity_level('fuck ofF!!')"
      ],
      "metadata": {
        "colab": {
          "base_uri": "https://localhost:8080/"
        },
        "id": "DoQDlCsVorVJ",
        "outputId": "009ef713-c51c-476c-9387-2766658c848f"
      },
      "execution_count": 98,
      "outputs": [
        {
          "output_type": "stream",
          "name": "stdout",
          "text": [
            "1/1 [==============================] - 0s 30ms/step\n",
            "Toxicity levels for 'fuck ofF!!':\n",
            "Toxic:         86%\n",
            "Severe Toxic:  0%\n",
            "Obscene:       13%\n",
            "Threat:        0%\n",
            "Insult:        1%\n",
            "Identity Hate: 0%\n",
            "\n"
          ]
        }
      ]
    },
    {
      "cell_type": "code",
      "source": [
        "toxicity_level_2('fuck ofF!!')"
      ],
      "metadata": {
        "colab": {
          "base_uri": "https://localhost:8080/"
        },
        "id": "dqVKimLCPInN",
        "outputId": "36288faa-d14f-4ef1-d7cd-62dbd3e48991"
      },
      "execution_count": 99,
      "outputs": [
        {
          "output_type": "stream",
          "name": "stdout",
          "text": [
            "1/1 [==============================] - 0s 31ms/step\n",
            "Toxicity levels for 'fuck ofF!!':\n",
            "Toxic:         90%\n",
            "Severe Toxic:  0%\n",
            "Obscene:       9%\n",
            "Threat:        0%\n",
            "Insult:        1%\n",
            "Identity Hate: 0%\n",
            "\n"
          ]
        }
      ]
    },
    {
      "cell_type": "code",
      "source": [
        "toxicity_level_2('get the fuck away from me @sshole!!')"
      ],
      "metadata": {
        "colab": {
          "base_uri": "https://localhost:8080/"
        },
        "id": "XoQu3vmbPlfe",
        "outputId": "6835671d-1754-4878-9445-04983dc299d2"
      },
      "execution_count": 100,
      "outputs": [
        {
          "output_type": "stream",
          "name": "stdout",
          "text": [
            "1/1 [==============================] - 0s 30ms/step\n",
            "Toxicity levels for 'get the fuck away from me @sshole!!':\n",
            "Toxic:         87%\n",
            "Severe Toxic:  0%\n",
            "Obscene:       11%\n",
            "Threat:        0%\n",
            "Insult:        2%\n",
            "Identity Hate: 0%\n",
            "\n"
          ]
        }
      ]
    },
    {
      "cell_type": "code",
      "source": [
        "toxicity_level('get the fuck away from me @sshole!!')"
      ],
      "metadata": {
        "colab": {
          "base_uri": "https://localhost:8080/"
        },
        "id": "NNWJAdkdotlO",
        "outputId": "4f5a59f7-0b27-4a4b-ae42-85d5e8e9e186"
      },
      "execution_count": 101,
      "outputs": [
        {
          "output_type": "stream",
          "name": "stdout",
          "text": [
            "1/1 [==============================] - 0s 29ms/step\n",
            "Toxicity levels for 'get the fuck away from me @sshole!!':\n",
            "Toxic:         80%\n",
            "Severe Toxic:  0%\n",
            "Obscene:       18%\n",
            "Threat:        0%\n",
            "Insult:        2%\n",
            "Identity Hate: 0%\n",
            "\n"
          ]
        }
      ]
    },
    {
      "cell_type": "code",
      "source": [
        "toxicity_level('such an idiot')"
      ],
      "metadata": {
        "colab": {
          "base_uri": "https://localhost:8080/"
        },
        "id": "nruUBp4Q9FC6",
        "outputId": "1dfa0ec0-9434-4e6c-fe94-2e705c8e61d1"
      },
      "execution_count": 104,
      "outputs": [
        {
          "output_type": "stream",
          "name": "stdout",
          "text": [
            "1/1 [==============================] - 0s 32ms/step\n",
            "Toxicity levels for 'such an idiot':\n",
            "Toxic:         79%\n",
            "Severe Toxic:  0%\n",
            "Obscene:       8%\n",
            "Threat:        0%\n",
            "Insult:        13%\n",
            "Identity Hate: 0%\n",
            "\n"
          ]
        }
      ]
    },
    {
      "cell_type": "code",
      "source": [
        "toxicity_level_2('such an idiot')"
      ],
      "metadata": {
        "colab": {
          "base_uri": "https://localhost:8080/"
        },
        "id": "_L0_Q2Hg9ebo",
        "outputId": "ef960867-72cd-4358-e601-aeeef67e61fb"
      },
      "execution_count": 105,
      "outputs": [
        {
          "output_type": "stream",
          "name": "stdout",
          "text": [
            "1/1 [==============================] - 0s 30ms/step\n",
            "Toxicity levels for 'such an idiot':\n",
            "Toxic:         83%\n",
            "Severe Toxic:  0%\n",
            "Obscene:       11%\n",
            "Threat:        0%\n",
            "Insult:        6%\n",
            "Identity Hate: 0%\n",
            "\n"
          ]
        }
      ]
    },
    {
      "cell_type": "code",
      "source": [
        "toxicity_level('worst fucking product ever seen')"
      ],
      "metadata": {
        "colab": {
          "base_uri": "https://localhost:8080/"
        },
        "id": "O0-H6UcI_phk",
        "outputId": "6ffec0a0-a697-47fc-d216-85f5f0c50562"
      },
      "execution_count": 112,
      "outputs": [
        {
          "output_type": "stream",
          "name": "stdout",
          "text": [
            "1/1 [==============================] - 0s 28ms/step\n",
            "Toxicity levels for 'worst fucking product ever seen':\n",
            "Toxic:         79%\n",
            "Severe Toxic:  0%\n",
            "Obscene:       6%\n",
            "Threat:        1%\n",
            "Insult:        14%\n",
            "Identity Hate: 0%\n",
            "\n"
          ]
        }
      ]
    },
    {
      "cell_type": "code",
      "source": [
        "toxicity_level_2('worst fucking product ever seen')"
      ],
      "metadata": {
        "colab": {
          "base_uri": "https://localhost:8080/"
        },
        "id": "I0IrCQgl_wAe",
        "outputId": "497afdae-3dc7-4aa3-f3be-8a1fe37bded8"
      },
      "execution_count": 113,
      "outputs": [
        {
          "output_type": "stream",
          "name": "stdout",
          "text": [
            "1/1 [==============================] - 0s 28ms/step\n",
            "Toxicity levels for 'worst fucking product ever seen':\n",
            "Toxic:         84%\n",
            "Severe Toxic:  0%\n",
            "Obscene:       6%\n",
            "Threat:        1%\n",
            "Insult:        9%\n",
            "Identity Hate: 0%\n",
            "\n"
          ]
        }
      ]
    },
    {
      "cell_type": "code",
      "source": [
        "toxicity_level_2('you bloody moron')"
      ],
      "metadata": {
        "colab": {
          "base_uri": "https://localhost:8080/"
        },
        "id": "xJ4Tg5IABcBH",
        "outputId": "ebd83bd7-49b4-4df4-b466-e6fa6b2577bd"
      },
      "execution_count": 119,
      "outputs": [
        {
          "output_type": "stream",
          "name": "stdout",
          "text": [
            "1/1 [==============================] - 0s 28ms/step\n",
            "Toxicity levels for 'you bloody moron':\n",
            "Toxic:         85%\n",
            "Severe Toxic:  0%\n",
            "Obscene:       10%\n",
            "Threat:        0%\n",
            "Insult:        5%\n",
            "Identity Hate: 0%\n",
            "\n"
          ]
        }
      ]
    },
    {
      "cell_type": "code",
      "source": [
        "toxicity_level('you bloody moron')"
      ],
      "metadata": {
        "colab": {
          "base_uri": "https://localhost:8080/"
        },
        "id": "959yCQBwBrLQ",
        "outputId": "48a5fa0e-ec64-42cf-e7ba-07bc240973ea"
      },
      "execution_count": 120,
      "outputs": [
        {
          "output_type": "stream",
          "name": "stdout",
          "text": [
            "1/1 [==============================] - 0s 31ms/step\n",
            "Toxicity levels for 'you bloody moron':\n",
            "Toxic:         84%\n",
            "Severe Toxic:  0%\n",
            "Obscene:       8%\n",
            "Threat:        0%\n",
            "Insult:        8%\n",
            "Identity Hate: 0%\n",
            "\n"
          ]
        }
      ]
    },
    {
      "cell_type": "code",
      "source": [
        "toxicity_level('ugly and fat dumbass')"
      ],
      "metadata": {
        "colab": {
          "base_uri": "https://localhost:8080/"
        },
        "id": "cu8fiSedDQ8Q",
        "outputId": "e00e3a21-ba46-45b3-e146-e5ed59581bd9"
      },
      "execution_count": 131,
      "outputs": [
        {
          "output_type": "stream",
          "name": "stdout",
          "text": [
            "1/1 [==============================] - 0s 28ms/step\n",
            "Toxicity levels for 'ugly and fat dumbass':\n",
            "Toxic:         77%\n",
            "Severe Toxic:  1%\n",
            "Obscene:       8%\n",
            "Threat:        0%\n",
            "Insult:        13%\n",
            "Identity Hate: 1%\n",
            "\n"
          ]
        }
      ]
    },
    {
      "cell_type": "code",
      "source": [
        "toxicity_level_2('ugly and fat dumbass')"
      ],
      "metadata": {
        "colab": {
          "base_uri": "https://localhost:8080/"
        },
        "id": "wkPSa7TuBvI6",
        "outputId": "bf4fe7d6-7e4e-4238-805f-43fead7b32a1"
      },
      "execution_count": 132,
      "outputs": [
        {
          "output_type": "stream",
          "name": "stdout",
          "text": [
            "1/1 [==============================] - 0s 29ms/step\n",
            "Toxicity levels for 'ugly and fat dumbass':\n",
            "Toxic:         64%\n",
            "Severe Toxic:  2%\n",
            "Obscene:       17%\n",
            "Threat:        1%\n",
            "Insult:        14%\n",
            "Identity Hate: 2%\n",
            "\n"
          ]
        }
      ]
    },
    {
      "cell_type": "code",
      "source": [
        "toxicity_level('fatass bitch')"
      ],
      "metadata": {
        "colab": {
          "base_uri": "https://localhost:8080/"
        },
        "id": "mjw3_slcD1Kq",
        "outputId": "f5ca54d9-2ef2-45cb-f96a-c2d4a2461673"
      },
      "execution_count": 134,
      "outputs": [
        {
          "output_type": "stream",
          "name": "stdout",
          "text": [
            "1/1 [==============================] - 0s 29ms/step\n",
            "Toxicity levels for 'fatass bitch':\n",
            "Toxic:         88%\n",
            "Severe Toxic:  0%\n",
            "Obscene:       10%\n",
            "Threat:        0%\n",
            "Insult:        2%\n",
            "Identity Hate: 0%\n",
            "\n"
          ]
        }
      ]
    },
    {
      "cell_type": "code",
      "source": [
        "toxicity_level_2('fatass bitch')"
      ],
      "metadata": {
        "colab": {
          "base_uri": "https://localhost:8080/"
        },
        "id": "BCi_on68EgSB",
        "outputId": "13259fc9-1192-40de-eae3-e70e6a7027d1"
      },
      "execution_count": 135,
      "outputs": [
        {
          "output_type": "stream",
          "name": "stdout",
          "text": [
            "1/1 [==============================] - 0s 30ms/step\n",
            "Toxicity levels for 'fatass bitch':\n",
            "Toxic:         88%\n",
            "Severe Toxic:  0%\n",
            "Obscene:       10%\n",
            "Threat:        0%\n",
            "Insult:        2%\n",
            "Identity Hate: 0%\n",
            "\n"
          ]
        }
      ]
    },
    {
      "cell_type": "code",
      "source": [
        "toxicity_level('you are so ugly and stupid')"
      ],
      "metadata": {
        "colab": {
          "base_uri": "https://localhost:8080/"
        },
        "id": "e4pebTcbFWNR",
        "outputId": "378d67d1-2610-4418-8f20-d57e60d5d33b"
      },
      "execution_count": 142,
      "outputs": [
        {
          "output_type": "stream",
          "name": "stdout",
          "text": [
            "1/1 [==============================] - 0s 28ms/step\n",
            "Toxicity levels for 'you are so ugly and stupid':\n",
            "Toxic:         76%\n",
            "Severe Toxic:  0%\n",
            "Obscene:       9%\n",
            "Threat:        0%\n",
            "Insult:        15%\n",
            "Identity Hate: 0%\n",
            "\n"
          ]
        }
      ]
    },
    {
      "cell_type": "code",
      "source": [
        "toxicity_level_2('you are so ugly and stupid')"
      ],
      "metadata": {
        "colab": {
          "base_uri": "https://localhost:8080/"
        },
        "id": "Xb1vDmHLEpSP",
        "outputId": "ffd90980-8d1b-41da-da0c-bc31b403bf42"
      },
      "execution_count": 141,
      "outputs": [
        {
          "output_type": "stream",
          "name": "stdout",
          "text": [
            "1/1 [==============================] - 0s 29ms/step\n",
            "Toxicity levels for 'you are so ugly and stupid':\n",
            "Toxic:         79%\n",
            "Severe Toxic:  0%\n",
            "Obscene:       12%\n",
            "Threat:        0%\n",
            "Insult:        9%\n",
            "Identity Hate: 0%\n",
            "\n"
          ]
        }
      ]
    }
  ]
}